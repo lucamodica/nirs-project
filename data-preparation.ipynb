{
 "cells": [
  {
   "cell_type": "markdown",
   "metadata": {},
   "source": [
    "# NIRS (preprocessing)"
   ]
  },
  {
   "cell_type": "code",
   "execution_count": 1,
   "metadata": {},
   "outputs": [],
   "source": [
    "import pandas as pd\n",
    "import numpy as np\n",
    "import pandas as pd\n",
    "import numpy as np\n",
    "import gzip\n",
    "import json\n",
    "import random\n",
    "import sklearn\n",
    "import torch\n",
    "\n",
    "def seed_everything(seed=42):\n",
    "    # Seed the random number generator\n",
    "    random.seed(seed)\n",
    "\n",
    "    # Seed NumPy\n",
    "    np.random.seed(seed)\n",
    "\n",
    "    # Seed scikit-learn\n",
    "    sklearn.utils.check_random_state(seed)\n",
    "\n",
    "    # Seed PyTorch\n",
    "    torch.manual_seed(seed)\n",
    "    torch.cuda.manual_seed(seed)\n",
    "    torch.backends.cudnn.deterministic = True\n",
    "\n",
    "    # Set pandas options\n",
    "    pd.set_option('display.max_columns', None)  # Display all columns in pandas DataFrames\n",
    "    pd.set_option('display.max_rows', None)  # Display all rows in pandas DataFrames\n",
    "    pd.set_option('display.width', None)  # Disable column width restriction\n",
    "    pd.set_option('display.expand_frame_repr', False)  # Prevent line wrapping in pandas DataFrames\n",
    "\n",
    "seed_everything(seed=42)"
   ]
  },
  {
   "cell_type": "code",
   "execution_count": 2,
   "metadata": {},
   "outputs": [],
   "source": [
    "def parse(path):\n",
    "  \"\"\"read the dataset from json\"\"\"\n",
    "  \n",
    "  g = gzip.open(path, 'r')\n",
    "  for l in g:\n",
    "    yield json.loads(l.strip())\n",
    "    \n",
    "def getDF(path):\n",
    "  i = 0\n",
    "  df = {}\n",
    "  for d in parse(path):\n",
    "    df[i] = d\n",
    "    i += 1\n",
    "    \n",
    "  return pd.DataFrame.from_dict(df, orient='index')\n",
    "\n",
    "def count_nan_values(df):\n",
    "    nan_counts = df.isna().sum()\n",
    "    return nan_counts[nan_counts > 0]\n",
    "\n",
    "def count_empty_strings(df):\n",
    "    empty_string_counts = (df == '').sum()\n",
    "    return empty_string_counts[empty_string_counts > 0]\n",
    "\n",
    "def print_shapes(reviews_df, products_df):\n",
    "    print(f\"Reviews df shape: {reviews_df.shape}\")\n",
    "    print(f\"Products df shape: {products_df.shape}\")\n",
    "    \n",
    "def save_data(reviews_df, products_df, reviews_file, products_file):\n",
    "    reviews_df.to_csv(reviews_file, index=False)\n",
    "    products_df.to_csv(products_file, index=False)"
   ]
  },
  {
   "cell_type": "markdown",
   "metadata": {},
   "source": [
    "## Reading data (skip if you already have the sampled data you need)"
   ]
  },
  {
   "cell_type": "code",
   "execution_count": 3,
   "metadata": {},
   "outputs": [],
   "source": [
    "df_reviews = getDF('data/Office_Products_5.json.gz')\n",
    "df_products = getDF('data/meta_Office_Products.json.gz')"
   ]
  },
  {
   "cell_type": "code",
   "execution_count": 4,
   "metadata": {},
   "outputs": [
    {
     "name": "stdout",
     "output_type": "stream",
     "text": [
      "Number of unique products: 27965\n",
      "Number of unique users: 101501\n"
     ]
    }
   ],
   "source": [
    "print(f'Number of unique products: {df_reviews[\"asin\"].nunique()}')\n",
    "print(f'Number of unique users: {df_reviews[\"reviewerID\"].nunique()}')"
   ]
  },
  {
   "cell_type": "code",
   "execution_count": 5,
   "metadata": {},
   "outputs": [
    {
     "name": "stdout",
     "output_type": "stream",
     "text": [
      "Reviews df shape: (800357, 12)\n",
      "Products df shape: (315458, 19)\n"
     ]
    }
   ],
   "source": [
    "print_shapes(df_reviews, df_products)"
   ]
  },
  {
   "cell_type": "code",
   "execution_count": 6,
   "metadata": {},
   "outputs": [
    {
     "data": {
      "text/html": [
       "<div>\n",
       "<style scoped>\n",
       "    .dataframe tbody tr th:only-of-type {\n",
       "        vertical-align: middle;\n",
       "    }\n",
       "\n",
       "    .dataframe tbody tr th {\n",
       "        vertical-align: top;\n",
       "    }\n",
       "\n",
       "    .dataframe thead th {\n",
       "        text-align: right;\n",
       "    }\n",
       "</style>\n",
       "<table border=\"1\" class=\"dataframe\">\n",
       "  <thead>\n",
       "    <tr style=\"text-align: right;\">\n",
       "      <th></th>\n",
       "      <th>overall</th>\n",
       "      <th>verified</th>\n",
       "      <th>reviewTime</th>\n",
       "      <th>reviewerID</th>\n",
       "      <th>asin</th>\n",
       "      <th>style</th>\n",
       "      <th>reviewerName</th>\n",
       "      <th>reviewText</th>\n",
       "      <th>summary</th>\n",
       "      <th>unixReviewTime</th>\n",
       "      <th>vote</th>\n",
       "      <th>image</th>\n",
       "    </tr>\n",
       "  </thead>\n",
       "  <tbody>\n",
       "    <tr>\n",
       "      <th>0</th>\n",
       "      <td>4.0</td>\n",
       "      <td>True</td>\n",
       "      <td>11 7, 2017</td>\n",
       "      <td>A2NIJTYWADLK57</td>\n",
       "      <td>0140503528</td>\n",
       "      <td>{'Format:': ' Board book'}</td>\n",
       "      <td>cotton clay</td>\n",
       "      <td>kids like story BUT while i really wanted a bo...</td>\n",
       "      <td>good story, small size book though</td>\n",
       "      <td>1510012800</td>\n",
       "      <td>NaN</td>\n",
       "      <td>NaN</td>\n",
       "    </tr>\n",
       "    <tr>\n",
       "      <th>1</th>\n",
       "      <td>4.0</td>\n",
       "      <td>True</td>\n",
       "      <td>03 7, 2017</td>\n",
       "      <td>A2827D8EEURMP4</td>\n",
       "      <td>0140503528</td>\n",
       "      <td>{'Format:': ' Hardcover'}</td>\n",
       "      <td>emankcin</td>\n",
       "      <td>Bought this used and it came in great conditio...</td>\n",
       "      <td>Good</td>\n",
       "      <td>1488844800</td>\n",
       "      <td>NaN</td>\n",
       "      <td>NaN</td>\n",
       "    </tr>\n",
       "    <tr>\n",
       "      <th>2</th>\n",
       "      <td>5.0</td>\n",
       "      <td>True</td>\n",
       "      <td>06 25, 2016</td>\n",
       "      <td>APB6087F4J09J</td>\n",
       "      <td>0140503528</td>\n",
       "      <td>{'Format:': ' Board book'}</td>\n",
       "      <td>Starbucks Fan</td>\n",
       "      <td>Every story and book about Corduroy is Fantast...</td>\n",
       "      <td>Best Books for All Children</td>\n",
       "      <td>1466812800</td>\n",
       "      <td>NaN</td>\n",
       "      <td>NaN</td>\n",
       "    </tr>\n",
       "  </tbody>\n",
       "</table>\n",
       "</div>"
      ],
      "text/plain": [
       "   overall  verified   reviewTime      reviewerID        asin                       style   reviewerName                                         reviewText                             summary  unixReviewTime vote image\n",
       "0      4.0      True   11 7, 2017  A2NIJTYWADLK57  0140503528  {'Format:': ' Board book'}    cotton clay  kids like story BUT while i really wanted a bo...  good story, small size book though      1510012800  NaN   NaN\n",
       "1      4.0      True   03 7, 2017  A2827D8EEURMP4  0140503528   {'Format:': ' Hardcover'}       emankcin  Bought this used and it came in great conditio...                                Good      1488844800  NaN   NaN\n",
       "2      5.0      True  06 25, 2016   APB6087F4J09J  0140503528  {'Format:': ' Board book'}  Starbucks Fan  Every story and book about Corduroy is Fantast...         Best Books for All Children      1466812800  NaN   NaN"
      ]
     },
     "execution_count": 6,
     "metadata": {},
     "output_type": "execute_result"
    }
   ],
   "source": [
    "df_reviews.head(3)"
   ]
  },
  {
   "cell_type": "code",
   "execution_count": 7,
   "metadata": {},
   "outputs": [
    {
     "data": {
      "text/html": [
       "<div>\n",
       "<style scoped>\n",
       "    .dataframe tbody tr th:only-of-type {\n",
       "        vertical-align: middle;\n",
       "    }\n",
       "\n",
       "    .dataframe tbody tr th {\n",
       "        vertical-align: top;\n",
       "    }\n",
       "\n",
       "    .dataframe thead th {\n",
       "        text-align: right;\n",
       "    }\n",
       "</style>\n",
       "<table border=\"1\" class=\"dataframe\">\n",
       "  <thead>\n",
       "    <tr style=\"text-align: right;\">\n",
       "      <th></th>\n",
       "      <th>category</th>\n",
       "      <th>tech1</th>\n",
       "      <th>description</th>\n",
       "      <th>fit</th>\n",
       "      <th>title</th>\n",
       "      <th>also_buy</th>\n",
       "      <th>tech2</th>\n",
       "      <th>brand</th>\n",
       "      <th>feature</th>\n",
       "      <th>rank</th>\n",
       "      <th>also_view</th>\n",
       "      <th>main_cat</th>\n",
       "      <th>similar_item</th>\n",
       "      <th>date</th>\n",
       "      <th>price</th>\n",
       "      <th>asin</th>\n",
       "      <th>imageURL</th>\n",
       "      <th>imageURLHighRes</th>\n",
       "      <th>details</th>\n",
       "    </tr>\n",
       "  </thead>\n",
       "  <tbody>\n",
       "    <tr>\n",
       "      <th>0</th>\n",
       "      <td>[Office Products, Office &amp; School Supplies, Ed...</td>\n",
       "      <td>class=\"a-keyvalue prodDetTable\" role=\"present...</td>\n",
       "      <td>[Sequential Spelling is based on the classic O...</td>\n",
       "      <td></td>\n",
       "      <td>Sequential Spelling Level 1 Bundle with Studen...</td>\n",
       "      <td>[]</td>\n",
       "      <td></td>\n",
       "      <td>STL Distributors</td>\n",
       "      <td>[]</td>\n",
       "      <td>[&gt;#439,654 in Office Products (See top 100), &gt;...</td>\n",
       "      <td>[1935943065, 1935943073, B00IJH9Q4M, 002115021...</td>\n",
       "      <td>Office Products</td>\n",
       "      <td>class=\"a-bordered a-horizontal-stripes  a-spa...</td>\n",
       "      <td>August 15, 2014</td>\n",
       "      <td>$32.90</td>\n",
       "      <td>0012624861</td>\n",
       "      <td>[]</td>\n",
       "      <td>[]</td>\n",
       "      <td>NaN</td>\n",
       "    </tr>\n",
       "    <tr>\n",
       "      <th>1</th>\n",
       "      <td>[Office Products, Office &amp;amp; School Supplies...</td>\n",
       "      <td></td>\n",
       "      <td>[Unusual book, , ]</td>\n",
       "      <td></td>\n",
       "      <td>Mathematics, Applications and Concepts, Course...</td>\n",
       "      <td>[]</td>\n",
       "      <td></td>\n",
       "      <td>bailey</td>\n",
       "      <td>[]</td>\n",
       "      <td>3,839,628 in Books (</td>\n",
       "      <td>[]</td>\n",
       "      <td>Books</td>\n",
       "      <td></td>\n",
       "      <td></td>\n",
       "      <td>$8.62</td>\n",
       "      <td>0078652669</td>\n",
       "      <td>[]</td>\n",
       "      <td>[]</td>\n",
       "      <td>NaN</td>\n",
       "    </tr>\n",
       "    <tr>\n",
       "      <th>2</th>\n",
       "      <td>[]</td>\n",
       "      <td>class=\"a-keyvalue prodDetTable\" role=\"present...</td>\n",
       "      <td>[Pearson MyHistoryLab Online Access Code for A...</td>\n",
       "      <td></td>\n",
       "      <td>Pearson MyHistoryLab Online Access Code for Am...</td>\n",
       "      <td>[]</td>\n",
       "      <td></td>\n",
       "      <td>Pearson MyHistoryLab</td>\n",
       "      <td>[Pearson MyHistoryLab Online Access Code for A...</td>\n",
       "      <td>[&gt;#1,925,354 in Office Products (See top 100)]</td>\n",
       "      <td>[]</td>\n",
       "      <td>Office Products</td>\n",
       "      <td></td>\n",
       "      <td>June 21, 2012</td>\n",
       "      <td>$0.99</td>\n",
       "      <td>0136039847</td>\n",
       "      <td>[]</td>\n",
       "      <td>[]</td>\n",
       "      <td>NaN</td>\n",
       "    </tr>\n",
       "  </tbody>\n",
       "</table>\n",
       "</div>"
      ],
      "text/plain": [
       "                                            category                                              tech1                                        description fit                                              title also_buy tech2                 brand                                            feature                                               rank                                          also_view         main_cat                                       similar_item             date   price        asin imageURL imageURLHighRes details\n",
       "0  [Office Products, Office & School Supplies, Ed...   class=\"a-keyvalue prodDetTable\" role=\"present...  [Sequential Spelling is based on the classic O...      Sequential Spelling Level 1 Bundle with Studen...       []            STL Distributors                                                 []  [>#439,654 in Office Products (See top 100), >...  [1935943065, 1935943073, B00IJH9Q4M, 002115021...  Office Products   class=\"a-bordered a-horizontal-stripes  a-spa...  August 15, 2014  $32.90  0012624861       []              []     NaN\n",
       "1  [Office Products, Office &amp; School Supplies...                                                                                    [Unusual book, , ]      Mathematics, Applications and Concepts, Course...       []                      bailey                                                 []                               3,839,628 in Books (                                                 []            Books                                                                       $8.62  0078652669       []              []     NaN\n",
       "2                                                 []   class=\"a-keyvalue prodDetTable\" role=\"present...  [Pearson MyHistoryLab Online Access Code for A...      Pearson MyHistoryLab Online Access Code for Am...       []        Pearson MyHistoryLab  [Pearson MyHistoryLab Online Access Code for A...     [>#1,925,354 in Office Products (See top 100)]                                                 []  Office Products                                                       June 21, 2012   $0.99  0136039847       []              []     NaN"
      ]
     },
     "execution_count": 7,
     "metadata": {},
     "output_type": "execute_result"
    }
   ],
   "source": [
    "df_products.head(3)"
   ]
  },
  {
   "cell_type": "markdown",
   "metadata": {},
   "source": [
    "## Sampling data (skip if you already have the sampled data you need)"
   ]
  },
  {
   "cell_type": "code",
   "execution_count": 8,
   "metadata": {},
   "outputs": [],
   "source": [
    "def sample_data(reviews_df, products_df, min_reviews_count=10, max_users=1000, frac_sampled_products=0.1):\n",
    "    # Sample a subset of users based on the number of reviews they have \n",
    "    user_reviews_count = reviews_df['reviewerID'].value_counts()\n",
    "    selected_users = user_reviews_count[user_reviews_count >= min_reviews_count].index[:max_users]\n",
    "    reviews_subset: pd.DataFrame = reviews_df[reviews_df['reviewerID'].isin(selected_users)]\n",
    "    \n",
    "    # Get all the products reviewed by the selected users\n",
    "    reviewed_products = reviews_subset['asin'].unique()\n",
    "    sampled_products: pd.DataFrame = products_df.sample(frac=frac_sampled_products, random_state=42)\n",
    "    \n",
    "    # Add the missing products that are reviewed\n",
    "    missing_products = set(reviewed_products) - set(sampled_products['asin'])\n",
    "    missing_products_df = products_df[products_df['asin'].isin(missing_products)]\n",
    "    sampled_products = pd.concat([sampled_products, missing_products_df])\n",
    "    \n",
    "    return reviews_subset, sampled_products"
   ]
  },
  {
   "cell_type": "code",
   "execution_count": 9,
   "metadata": {},
   "outputs": [],
   "source": [
    "df_reviews_sampled, df_products_sampled = sample_data(df_reviews, df_products, min_reviews_count=10, frac_sampled_products=0.1)\n",
    "\n",
    "# save sampled data as checkpoint\n",
    "save_data(df_reviews_sampled, df_products_sampled, 'data/reviews_sampled.csv', 'data/products_sampled.csv')"
   ]
  },
  {
   "cell_type": "code",
   "execution_count": 10,
   "metadata": {},
   "outputs": [
    {
     "name": "stdout",
     "output_type": "stream",
     "text": [
      "Reviews df shape: (45779, 12)\n",
      "Products df shape: (44109, 19)\n"
     ]
    }
   ],
   "source": [
    "print_shapes(df_reviews_sampled, df_products_sampled)"
   ]
  },
  {
   "cell_type": "markdown",
   "metadata": {},
   "source": [
    "## Missing values handling / removing irrelevant features"
   ]
  },
  {
   "cell_type": "code",
   "execution_count": 11,
   "metadata": {
    "notebookRunGroups": {
     "groupValue": "1"
    }
   },
   "outputs": [],
   "source": [
    "# optional checkpoint to skip the initial reading and sampling step\n",
    "df_reviews_sampled = pd.read_csv('data/reviews_sampled.csv')\n",
    "df_products_sampled = pd.read_csv('data/products_sampled.csv')\n",
    "\n",
    "df_reviews_cleaned = df_reviews_sampled.copy()\n",
    "df_products_cleaned = df_products_sampled.copy()"
   ]
  },
  {
   "cell_type": "markdown",
   "metadata": {},
   "source": [
    "### Process for reviews dataset"
   ]
  },
  {
   "cell_type": "code",
   "execution_count": 12,
   "metadata": {
    "notebookRunGroups": {
     "groupValue": "1"
    }
   },
   "outputs": [
    {
     "name": "stdout",
     "output_type": "stream",
     "text": [
      "Reviews df shape: (45779, 12)\n",
      "Products df shape: (44109, 19)\n"
     ]
    }
   ],
   "source": [
    "print_shapes(df_reviews_cleaned, df_products_cleaned)"
   ]
  },
  {
   "cell_type": "code",
   "execution_count": 13,
   "metadata": {
    "notebookRunGroups": {
     "groupValue": ""
    }
   },
   "outputs": [],
   "source": [
    "# remove irrelevant columns\n",
    "df_reviews_cleaned.drop(columns=['verified', 'unixReviewTime', 'style', 'image', 'vote'], inplace=True)"
   ]
  },
  {
   "cell_type": "code",
   "execution_count": 14,
   "metadata": {},
   "outputs": [],
   "source": [
    "# fill evential null values in the reviewTime and adapt the date format\n",
    "df_reviews_cleaned['reviewTime'] = pd.to_datetime(df_reviews_cleaned['reviewTime'], errors='coerce')\n",
    "df_reviews_cleaned['reviewTime'] = df_reviews_cleaned['reviewTime'].fillna(pd.Timestamp.min).dt.strftime('%B %d, %Y')"
   ]
  },
  {
   "cell_type": "code",
   "execution_count": 15,
   "metadata": {
    "notebookRunGroups": {
     "groupValue": ""
    }
   },
   "outputs": [],
   "source": [
    "# remove sample with empty reviewer name and reviwer text, since\n",
    "# it's a very small percentage of the dataset\n",
    "df_reviews_cleaned.dropna(subset=['reviewerName', 'reviewText'], inplace=True)"
   ]
  },
  {
   "cell_type": "code",
   "execution_count": 16,
   "metadata": {},
   "outputs": [
    {
     "name": "stdout",
     "output_type": "stream",
     "text": [
      "Total nan values:  overall         0\n",
      "reviewTime      0\n",
      "reviewerID      0\n",
      "asin            0\n",
      "reviewerName    0\n",
      "reviewText      0\n",
      "summary         0\n",
      "dtype: int64\n"
     ]
    }
   ],
   "source": [
    "print(\"Total nan values: \" , df_reviews_cleaned.isna().sum())"
   ]
  },
  {
   "cell_type": "code",
   "execution_count": 17,
   "metadata": {
    "notebookRunGroups": {
     "groupValue": ""
    }
   },
   "outputs": [
    {
     "name": "stdout",
     "output_type": "stream",
     "text": [
      "Reviews df shape: (45710, 7)\n",
      "Products df shape: (44109, 19)\n"
     ]
    }
   ],
   "source": [
    "print_shapes(df_reviews_cleaned, df_products_cleaned)"
   ]
  },
  {
   "cell_type": "markdown",
   "metadata": {},
   "source": [
    "### Process for the product dataset"
   ]
  },
  {
   "cell_type": "code",
   "execution_count": 18,
   "metadata": {},
   "outputs": [
    {
     "name": "stdout",
     "output_type": "stream",
     "text": [
      "Nan values per feature: \n",
      " tech1           11287\n",
      "fit             44104\n",
      "title               3\n",
      "tech2           44070\n",
      "brand             505\n",
      "main_cat          191\n",
      "similar_item    22407\n",
      "date             5068\n",
      "price           16957\n",
      "details           840\n",
      "dtype: int64\n"
     ]
    }
   ],
   "source": [
    "print('Nan values per feature: \\n', count_nan_values(df_products_cleaned))"
   ]
  },
  {
   "cell_type": "code",
   "execution_count": 19,
   "metadata": {},
   "outputs": [],
   "source": [
    "# Replace illegal dates with the oldest possible date format\n",
    "df_products_cleaned['date'] = pd.to_datetime(df_products_cleaned['date'], errors='coerce')\n",
    "df_products_cleaned['date'] = df_products_cleaned['date'].fillna(pd.Timestamp.min).dt.strftime('%B %d, %Y')"
   ]
  },
  {
   "cell_type": "code",
   "execution_count": 20,
   "metadata": {},
   "outputs": [],
   "source": [
    "default_main_cat = 'Office Products'\n",
    "\n",
    "# Fill nan values of main category with 'Office Products', which is the main category in the dataset\n",
    "df_products_cleaned['main_cat'] = df_products_cleaned['main_cat'].fillna(default_main_cat)\n",
    "\n",
    "# Remove rows with main category starting with '<', which are the start of an html tag\n",
    "df_products_cleaned = df_products_cleaned[~df_products_cleaned['main_cat'].str.startswith('<')]"
   ]
  },
  {
   "cell_type": "code",
   "execution_count": 21,
   "metadata": {},
   "outputs": [],
   "source": [
    "# drop the only samples with nan values in title\n",
    "df_products_cleaned.dropna(subset=['title'], inplace=True)"
   ]
  },
  {
   "cell_type": "code",
   "execution_count": 22,
   "metadata": {},
   "outputs": [],
   "source": [
    "# fill the missing vlaues of brands with 'Unknown'\n",
    "df_products_cleaned['brand'] = df_products_cleaned['brand'].fillna('Unknown')"
   ]
  },
  {
   "cell_type": "code",
   "execution_count": 23,
   "metadata": {},
   "outputs": [],
   "source": [
    "# remove useless / irrelevant columns / columns without meaningful data\n",
    "# (details is also irrilevant, as most of the samples has empty json)\n",
    "# we will remove the \"category\" feature for now as well (the one with the list of categories; \n",
    "# we may add it again later if we find a way to use it)\n",
    "cols_to_drop = ['similar_item', 'price', 'details', 'also_view', 'also_buy', \"imageURL\", \"imageURLHighRes\", 'tech1', 'tech2', 'fit', 'category']\n",
    "df_products_cleaned.drop(cols_to_drop, axis=1, inplace=True)"
   ]
  },
  {
   "cell_type": "code",
   "execution_count": 24,
   "metadata": {},
   "outputs": [
    {
     "data": {
      "text/html": [
       "<div>\n",
       "<style scoped>\n",
       "    .dataframe tbody tr th:only-of-type {\n",
       "        vertical-align: middle;\n",
       "    }\n",
       "\n",
       "    .dataframe tbody tr th {\n",
       "        vertical-align: top;\n",
       "    }\n",
       "\n",
       "    .dataframe thead th {\n",
       "        text-align: right;\n",
       "    }\n",
       "</style>\n",
       "<table border=\"1\" class=\"dataframe\">\n",
       "  <thead>\n",
       "    <tr style=\"text-align: right;\">\n",
       "      <th></th>\n",
       "      <th>description</th>\n",
       "      <th>title</th>\n",
       "      <th>brand</th>\n",
       "      <th>feature</th>\n",
       "      <th>rank</th>\n",
       "      <th>main_cat</th>\n",
       "      <th>date</th>\n",
       "      <th>asin</th>\n",
       "    </tr>\n",
       "  </thead>\n",
       "  <tbody>\n",
       "    <tr>\n",
       "      <th>0</th>\n",
       "      <td>['Protect yourself and your RFID card with a S...</td>\n",
       "      <td>Black RFID Blocking ID Badge Holder (Holds 2 C...</td>\n",
       "      <td>Specialist ID</td>\n",
       "      <td>['RFID Blocking 2 Card Holder', 'FIPS 201 Appr...</td>\n",
       "      <td>['&gt;#43,873 in Office Products (See top 100)', ...</td>\n",
       "      <td>Office Products</td>\n",
       "      <td>October 14, 2011</td>\n",
       "      <td>B005VSY1VK</td>\n",
       "    </tr>\n",
       "    <tr>\n",
       "      <th>1</th>\n",
       "      <td>['The Star Wars Moleskine Saga continues in 20...</td>\n",
       "      <td>Moleskine 2015 Star Wars Limited Edition Daily...</td>\n",
       "      <td>Moleskine</td>\n",
       "      <td>[]</td>\n",
       "      <td>[]</td>\n",
       "      <td>Office Products</td>\n",
       "      <td>December 26, 2013</td>\n",
       "      <td>8867323296</td>\n",
       "    </tr>\n",
       "    <tr>\n",
       "      <th>2</th>\n",
       "      <td>['Staples Washable Glue Sticks, Purple, .26 oz...</td>\n",
       "      <td>Staples Washable Glue Sticks, Purple, .26 oz.,...</td>\n",
       "      <td>Staples</td>\n",
       "      <td>[]</td>\n",
       "      <td>['&gt;#161,293 in Office Products (See top 100)',...</td>\n",
       "      <td>Office Products</td>\n",
       "      <td>June 22, 2015</td>\n",
       "      <td>B011LAU4R6</td>\n",
       "    </tr>\n",
       "  </tbody>\n",
       "</table>\n",
       "</div>"
      ],
      "text/plain": [
       "                                         description                                              title          brand                                            feature                                               rank         main_cat               date        asin\n",
       "0  ['Protect yourself and your RFID card with a S...  Black RFID Blocking ID Badge Holder (Holds 2 C...  Specialist ID  ['RFID Blocking 2 Card Holder', 'FIPS 201 Appr...  ['>#43,873 in Office Products (See top 100)', ...  Office Products   October 14, 2011  B005VSY1VK\n",
       "1  ['The Star Wars Moleskine Saga continues in 20...  Moleskine 2015 Star Wars Limited Edition Daily...      Moleskine                                                 []                                                 []  Office Products  December 26, 2013  8867323296\n",
       "2  ['Staples Washable Glue Sticks, Purple, .26 oz...  Staples Washable Glue Sticks, Purple, .26 oz.,...        Staples                                                 []  ['>#161,293 in Office Products (See top 100)',...  Office Products      June 22, 2015  B011LAU4R6"
      ]
     },
     "execution_count": 24,
     "metadata": {},
     "output_type": "execute_result"
    }
   ],
   "source": [
    "df_products_cleaned.head(3)"
   ]
  },
  {
   "cell_type": "code",
   "execution_count": 25,
   "metadata": {},
   "outputs": [
    {
     "name": "stdout",
     "output_type": "stream",
     "text": [
      "Reviews df shape: (45710, 7)\n",
      "Products df shape: (43810, 8)\n"
     ]
    }
   ],
   "source": [
    "print_shapes(df_reviews_cleaned, df_products_cleaned)"
   ]
  },
  {
   "cell_type": "markdown",
   "metadata": {},
   "source": [
    "## Text preprocessing"
   ]
  },
  {
   "cell_type": "code",
   "execution_count": 26,
   "metadata": {},
   "outputs": [],
   "source": [
    "import text_preprocessing as tp\n",
    "\n",
    "df_reviews_text_processed = df_reviews_cleaned.copy()\n",
    "df_products_text_processed = df_products_cleaned.copy()\n",
    "\n",
    "preprocessor = tp.TextPreprocessor()"
   ]
  },
  {
   "cell_type": "code",
   "execution_count": 27,
   "metadata": {},
   "outputs": [],
   "source": [
    "df_reviews_text_processed['summary'] = df_reviews_text_processed['summary'].astype(str)\n",
    "df_reviews_text_processed['summary'] = preprocessor.fit_transform(df_reviews_text_processed['summary'])\n",
    "\n",
    "df_reviews_text_processed = df_reviews_text_processed[df_reviews_text_processed['summary'] != '']"
   ]
  },
  {
   "cell_type": "code",
   "execution_count": 28,
   "metadata": {},
   "outputs": [],
   "source": [
    "df_reviews_text_processed['reviewText'] = df_reviews_text_processed['reviewText'].astype(str)\n",
    "df_reviews_text_processed['reviewText'] = preprocessor.fit_transform(df_reviews_text_processed['reviewText'])\n",
    "\n",
    "df_reviews_text_processed = df_reviews_text_processed[df_reviews_text_processed['reviewText'] != '']"
   ]
  },
  {
   "cell_type": "code",
   "execution_count": 29,
   "metadata": {},
   "outputs": [],
   "source": [
    "df_products_text_processed['description'] = df_products_text_processed['description'].astype(str)\n",
    "df_products_text_processed['description'] = preprocessor.fit_transform(df_products_text_processed['description'])\n",
    "df_products_text_processed['description'] = df_products_text_processed['description'].str[1:-1]\n",
    "\n",
    "df_products_text_processed = df_products_text_processed[df_products_text_processed['description'] != '']"
   ]
  },
  {
   "cell_type": "code",
   "execution_count": 30,
   "metadata": {},
   "outputs": [],
   "source": [
    "# parse the feature column in lists, and then concatenate them together\n",
    "# the prerprocessing will follow\n",
    "df_products_text_processed['feature'] = df_products_text_processed['feature'].astype(str)\n",
    "df_products_text_processed['feature'] = df_products_text_processed['feature'].apply(lambda x: \". \".join(eval(x)).strip())\n",
    "df_products_text_processed['feature'] = preprocessor.fit_transform(df_products_text_processed['feature'])\n",
    "\n",
    "df_products_text_processed = df_products_text_processed[df_products_text_processed['feature'] != '']"
   ]
  },
  {
   "cell_type": "code",
   "execution_count": 31,
   "metadata": {},
   "outputs": [],
   "source": [
    "# preprocess title\n",
    "df_products_text_processed['title'] = df_products_text_processed['title'].astype(str)\n",
    "df_products_text_processed['title'] = preprocessor.fit_transform(df_products_text_processed['title'])"
   ]
  },
  {
   "cell_type": "code",
   "execution_count": 32,
   "metadata": {},
   "outputs": [],
   "source": [
    "# preprocess brand\n",
    "df_products_text_processed[\"brand\"] = preprocessor.fit_transform(df_products_text_processed[\"brand\"])"
   ]
  },
  {
   "cell_type": "markdown",
   "metadata": {},
   "source": [
    "## Handling \"rank\" feature from product dataset"
   ]
  },
  {
   "cell_type": "markdown",
   "metadata": {},
   "source": [
    "We decided just to keep the rank of the product in the office category (the rank will be -1 if the product doen't have a rank in hte Office category)"
   ]
  },
  {
   "cell_type": "code",
   "execution_count": 33,
   "metadata": {},
   "outputs": [],
   "source": [
    "import re\n",
    "\n",
    "df_products_rank_managed = df_products_text_processed.copy()\n",
    "\n",
    "def extract_office_product_rank(rank):\n",
    "    match = re.search(r'>#(\\d+)', rank)\n",
    "    if match and 'Office Products' in rank:\n",
    "        return int(match.group(1))\n",
    "    else:\n",
    "        return -1\n",
    "\n",
    "df_products_rank_managed['rank'] = df_products_rank_managed['rank'].astype(str)\n",
    "df_products_rank_managed['rank'] = df_products_rank_managed['rank'].apply(extract_office_product_rank)"
   ]
  },
  {
   "cell_type": "markdown",
   "metadata": {},
   "source": [
    "## Renaming features"
   ]
  },
  {
   "cell_type": "code",
   "execution_count": 34,
   "metadata": {},
   "outputs": [],
   "source": [
    "df_products_ranaming_cols = df_products_rank_managed.copy()\n",
    "\n",
    "df_products_ranaming_cols.rename(columns={'date': 'productPublishedDate'}, inplace=True)"
   ]
  },
  {
   "cell_type": "markdown",
   "metadata": {},
   "source": [
    "## Remove reviews of products missing in the product dataset"
   ]
  },
  {
   "cell_type": "code",
   "execution_count": 35,
   "metadata": {},
   "outputs": [],
   "source": [
    "df_reviews_product_consistent = df_reviews_text_processed.copy()\n",
    "\n",
    "# Remove reviews of products missing in the product dataset\n",
    "df_reviews_product_consistent = df_reviews_product_consistent[\n",
    "  df_reviews_product_consistent['asin'].isin(df_reviews_product_consistent['asin'])]"
   ]
  },
  {
   "cell_type": "markdown",
   "metadata": {},
   "source": [
    "## One-hot encoding for \"main category\" feature of product"
   ]
  },
  {
   "cell_type": "code",
   "execution_count": 36,
   "metadata": {},
   "outputs": [
    {
     "name": "stdout",
     "output_type": "stream",
     "text": [
      "33\n"
     ]
    },
    {
     "data": {
      "text/html": [
       "<div>\n",
       "<style scoped>\n",
       "    .dataframe tbody tr th:only-of-type {\n",
       "        vertical-align: middle;\n",
       "    }\n",
       "\n",
       "    .dataframe tbody tr th {\n",
       "        vertical-align: top;\n",
       "    }\n",
       "\n",
       "    .dataframe thead th {\n",
       "        text-align: right;\n",
       "    }\n",
       "</style>\n",
       "<table border=\"1\" class=\"dataframe\">\n",
       "  <thead>\n",
       "    <tr style=\"text-align: right;\">\n",
       "      <th></th>\n",
       "      <th>description</th>\n",
       "      <th>title</th>\n",
       "      <th>brand</th>\n",
       "      <th>feature</th>\n",
       "      <th>rank</th>\n",
       "      <th>productPublishedDate</th>\n",
       "      <th>asin</th>\n",
       "      <th>main_cat_All Beauty</th>\n",
       "      <th>main_cat_All Electronics</th>\n",
       "      <th>main_cat_Amazon Home</th>\n",
       "      <th>main_cat_Arts, Crafts &amp; Sewing</th>\n",
       "      <th>main_cat_Arts, Crafts &amp;amp; Sewing</th>\n",
       "      <th>main_cat_Automotive</th>\n",
       "      <th>main_cat_Baby</th>\n",
       "      <th>main_cat_Books</th>\n",
       "      <th>main_cat_Camera &amp; Photo</th>\n",
       "      <th>main_cat_Camera &amp;amp; Photo</th>\n",
       "      <th>main_cat_Car Electronics</th>\n",
       "      <th>main_cat_Cell Phones &amp; Accessories</th>\n",
       "      <th>main_cat_Cell Phones &amp;amp; Accessories</th>\n",
       "      <th>main_cat_Computers</th>\n",
       "      <th>main_cat_Gift Cards</th>\n",
       "      <th>main_cat_Grocery</th>\n",
       "      <th>main_cat_Health &amp; Personal Care</th>\n",
       "      <th>main_cat_Home Audio &amp; Theater</th>\n",
       "      <th>main_cat_Home Audio &amp;amp; Theater</th>\n",
       "      <th>main_cat_Industrial &amp; Scientific</th>\n",
       "      <th>main_cat_Industrial &amp;amp; Scientific</th>\n",
       "      <th>main_cat_Musical Instruments</th>\n",
       "      <th>main_cat_Office Products</th>\n",
       "      <th>main_cat_Pet Supplies</th>\n",
       "      <th>main_cat_Portable Audio &amp; Accessories</th>\n",
       "      <th>main_cat_Software</th>\n",
       "      <th>main_cat_Sports &amp; Outdoors</th>\n",
       "      <th>main_cat_Sports &amp;amp; Outdoors</th>\n",
       "      <th>main_cat_Tools &amp; Home Improvement</th>\n",
       "      <th>main_cat_Tools &amp;amp; Home Improvement</th>\n",
       "      <th>main_cat_Toys &amp; Games</th>\n",
       "      <th>main_cat_Toys &amp;amp; Games</th>\n",
       "      <th>main_cat_Video Games</th>\n",
       "    </tr>\n",
       "  </thead>\n",
       "  <tbody>\n",
       "    <tr>\n",
       "      <th>0</th>\n",
       "      <td>rotect rfid card skimsafe card holder made rig...</td>\n",
       "      <td>black rfid blocking id badge holder hold 2 car...</td>\n",
       "      <td>specialist id</td>\n",
       "      <td>rfid blocking 2 card holder fips 201 approved ...</td>\n",
       "      <td>43</td>\n",
       "      <td>October 14, 2011</td>\n",
       "      <td>B005VSY1VK</td>\n",
       "      <td>0</td>\n",
       "      <td>0</td>\n",
       "      <td>0</td>\n",
       "      <td>0</td>\n",
       "      <td>0</td>\n",
       "      <td>0</td>\n",
       "      <td>0</td>\n",
       "      <td>0</td>\n",
       "      <td>0</td>\n",
       "      <td>0</td>\n",
       "      <td>0</td>\n",
       "      <td>0</td>\n",
       "      <td>0</td>\n",
       "      <td>0</td>\n",
       "      <td>0</td>\n",
       "      <td>0</td>\n",
       "      <td>0</td>\n",
       "      <td>0</td>\n",
       "      <td>0</td>\n",
       "      <td>0</td>\n",
       "      <td>0</td>\n",
       "      <td>0</td>\n",
       "      <td>1</td>\n",
       "      <td>0</td>\n",
       "      <td>0</td>\n",
       "      <td>0</td>\n",
       "      <td>0</td>\n",
       "      <td>0</td>\n",
       "      <td>0</td>\n",
       "      <td>0</td>\n",
       "      <td>0</td>\n",
       "      <td>0</td>\n",
       "      <td>0</td>\n",
       "    </tr>\n",
       "    <tr>\n",
       "      <th>3</th>\n",
       "      <td>xclusive design classi</td>\n",
       "      <td>best abstract fiery floral design mouse pad cu...</td>\n",
       "      <td>luxladymousepad</td>\n",
       "      <td>material made best plastic manufacturing also ...</td>\n",
       "      <td>-1</td>\n",
       "      <td>September 21, 1677</td>\n",
       "      <td>B00KH94VSG</td>\n",
       "      <td>0</td>\n",
       "      <td>0</td>\n",
       "      <td>0</td>\n",
       "      <td>0</td>\n",
       "      <td>0</td>\n",
       "      <td>0</td>\n",
       "      <td>0</td>\n",
       "      <td>0</td>\n",
       "      <td>0</td>\n",
       "      <td>0</td>\n",
       "      <td>0</td>\n",
       "      <td>1</td>\n",
       "      <td>0</td>\n",
       "      <td>0</td>\n",
       "      <td>0</td>\n",
       "      <td>0</td>\n",
       "      <td>0</td>\n",
       "      <td>0</td>\n",
       "      <td>0</td>\n",
       "      <td>0</td>\n",
       "      <td>0</td>\n",
       "      <td>0</td>\n",
       "      <td>0</td>\n",
       "      <td>0</td>\n",
       "      <td>0</td>\n",
       "      <td>0</td>\n",
       "      <td>0</td>\n",
       "      <td>0</td>\n",
       "      <td>0</td>\n",
       "      <td>0</td>\n",
       "      <td>0</td>\n",
       "      <td>0</td>\n",
       "      <td>0</td>\n",
       "    </tr>\n",
       "  </tbody>\n",
       "</table>\n",
       "</div>"
      ],
      "text/plain": [
       "                                         description                                              title            brand                                            feature  rank productPublishedDate        asin  main_cat_All Beauty  main_cat_All Electronics  main_cat_Amazon Home  main_cat_Arts, Crafts & Sewing  main_cat_Arts, Crafts &amp; Sewing  main_cat_Automotive  main_cat_Baby  main_cat_Books  main_cat_Camera & Photo  main_cat_Camera &amp; Photo  main_cat_Car Electronics  main_cat_Cell Phones & Accessories  main_cat_Cell Phones &amp; Accessories  main_cat_Computers  main_cat_Gift Cards  main_cat_Grocery  main_cat_Health & Personal Care  main_cat_Home Audio & Theater  main_cat_Home Audio &amp; Theater  main_cat_Industrial & Scientific  main_cat_Industrial &amp; Scientific  main_cat_Musical Instruments  main_cat_Office Products  main_cat_Pet Supplies  main_cat_Portable Audio & Accessories  main_cat_Software  main_cat_Sports & Outdoors  main_cat_Sports &amp; Outdoors  main_cat_Tools & Home Improvement  main_cat_Tools &amp; Home Improvement  main_cat_Toys & Games  main_cat_Toys &amp; Games  main_cat_Video Games\n",
       "0  rotect rfid card skimsafe card holder made rig...  black rfid blocking id badge holder hold 2 car...    specialist id  rfid blocking 2 card holder fips 201 approved ...    43     October 14, 2011  B005VSY1VK                    0                         0                     0                               0                                   0                    0              0               0                        0                            0                         0                                   0                                       0                   0                    0                 0                                0                              0                                  0                                 0                                     0                             0                         1                      0                                      0                  0                           0                               0                                  0                                      0                      0                          0                     0\n",
       "3                             xclusive design classi  best abstract fiery floral design mouse pad cu...  luxladymousepad  material made best plastic manufacturing also ...    -1   September 21, 1677  B00KH94VSG                    0                         0                     0                               0                                   0                    0              0               0                        0                            0                         0                                   1                                       0                   0                    0                 0                                0                              0                                  0                                 0                                     0                             0                         0                      0                                      0                  0                           0                               0                                  0                                      0                      0                          0                     0"
      ]
     },
     "execution_count": 36,
     "metadata": {},
     "output_type": "execute_result"
    }
   ],
   "source": [
    "df_products_main_cat_onehot = df_products_ranaming_cols.copy()\n",
    "\n",
    "print(df_products_main_cat_onehot[\"main_cat\"].nunique())\n",
    "\n",
    "df_products_main_cat_onehot = pd.get_dummies(df_products_main_cat_onehot, columns=['main_cat'], prefix='main_cat')\n",
    "\n",
    "# Convert the one-hot encoded features to integer\n",
    "one_hot_columns = [col for col in df_products_main_cat_onehot.columns if col.startswith('main_cat_')]\n",
    "df_products_main_cat_onehot[one_hot_columns] = df_products_main_cat_onehot[one_hot_columns].astype(int)\n",
    "\n",
    "df_products_main_cat_onehot.head(2)"
   ]
  },
  {
   "cell_type": "markdown",
   "metadata": {},
   "source": [
    "## Managing dates for products"
   ]
  },
  {
   "cell_type": "code",
   "execution_count": 37,
   "metadata": {},
   "outputs": [
    {
     "name": "stdout",
     "output_type": "stream",
     "text": [
      "most recent date: 2019-01-14 00:00:00\n",
      "most oudated date: 1941-12-07 00:00:00\n"
     ]
    },
    {
     "data": {
      "text/html": [
       "<div>\n",
       "<style scoped>\n",
       "    .dataframe tbody tr th:only-of-type {\n",
       "        vertical-align: middle;\n",
       "    }\n",
       "\n",
       "    .dataframe tbody tr th {\n",
       "        vertical-align: top;\n",
       "    }\n",
       "\n",
       "    .dataframe thead th {\n",
       "        text-align: right;\n",
       "    }\n",
       "</style>\n",
       "<table border=\"1\" class=\"dataframe\">\n",
       "  <thead>\n",
       "    <tr style=\"text-align: right;\">\n",
       "      <th></th>\n",
       "      <th>description</th>\n",
       "      <th>title</th>\n",
       "      <th>brand</th>\n",
       "      <th>feature</th>\n",
       "      <th>rank</th>\n",
       "      <th>productPublishedDate</th>\n",
       "      <th>asin</th>\n",
       "      <th>main_cat_All Beauty</th>\n",
       "      <th>main_cat_All Electronics</th>\n",
       "      <th>main_cat_Amazon Home</th>\n",
       "      <th>main_cat_Arts, Crafts &amp; Sewing</th>\n",
       "      <th>main_cat_Arts, Crafts &amp;amp; Sewing</th>\n",
       "      <th>main_cat_Automotive</th>\n",
       "      <th>main_cat_Baby</th>\n",
       "      <th>main_cat_Books</th>\n",
       "      <th>main_cat_Camera &amp; Photo</th>\n",
       "      <th>main_cat_Camera &amp;amp; Photo</th>\n",
       "      <th>main_cat_Car Electronics</th>\n",
       "      <th>main_cat_Cell Phones &amp; Accessories</th>\n",
       "      <th>main_cat_Cell Phones &amp;amp; Accessories</th>\n",
       "      <th>main_cat_Computers</th>\n",
       "      <th>main_cat_Gift Cards</th>\n",
       "      <th>main_cat_Grocery</th>\n",
       "      <th>main_cat_Health &amp; Personal Care</th>\n",
       "      <th>main_cat_Home Audio &amp; Theater</th>\n",
       "      <th>main_cat_Home Audio &amp;amp; Theater</th>\n",
       "      <th>main_cat_Industrial &amp; Scientific</th>\n",
       "      <th>main_cat_Industrial &amp;amp; Scientific</th>\n",
       "      <th>main_cat_Musical Instruments</th>\n",
       "      <th>main_cat_Office Products</th>\n",
       "      <th>main_cat_Pet Supplies</th>\n",
       "      <th>main_cat_Portable Audio &amp; Accessories</th>\n",
       "      <th>main_cat_Software</th>\n",
       "      <th>main_cat_Sports &amp; Outdoors</th>\n",
       "      <th>main_cat_Sports &amp;amp; Outdoors</th>\n",
       "      <th>main_cat_Tools &amp; Home Improvement</th>\n",
       "      <th>main_cat_Tools &amp;amp; Home Improvement</th>\n",
       "      <th>main_cat_Toys &amp; Games</th>\n",
       "      <th>main_cat_Toys &amp;amp; Games</th>\n",
       "      <th>main_cat_Video Games</th>\n",
       "      <th>dayDifferenceProduct</th>\n",
       "    </tr>\n",
       "  </thead>\n",
       "  <tbody>\n",
       "    <tr>\n",
       "      <th>0</th>\n",
       "      <td>rotect rfid card skimsafe card holder made rig...</td>\n",
       "      <td>black rfid blocking id badge holder hold 2 car...</td>\n",
       "      <td>specialist id</td>\n",
       "      <td>rfid blocking 2 card holder fips 201 approved ...</td>\n",
       "      <td>43</td>\n",
       "      <td>October 14, 2011</td>\n",
       "      <td>B005VSY1VK</td>\n",
       "      <td>0</td>\n",
       "      <td>0</td>\n",
       "      <td>0</td>\n",
       "      <td>0</td>\n",
       "      <td>0</td>\n",
       "      <td>0</td>\n",
       "      <td>0</td>\n",
       "      <td>0</td>\n",
       "      <td>0</td>\n",
       "      <td>0</td>\n",
       "      <td>0</td>\n",
       "      <td>0</td>\n",
       "      <td>0</td>\n",
       "      <td>0</td>\n",
       "      <td>0</td>\n",
       "      <td>0</td>\n",
       "      <td>0</td>\n",
       "      <td>0</td>\n",
       "      <td>0</td>\n",
       "      <td>0</td>\n",
       "      <td>0</td>\n",
       "      <td>0</td>\n",
       "      <td>1</td>\n",
       "      <td>0</td>\n",
       "      <td>0</td>\n",
       "      <td>0</td>\n",
       "      <td>0</td>\n",
       "      <td>0</td>\n",
       "      <td>0</td>\n",
       "      <td>0</td>\n",
       "      <td>0</td>\n",
       "      <td>0</td>\n",
       "      <td>0</td>\n",
       "      <td>0.767283</td>\n",
       "    </tr>\n",
       "    <tr>\n",
       "      <th>3</th>\n",
       "      <td>xclusive design classi</td>\n",
       "      <td>best abstract fiery floral design mouse pad cu...</td>\n",
       "      <td>luxladymousepad</td>\n",
       "      <td>material made best plastic manufacturing also ...</td>\n",
       "      <td>-1</td>\n",
       "      <td>September 21, 1677</td>\n",
       "      <td>B00KH94VSG</td>\n",
       "      <td>0</td>\n",
       "      <td>0</td>\n",
       "      <td>0</td>\n",
       "      <td>0</td>\n",
       "      <td>0</td>\n",
       "      <td>0</td>\n",
       "      <td>0</td>\n",
       "      <td>0</td>\n",
       "      <td>0</td>\n",
       "      <td>0</td>\n",
       "      <td>0</td>\n",
       "      <td>1</td>\n",
       "      <td>0</td>\n",
       "      <td>0</td>\n",
       "      <td>0</td>\n",
       "      <td>0</td>\n",
       "      <td>0</td>\n",
       "      <td>0</td>\n",
       "      <td>0</td>\n",
       "      <td>0</td>\n",
       "      <td>0</td>\n",
       "      <td>0</td>\n",
       "      <td>0</td>\n",
       "      <td>0</td>\n",
       "      <td>0</td>\n",
       "      <td>0</td>\n",
       "      <td>0</td>\n",
       "      <td>0</td>\n",
       "      <td>0</td>\n",
       "      <td>0</td>\n",
       "      <td>0</td>\n",
       "      <td>0</td>\n",
       "      <td>0</td>\n",
       "      <td>0.059833</td>\n",
       "    </tr>\n",
       "  </tbody>\n",
       "</table>\n",
       "</div>"
      ],
      "text/plain": [
       "                                         description                                              title            brand                                            feature  rank productPublishedDate        asin  main_cat_All Beauty  main_cat_All Electronics  main_cat_Amazon Home  main_cat_Arts, Crafts & Sewing  main_cat_Arts, Crafts &amp; Sewing  main_cat_Automotive  main_cat_Baby  main_cat_Books  main_cat_Camera & Photo  main_cat_Camera &amp; Photo  main_cat_Car Electronics  main_cat_Cell Phones & Accessories  main_cat_Cell Phones &amp; Accessories  main_cat_Computers  main_cat_Gift Cards  main_cat_Grocery  main_cat_Health & Personal Care  main_cat_Home Audio & Theater  main_cat_Home Audio &amp; Theater  main_cat_Industrial & Scientific  main_cat_Industrial &amp; Scientific  main_cat_Musical Instruments  main_cat_Office Products  main_cat_Pet Supplies  main_cat_Portable Audio & Accessories  main_cat_Software  main_cat_Sports & Outdoors  main_cat_Sports &amp; Outdoors  main_cat_Tools & Home Improvement  main_cat_Tools &amp; Home Improvement  main_cat_Toys & Games  main_cat_Toys &amp; Games  main_cat_Video Games  dayDifferenceProduct\n",
       "0  rotect rfid card skimsafe card holder made rig...  black rfid blocking id badge holder hold 2 car...    specialist id  rfid blocking 2 card holder fips 201 approved ...    43     October 14, 2011  B005VSY1VK                    0                         0                     0                               0                                   0                    0              0               0                        0                            0                         0                                   0                                       0                   0                    0                 0                                0                              0                                  0                                 0                                     0                             0                         1                      0                                      0                  0                           0                               0                                  0                                      0                      0                          0                     0              0.767283\n",
       "3                             xclusive design classi  best abstract fiery floral design mouse pad cu...  luxladymousepad  material made best plastic manufacturing also ...    -1   September 21, 1677  B00KH94VSG                    0                         0                     0                               0                                   0                    0              0               0                        0                            0                         0                                   1                                       0                   0                    0                 0                                0                              0                                  0                                 0                                     0                             0                         0                      0                                      0                  0                           0                               0                                  0                                      0                      0                          0                     0              0.059833"
      ]
     },
     "execution_count": 37,
     "metadata": {},
     "output_type": "execute_result"
    }
   ],
   "source": [
    "df_products_dates_managed = df_products_main_cat_onehot.copy()\n",
    "\n",
    "#get the most recent date - first need to convert the date to datetime, it is in this format: October 14, 2011 or Unknown\n",
    "def exponential_decay(time_diff, decay_rate=0.0001):\n",
    "    return np.exp(-decay_rate * time_diff)\n",
    "\n",
    "dates = df_products_dates_managed['productPublishedDate'].apply(lambda x: pd.to_datetime(x, errors='coerce'))\n",
    "most_recent_date = dates.max()\n",
    "most_outdated_date = dates.min()\n",
    "print(\"most recent date:\", most_recent_date)\n",
    "print(\"most oudated date:\", most_outdated_date)\n",
    "\n",
    "#create a new column where if the date is Unknown, it will be the most outdated date, otherwise it will be the difference between the most recent date and the date of the product\n",
    "df_products_dates_managed['dayDifferenceProduct'] = dates.apply(lambda x: (most_recent_date - x).days if pd.notnull(x) else (most_recent_date - most_outdated_date).days)\n",
    "\n",
    "#apply a function to the day difference so a bigger day difference gives a \n",
    "# low value and a smaller day difference gives a high value\n",
    "df_products_dates_managed['dayDifferenceProduct'] = df_products_dates_managed['dayDifferenceProduct'].apply(exponential_decay)\n",
    "df_products_dates_managed.head(2)"
   ]
  },
  {
   "cell_type": "markdown",
   "metadata": {},
   "source": [
    "## Managing dates for reviews"
   ]
  },
  {
   "cell_type": "code",
   "execution_count": 38,
   "metadata": {},
   "outputs": [
    {
     "name": "stdout",
     "output_type": "stream",
     "text": [
      "reviews: most recent date: 2018-09-22 00:00:00\n",
      "reviews: most oudated date: 2000-09-18 00:00:00\n"
     ]
    },
    {
     "data": {
      "text/html": [
       "<div>\n",
       "<style scoped>\n",
       "    .dataframe tbody tr th:only-of-type {\n",
       "        vertical-align: middle;\n",
       "    }\n",
       "\n",
       "    .dataframe tbody tr th {\n",
       "        vertical-align: top;\n",
       "    }\n",
       "\n",
       "    .dataframe thead th {\n",
       "        text-align: right;\n",
       "    }\n",
       "</style>\n",
       "<table border=\"1\" class=\"dataframe\">\n",
       "  <thead>\n",
       "    <tr style=\"text-align: right;\">\n",
       "      <th></th>\n",
       "      <th>overall</th>\n",
       "      <th>reviewTime</th>\n",
       "      <th>reviewerID</th>\n",
       "      <th>asin</th>\n",
       "      <th>reviewerName</th>\n",
       "      <th>reviewText</th>\n",
       "      <th>summary</th>\n",
       "      <th>dayDifferenceReview</th>\n",
       "    </tr>\n",
       "  </thead>\n",
       "  <tbody>\n",
       "    <tr>\n",
       "      <th>0</th>\n",
       "      <td>5.0</td>\n",
       "      <td>June 02, 2015</td>\n",
       "      <td>A1HBTW5M7ZZ9PT</td>\n",
       "      <td>0310818621</td>\n",
       "      <td>FTLOE</td>\n",
       "      <td>absolutely love organizer never one figured wa...</td>\n",
       "      <td>super good deal</td>\n",
       "      <td>0.886211</td>\n",
       "    </tr>\n",
       "    <tr>\n",
       "      <th>1</th>\n",
       "      <td>5.0</td>\n",
       "      <td>March 21, 2014</td>\n",
       "      <td>A2F0F4NB6BLGVX</td>\n",
       "      <td>0310823706</td>\n",
       "      <td>Lee</td>\n",
       "      <td>good bible carrier large print bible afraid wo...</td>\n",
       "      <td>leatherlook bible carrier</td>\n",
       "      <td>0.848233</td>\n",
       "    </tr>\n",
       "  </tbody>\n",
       "</table>\n",
       "</div>"
      ],
      "text/plain": [
       "   overall      reviewTime      reviewerID        asin reviewerName                                         reviewText                    summary  dayDifferenceReview\n",
       "0      5.0   June 02, 2015  A1HBTW5M7ZZ9PT  0310818621        FTLOE  absolutely love organizer never one figured wa...            super good deal             0.886211\n",
       "1      5.0  March 21, 2014  A2F0F4NB6BLGVX  0310823706          Lee  good bible carrier large print bible afraid wo...  leatherlook bible carrier             0.848233"
      ]
     },
     "execution_count": 38,
     "metadata": {},
     "output_type": "execute_result"
    }
   ],
   "source": [
    "df_reviews_dates_managed = df_reviews_product_consistent.copy()\n",
    "\n",
    "rev_dates = df_reviews_cleaned['reviewTime'].apply(lambda x: pd.to_datetime(x, errors='coerce'))\n",
    "\n",
    "\n",
    "rev_most_recent_date = rev_dates.max()\n",
    "rev_most_outdated_date = rev_dates.min()\n",
    "print(\"reviews: most recent date:\", rev_most_recent_date)\n",
    "print(\"reviews: most oudated date:\", rev_most_outdated_date)\n",
    "\n",
    "df_reviews_dates_managed['dayDifferenceReview'] = rev_dates.apply(lambda x: (rev_most_recent_date - x).days if pd.notnull(x) else (rev_most_recent_date - rev_most_outdated_date).days)\n",
    "df_reviews_dates_managed['dayDifferenceReview'] = df_reviews_dates_managed['dayDifferenceReview'].apply(exponential_decay)\n",
    "df_reviews_dates_managed.head(2)"
   ]
  },
  {
   "cell_type": "markdown",
   "metadata": {},
   "source": [
    "## Merge products and reviews dataset"
   ]
  },
  {
   "cell_type": "markdown",
   "metadata": {},
   "source": [
    "the following dataset (`merged_df`) will be the actual data used in NCF. This since, other than the reviews themselves, It just contains the related products information with which the users interacted already."
   ]
  },
  {
   "cell_type": "code",
   "execution_count": 39,
   "metadata": {},
   "outputs": [],
   "source": [
    "df_reviews_final = df_reviews_dates_managed.copy()\n",
    "df_products_final = df_products_dates_managed.copy()\n",
    "\n",
    "merged_df = df_reviews_final.merge(df_products_final, on='asin', how='inner')"
   ]
  },
  {
   "cell_type": "markdown",
   "metadata": {},
   "source": [
    "## Create a separate dataset for unreviewed products (item with no interaction)"
   ]
  },
  {
   "cell_type": "code",
   "execution_count": 40,
   "metadata": {},
   "outputs": [],
   "source": [
    "unreviewed_products_df = df_products_final[~df_products_final['asin'].isin(df_reviews_final['asin'])]"
   ]
  },
  {
   "cell_type": "markdown",
   "metadata": {},
   "source": [
    "## Save the prepared data"
   ]
  },
  {
   "cell_type": "code",
   "execution_count": 41,
   "metadata": {},
   "outputs": [
    {
     "data": {
      "text/html": [
       "<div>\n",
       "<style scoped>\n",
       "    .dataframe tbody tr th:only-of-type {\n",
       "        vertical-align: middle;\n",
       "    }\n",
       "\n",
       "    .dataframe tbody tr th {\n",
       "        vertical-align: top;\n",
       "    }\n",
       "\n",
       "    .dataframe thead th {\n",
       "        text-align: right;\n",
       "    }\n",
       "</style>\n",
       "<table border=\"1\" class=\"dataframe\">\n",
       "  <thead>\n",
       "    <tr style=\"text-align: right;\">\n",
       "      <th></th>\n",
       "      <th>overall</th>\n",
       "      <th>reviewTime</th>\n",
       "      <th>reviewerID</th>\n",
       "      <th>asin</th>\n",
       "      <th>reviewerName</th>\n",
       "      <th>reviewText</th>\n",
       "      <th>summary</th>\n",
       "      <th>dayDifferenceReview</th>\n",
       "      <th>description</th>\n",
       "      <th>title</th>\n",
       "      <th>brand</th>\n",
       "      <th>feature</th>\n",
       "      <th>rank</th>\n",
       "      <th>productPublishedDate</th>\n",
       "      <th>main_cat_All Beauty</th>\n",
       "      <th>main_cat_All Electronics</th>\n",
       "      <th>main_cat_Amazon Home</th>\n",
       "      <th>main_cat_Arts, Crafts &amp; Sewing</th>\n",
       "      <th>main_cat_Arts, Crafts &amp;amp; Sewing</th>\n",
       "      <th>main_cat_Automotive</th>\n",
       "      <th>main_cat_Baby</th>\n",
       "      <th>main_cat_Books</th>\n",
       "      <th>main_cat_Camera &amp; Photo</th>\n",
       "      <th>main_cat_Camera &amp;amp; Photo</th>\n",
       "      <th>main_cat_Car Electronics</th>\n",
       "      <th>main_cat_Cell Phones &amp; Accessories</th>\n",
       "      <th>main_cat_Cell Phones &amp;amp; Accessories</th>\n",
       "      <th>main_cat_Computers</th>\n",
       "      <th>main_cat_Gift Cards</th>\n",
       "      <th>main_cat_Grocery</th>\n",
       "      <th>main_cat_Health &amp; Personal Care</th>\n",
       "      <th>main_cat_Home Audio &amp; Theater</th>\n",
       "      <th>main_cat_Home Audio &amp;amp; Theater</th>\n",
       "      <th>main_cat_Industrial &amp; Scientific</th>\n",
       "      <th>main_cat_Industrial &amp;amp; Scientific</th>\n",
       "      <th>main_cat_Musical Instruments</th>\n",
       "      <th>main_cat_Office Products</th>\n",
       "      <th>main_cat_Pet Supplies</th>\n",
       "      <th>main_cat_Portable Audio &amp; Accessories</th>\n",
       "      <th>main_cat_Software</th>\n",
       "      <th>main_cat_Sports &amp; Outdoors</th>\n",
       "      <th>main_cat_Sports &amp;amp; Outdoors</th>\n",
       "      <th>main_cat_Tools &amp; Home Improvement</th>\n",
       "      <th>main_cat_Tools &amp;amp; Home Improvement</th>\n",
       "      <th>main_cat_Toys &amp; Games</th>\n",
       "      <th>main_cat_Toys &amp;amp; Games</th>\n",
       "      <th>main_cat_Video Games</th>\n",
       "      <th>dayDifferenceProduct</th>\n",
       "    </tr>\n",
       "  </thead>\n",
       "  <tbody>\n",
       "    <tr>\n",
       "      <th>0</th>\n",
       "      <td>5.0</td>\n",
       "      <td>April 09, 2016</td>\n",
       "      <td>A2GIQGI2UXOZ4M</td>\n",
       "      <td>0439893577</td>\n",
       "      <td>Gene Sechrest</td>\n",
       "      <td>job big enough purpose fold flat fold stand gr...</td>\n",
       "      <td>ultimate kid magnetic board</td>\n",
       "      <td>0.914297</td>\n",
       "      <td>agnetic tabletop learning easel one simplestye...</td>\n",
       "      <td>little red tool box magnetic tabletop learning...</td>\n",
       "      <td>scholastic</td>\n",
       "      <td>fold flat easy storage open reveal giant 12 x ...</td>\n",
       "      <td>21</td>\n",
       "      <td>November 25, 2006</td>\n",
       "      <td>0</td>\n",
       "      <td>0</td>\n",
       "      <td>0</td>\n",
       "      <td>0</td>\n",
       "      <td>0</td>\n",
       "      <td>0</td>\n",
       "      <td>0</td>\n",
       "      <td>0</td>\n",
       "      <td>0</td>\n",
       "      <td>0</td>\n",
       "      <td>0</td>\n",
       "      <td>0</td>\n",
       "      <td>0</td>\n",
       "      <td>0</td>\n",
       "      <td>0</td>\n",
       "      <td>0</td>\n",
       "      <td>0</td>\n",
       "      <td>0</td>\n",
       "      <td>0</td>\n",
       "      <td>0</td>\n",
       "      <td>0</td>\n",
       "      <td>0</td>\n",
       "      <td>1</td>\n",
       "      <td>0</td>\n",
       "      <td>0</td>\n",
       "      <td>0</td>\n",
       "      <td>0</td>\n",
       "      <td>0</td>\n",
       "      <td>0</td>\n",
       "      <td>0</td>\n",
       "      <td>0</td>\n",
       "      <td>0</td>\n",
       "      <td>0</td>\n",
       "      <td>0.641915</td>\n",
       "    </tr>\n",
       "    <tr>\n",
       "      <th>1</th>\n",
       "      <td>5.0</td>\n",
       "      <td>October 27, 2017</td>\n",
       "      <td>A2M13JN7YVG29U</td>\n",
       "      <td>0528960911</td>\n",
       "      <td>Stacie Baugh</td>\n",
       "      <td>love</td>\n",
       "      <td>five star</td>\n",
       "      <td>0.967539</td>\n",
       "      <td>yecatching 50 x 32 reference piece home classr...</td>\n",
       "      <td>rand mcnally mseries fullcolor laminated unite...</td>\n",
       "      <td>rand mcnally</td>\n",
       "      <td>eyecatching 50 x 32 reference piece home class...</td>\n",
       "      <td>5</td>\n",
       "      <td>April 18, 2006</td>\n",
       "      <td>0</td>\n",
       "      <td>0</td>\n",
       "      <td>0</td>\n",
       "      <td>0</td>\n",
       "      <td>0</td>\n",
       "      <td>0</td>\n",
       "      <td>0</td>\n",
       "      <td>0</td>\n",
       "      <td>0</td>\n",
       "      <td>0</td>\n",
       "      <td>0</td>\n",
       "      <td>0</td>\n",
       "      <td>0</td>\n",
       "      <td>0</td>\n",
       "      <td>0</td>\n",
       "      <td>0</td>\n",
       "      <td>0</td>\n",
       "      <td>0</td>\n",
       "      <td>0</td>\n",
       "      <td>0</td>\n",
       "      <td>0</td>\n",
       "      <td>0</td>\n",
       "      <td>1</td>\n",
       "      <td>0</td>\n",
       "      <td>0</td>\n",
       "      <td>0</td>\n",
       "      <td>0</td>\n",
       "      <td>0</td>\n",
       "      <td>0</td>\n",
       "      <td>0</td>\n",
       "      <td>0</td>\n",
       "      <td>0</td>\n",
       "      <td>0</td>\n",
       "      <td>0.627884</td>\n",
       "    </tr>\n",
       "  </tbody>\n",
       "</table>\n",
       "</div>"
      ],
      "text/plain": [
       "   overall        reviewTime      reviewerID        asin   reviewerName                                         reviewText                      summary  dayDifferenceReview                                        description                                              title         brand                                            feature  rank productPublishedDate  main_cat_All Beauty  main_cat_All Electronics  main_cat_Amazon Home  main_cat_Arts, Crafts & Sewing  main_cat_Arts, Crafts &amp; Sewing  main_cat_Automotive  main_cat_Baby  main_cat_Books  main_cat_Camera & Photo  main_cat_Camera &amp; Photo  main_cat_Car Electronics  main_cat_Cell Phones & Accessories  main_cat_Cell Phones &amp; Accessories  main_cat_Computers  main_cat_Gift Cards  main_cat_Grocery  main_cat_Health & Personal Care  main_cat_Home Audio & Theater  main_cat_Home Audio &amp; Theater  main_cat_Industrial & Scientific  main_cat_Industrial &amp; Scientific  main_cat_Musical Instruments  main_cat_Office Products  main_cat_Pet Supplies  main_cat_Portable Audio & Accessories  main_cat_Software  main_cat_Sports & Outdoors  main_cat_Sports &amp; Outdoors  main_cat_Tools & Home Improvement  main_cat_Tools &amp; Home Improvement  main_cat_Toys & Games  main_cat_Toys &amp; Games  main_cat_Video Games  dayDifferenceProduct\n",
       "0      5.0    April 09, 2016  A2GIQGI2UXOZ4M  0439893577  Gene Sechrest  job big enough purpose fold flat fold stand gr...  ultimate kid magnetic board             0.914297  agnetic tabletop learning easel one simplestye...  little red tool box magnetic tabletop learning...    scholastic  fold flat easy storage open reveal giant 12 x ...    21    November 25, 2006                    0                         0                     0                               0                                   0                    0              0               0                        0                            0                         0                                   0                                       0                   0                    0                 0                                0                              0                                  0                                 0                                     0                             0                         1                      0                                      0                  0                           0                               0                                  0                                      0                      0                          0                     0              0.641915\n",
       "1      5.0  October 27, 2017  A2M13JN7YVG29U  0528960911   Stacie Baugh                                               love                    five star             0.967539  yecatching 50 x 32 reference piece home classr...  rand mcnally mseries fullcolor laminated unite...  rand mcnally  eyecatching 50 x 32 reference piece home class...     5       April 18, 2006                    0                         0                     0                               0                                   0                    0              0               0                        0                            0                         0                                   0                                       0                   0                    0                 0                                0                              0                                  0                                 0                                     0                             0                         1                      0                                      0                  0                           0                               0                                  0                                      0                      0                          0                     0              0.627884"
      ]
     },
     "execution_count": 41,
     "metadata": {},
     "output_type": "execute_result"
    }
   ],
   "source": [
    "merged_df.head(2)"
   ]
  },
  {
   "cell_type": "code",
   "execution_count": 42,
   "metadata": {},
   "outputs": [
    {
     "data": {
      "text/html": [
       "<div>\n",
       "<style scoped>\n",
       "    .dataframe tbody tr th:only-of-type {\n",
       "        vertical-align: middle;\n",
       "    }\n",
       "\n",
       "    .dataframe tbody tr th {\n",
       "        vertical-align: top;\n",
       "    }\n",
       "\n",
       "    .dataframe thead th {\n",
       "        text-align: right;\n",
       "    }\n",
       "</style>\n",
       "<table border=\"1\" class=\"dataframe\">\n",
       "  <thead>\n",
       "    <tr style=\"text-align: right;\">\n",
       "      <th></th>\n",
       "      <th>description</th>\n",
       "      <th>title</th>\n",
       "      <th>brand</th>\n",
       "      <th>feature</th>\n",
       "      <th>rank</th>\n",
       "      <th>productPublishedDate</th>\n",
       "      <th>asin</th>\n",
       "      <th>main_cat_All Beauty</th>\n",
       "      <th>main_cat_All Electronics</th>\n",
       "      <th>main_cat_Amazon Home</th>\n",
       "      <th>main_cat_Arts, Crafts &amp; Sewing</th>\n",
       "      <th>main_cat_Arts, Crafts &amp;amp; Sewing</th>\n",
       "      <th>main_cat_Automotive</th>\n",
       "      <th>main_cat_Baby</th>\n",
       "      <th>main_cat_Books</th>\n",
       "      <th>main_cat_Camera &amp; Photo</th>\n",
       "      <th>main_cat_Camera &amp;amp; Photo</th>\n",
       "      <th>main_cat_Car Electronics</th>\n",
       "      <th>main_cat_Cell Phones &amp; Accessories</th>\n",
       "      <th>main_cat_Cell Phones &amp;amp; Accessories</th>\n",
       "      <th>main_cat_Computers</th>\n",
       "      <th>main_cat_Gift Cards</th>\n",
       "      <th>main_cat_Grocery</th>\n",
       "      <th>main_cat_Health &amp; Personal Care</th>\n",
       "      <th>main_cat_Home Audio &amp; Theater</th>\n",
       "      <th>main_cat_Home Audio &amp;amp; Theater</th>\n",
       "      <th>main_cat_Industrial &amp; Scientific</th>\n",
       "      <th>main_cat_Industrial &amp;amp; Scientific</th>\n",
       "      <th>main_cat_Musical Instruments</th>\n",
       "      <th>main_cat_Office Products</th>\n",
       "      <th>main_cat_Pet Supplies</th>\n",
       "      <th>main_cat_Portable Audio &amp; Accessories</th>\n",
       "      <th>main_cat_Software</th>\n",
       "      <th>main_cat_Sports &amp; Outdoors</th>\n",
       "      <th>main_cat_Sports &amp;amp; Outdoors</th>\n",
       "      <th>main_cat_Tools &amp; Home Improvement</th>\n",
       "      <th>main_cat_Tools &amp;amp; Home Improvement</th>\n",
       "      <th>main_cat_Toys &amp; Games</th>\n",
       "      <th>main_cat_Toys &amp;amp; Games</th>\n",
       "      <th>main_cat_Video Games</th>\n",
       "      <th>dayDifferenceProduct</th>\n",
       "    </tr>\n",
       "  </thead>\n",
       "  <tbody>\n",
       "    <tr>\n",
       "      <th>3</th>\n",
       "      <td>xclusive design classi</td>\n",
       "      <td>best abstract fiery floral design mouse pad cu...</td>\n",
       "      <td>luxladymousepad</td>\n",
       "      <td>material made best plastic manufacturing also ...</td>\n",
       "      <td>-1</td>\n",
       "      <td>September 21, 1677</td>\n",
       "      <td>B00KH94VSG</td>\n",
       "      <td>0</td>\n",
       "      <td>0</td>\n",
       "      <td>0</td>\n",
       "      <td>0</td>\n",
       "      <td>0</td>\n",
       "      <td>0</td>\n",
       "      <td>0</td>\n",
       "      <td>0</td>\n",
       "      <td>0</td>\n",
       "      <td>0</td>\n",
       "      <td>0</td>\n",
       "      <td>1</td>\n",
       "      <td>0</td>\n",
       "      <td>0</td>\n",
       "      <td>0</td>\n",
       "      <td>0</td>\n",
       "      <td>0</td>\n",
       "      <td>0</td>\n",
       "      <td>0</td>\n",
       "      <td>0</td>\n",
       "      <td>0</td>\n",
       "      <td>0</td>\n",
       "      <td>0</td>\n",
       "      <td>0</td>\n",
       "      <td>0</td>\n",
       "      <td>0</td>\n",
       "      <td>0</td>\n",
       "      <td>0</td>\n",
       "      <td>0</td>\n",
       "      <td>0</td>\n",
       "      <td>0</td>\n",
       "      <td>0</td>\n",
       "      <td>0</td>\n",
       "      <td>0.059833</td>\n",
       "    </tr>\n",
       "    <tr>\n",
       "      <th>4</th>\n",
       "      <td>itten piano key mouse pad 8 x 8 x 25 made heav...</td>\n",
       "      <td>3drose llc 8 x 8 x 025 inch kitten piano key m...</td>\n",
       "      <td>3drose</td>\n",
       "      <td>dimension inch 8 w x 8 h x 025 matte finish so...</td>\n",
       "      <td>1</td>\n",
       "      <td>July 14, 2014</td>\n",
       "      <td>B00CX71JNU</td>\n",
       "      <td>0</td>\n",
       "      <td>0</td>\n",
       "      <td>0</td>\n",
       "      <td>0</td>\n",
       "      <td>0</td>\n",
       "      <td>0</td>\n",
       "      <td>0</td>\n",
       "      <td>0</td>\n",
       "      <td>0</td>\n",
       "      <td>0</td>\n",
       "      <td>0</td>\n",
       "      <td>0</td>\n",
       "      <td>0</td>\n",
       "      <td>0</td>\n",
       "      <td>0</td>\n",
       "      <td>0</td>\n",
       "      <td>0</td>\n",
       "      <td>0</td>\n",
       "      <td>0</td>\n",
       "      <td>0</td>\n",
       "      <td>0</td>\n",
       "      <td>0</td>\n",
       "      <td>1</td>\n",
       "      <td>0</td>\n",
       "      <td>0</td>\n",
       "      <td>0</td>\n",
       "      <td>0</td>\n",
       "      <td>0</td>\n",
       "      <td>0</td>\n",
       "      <td>0</td>\n",
       "      <td>0</td>\n",
       "      <td>0</td>\n",
       "      <td>0</td>\n",
       "      <td>0.848318</td>\n",
       "    </tr>\n",
       "  </tbody>\n",
       "</table>\n",
       "</div>"
      ],
      "text/plain": [
       "                                         description                                              title            brand                                            feature  rank productPublishedDate        asin  main_cat_All Beauty  main_cat_All Electronics  main_cat_Amazon Home  main_cat_Arts, Crafts & Sewing  main_cat_Arts, Crafts &amp; Sewing  main_cat_Automotive  main_cat_Baby  main_cat_Books  main_cat_Camera & Photo  main_cat_Camera &amp; Photo  main_cat_Car Electronics  main_cat_Cell Phones & Accessories  main_cat_Cell Phones &amp; Accessories  main_cat_Computers  main_cat_Gift Cards  main_cat_Grocery  main_cat_Health & Personal Care  main_cat_Home Audio & Theater  main_cat_Home Audio &amp; Theater  main_cat_Industrial & Scientific  main_cat_Industrial &amp; Scientific  main_cat_Musical Instruments  main_cat_Office Products  main_cat_Pet Supplies  main_cat_Portable Audio & Accessories  main_cat_Software  main_cat_Sports & Outdoors  main_cat_Sports &amp; Outdoors  main_cat_Tools & Home Improvement  main_cat_Tools &amp; Home Improvement  main_cat_Toys & Games  main_cat_Toys &amp; Games  main_cat_Video Games  dayDifferenceProduct\n",
       "3                             xclusive design classi  best abstract fiery floral design mouse pad cu...  luxladymousepad  material made best plastic manufacturing also ...    -1   September 21, 1677  B00KH94VSG                    0                         0                     0                               0                                   0                    0              0               0                        0                            0                         0                                   1                                       0                   0                    0                 0                                0                              0                                  0                                 0                                     0                             0                         0                      0                                      0                  0                           0                               0                                  0                                      0                      0                          0                     0              0.059833\n",
       "4  itten piano key mouse pad 8 x 8 x 25 made heav...  3drose llc 8 x 8 x 025 inch kitten piano key m...           3drose  dimension inch 8 w x 8 h x 025 matte finish so...     1        July 14, 2014  B00CX71JNU                    0                         0                     0                               0                                   0                    0              0               0                        0                            0                         0                                   0                                       0                   0                    0                 0                                0                              0                                  0                                 0                                     0                             0                         1                      0                                      0                  0                           0                               0                                  0                                      0                      0                          0                     0              0.848318"
      ]
     },
     "execution_count": 42,
     "metadata": {},
     "output_type": "execute_result"
    }
   ],
   "source": [
    "unreviewed_products_df.head(2)"
   ]
  },
  {
   "cell_type": "code",
   "execution_count": 43,
   "metadata": {},
   "outputs": [
    {
     "name": "stdout",
     "output_type": "stream",
     "text": [
      "Number of unique products: 34211\n",
      "Number of unique users: 1000\n",
      "Number of unique reviewed products: 11369\n",
      "Number of unique unreviewed products: 22842\n"
     ]
    }
   ],
   "source": [
    "print(f'Number of unique products: {df_products_final[\"asin\"].nunique()}')\n",
    "print(f'Number of unique users: {df_reviews_final[\"reviewerID\"].nunique()}')\n",
    "print(f'Number of unique reviewed products: {merged_df[\"asin\"].nunique()}')\n",
    "print(f'Number of unique unreviewed products: {unreviewed_products_df[\"asin\"].nunique()}')"
   ]
  },
  {
   "cell_type": "code",
   "execution_count": 44,
   "metadata": {},
   "outputs": [],
   "source": [
    "save_data(merged_df, unreviewed_products_df, 'data/merged_data_processed.csv', 'data/unreviewed_products_processed.csv')"
   ]
  },
  {
   "cell_type": "code",
   "execution_count": 45,
   "metadata": {},
   "outputs": [],
   "source": [
    "save_data(df_reviews_final, df_products_final, 'data/reviews_sampled_processed.csv', 'data/products_sampled_processed.csv')"
   ]
  }
 ],
 "metadata": {
  "kernelspec": {
   "display_name": "projects",
   "language": "python",
   "name": "python3"
  },
  "language_info": {
   "codemirror_mode": {
    "name": "ipython",
    "version": 3
   },
   "file_extension": ".py",
   "mimetype": "text/x-python",
   "name": "python",
   "nbconvert_exporter": "python",
   "pygments_lexer": "ipython3",
   "version": "3.12.2"
  }
 },
 "nbformat": 4,
 "nbformat_minor": 2
}
