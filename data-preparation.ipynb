{
 "cells": [
  {
   "cell_type": "markdown",
   "metadata": {},
   "source": [
    "# NIRS (preprocessing)"
   ]
  },
  {
   "cell_type": "code",
   "execution_count": 56,
   "metadata": {},
   "outputs": [],
   "source": [
    "# test reading from the csv\n",
    "import pandas as pd\n",
    "df_reviews_sampled = pd.read_csv('data/reviews_sampled.csv')\n",
    "df_products_sampled = pd.read_csv('data/products_sampled.csv')"
   ]
  },
  {
   "cell_type": "code",
   "execution_count": 57,
   "metadata": {},
   "outputs": [],
   "source": [
    "def save_sampled_data(reviews_df, products_df, reviews_file, products_file):\n",
    "    reviews_df.to_csv(reviews_file, index=False)\n",
    "    products_df.to_csv(products_file, index=False)\n"
   ]
  },
  {
   "cell_type": "markdown",
   "metadata": {},
   "source": [
    "## Missing values handling"
   ]
  },
  {
   "cell_type": "code",
   "execution_count": 58,
   "metadata": {},
   "outputs": [],
   "source": [
    "def count_nan_values(df):\n",
    "    nan_counts = df.isna().sum()\n",
    "    return nan_counts[nan_counts > 0]\n",
    "\n",
    "def count_empty_strings(df):\n",
    "    empty_string_counts = (df == '').sum()\n",
    "    empty_array_counts = (df == '[]').sum()\n",
    "    counting = empty_string_counts[empty_string_counts > 0]\n",
    "    \n",
    "    return counting[empty_array_counts > 0]\n"
   ]
  },
  {
   "cell_type": "code",
   "execution_count": 59,
   "metadata": {},
   "outputs": [
    {
     "name": "stdout",
     "output_type": "stream",
     "text": [
      "Nan values per feature: \n",
      " reviewerName    44\n",
      "reviewText      25\n",
      "dtype: int64\n",
      "\n",
      " Empty values per feature: \n",
      " Series([], dtype: int64)\n"
     ]
    }
   ],
   "source": [
    "print('Nan values per feature: \\n', count_nan_values(df_reviews_sampled))\n",
    "print('\\n Empty values per feature: \\n', count_empty_strings(df_reviews_sampled))"
   ]
  },
  {
   "cell_type": "code",
   "execution_count": 60,
   "metadata": {},
   "outputs": [],
   "source": [
    "df_reviews_sampled = df_reviews_sampled.dropna(subset=['reviewerName'])"
   ]
  },
  {
   "cell_type": "markdown",
   "metadata": {},
   "source": [
    "We decided to keep the review name nan values, since those will be irrelevant for the neural network training. Moreover, the reviews of users without a name can be meaningful."
   ]
  },
  {
   "cell_type": "code",
   "execution_count": 61,
   "metadata": {},
   "outputs": [
    {
     "name": "stdout",
     "output_type": "stream",
     "text": [
      "Total nan values:  overall            0\n",
      "reviewerID         0\n",
      "asin               0\n",
      "reviewerName       0\n",
      "reviewText        25\n",
      "summary            0\n",
      "unixReviewTime     0\n",
      "dtype: int64\n"
     ]
    }
   ],
   "source": [
    "print(\"Total nan values: \" , df_reviews_sampled.isna().sum())"
   ]
  },
  {
   "cell_type": "code",
   "execution_count": 62,
   "metadata": {},
   "outputs": [
    {
     "data": {
      "text/plain": [
       "(31546, 14)"
      ]
     },
     "execution_count": 62,
     "metadata": {},
     "output_type": "execute_result"
    }
   ],
   "source": [
    "df_products_sampled.shape"
   ]
  },
  {
   "cell_type": "code",
   "execution_count": 63,
   "metadata": {},
   "outputs": [
    {
     "name": "stdout",
     "output_type": "stream",
     "text": [
      "Nan values per feature: \n",
      " title               2\n",
      "brand             491\n",
      "main_cat          179\n",
      "similar_item    19491\n",
      "date             3937\n",
      "price           14298\n",
      "details           737\n",
      "dtype: int64\n",
      "\n",
      " Empty values per feature:\n",
      " Series([], dtype: int64)\n"
     ]
    }
   ],
   "source": [
    "print('Nan values per feature: \\n', count_nan_values(df_products_sampled))\n",
    "print('\\n Empty values per feature:\\n', count_empty_strings(df_products_sampled))"
   ]
  },
  {
   "cell_type": "code",
   "execution_count": 65,
   "metadata": {},
   "outputs": [],
   "source": [
    "test = df_products_sampled.copy()\n",
    "\n",
    "# Replace illegal dates with the oldest possible date format\n",
    "df_products_sampled['date'] = pd.to_datetime(test['date'], errors='coerce')\n",
    "df_products_sampled['date'] = df_products_sampled['date'].fillna(pd.Timestamp.min).dt.strftime('%B %d, %Y')\n"
   ]
  },
  {
   "cell_type": "code",
   "execution_count": 43,
   "metadata": {},
   "outputs": [],
   "source": [
    "# fill nan values of main category with 'Office Products', which the main in the dataset\n",
    "df_products_sampled['main_cat'] = df_products_sampled['main_cat'].fillna('Office Products')"
   ]
  },
  {
   "cell_type": "code",
   "execution_count": 39,
   "metadata": {},
   "outputs": [],
   "source": [
    "df_products_sampled.dropna(subset=['title'])"
   ]
  },
  {
   "cell_type": "code",
   "execution_count": 50,
   "metadata": {},
   "outputs": [],
   "source": [
    "# from bs4 import BeautifulSoup\n",
    "# import re\n",
    "\n",
    "# def extract_similar_items(html):\n",
    "\n",
    "#   soup = BeautifulSoup(html, 'html.parser')\n",
    "\n",
    "#   items = []\n",
    "#   for i in range(5):\n",
    "#     item_id = soup.select_one(f'#comparison_image{i}')['alt']\n",
    "#     item_name = soup.select_one(f'#comparison_title{i}').text\n",
    "\n",
    "#     # Remove special characters\n",
    "#     item_name = re.sub(r'\\W+', ' ', item_name)\n",
    "\n",
    "#     items.append({'id': item_id, 'name': item_name})\n",
    "\n",
    "#   return items\n",
    "\n",
    "# # Sample usage  \n",
    "# html = df_products_sampled['similar_item'][8]\n",
    "\n",
    "# items = extract_similar_items(html)\n",
    "# print(items)\n",
    "\n",
    "df_products_sampled.dropna(subset=['similar_item'], inplace=True)"
   ]
  },
  {
   "cell_type": "code",
   "execution_count": null,
   "metadata": {},
   "outputs": [],
   "source": []
  },
  {
   "cell_type": "markdown",
   "metadata": {},
   "source": [
    "## Filter products by main category"
   ]
  },
  {
   "cell_type": "code",
   "execution_count": 2,
   "metadata": {},
   "outputs": [
    {
     "data": {
      "text/plain": [
       "(22287, 14)"
      ]
     },
     "execution_count": 2,
     "metadata": {},
     "output_type": "execute_result"
    }
   ],
   "source": [
    "df_products_sampled = df_products_sampled[df_products_sampled['main_cat'] == 'Office Products']\n",
    "\n",
    "df_products_sampled.shape"
   ]
  },
  {
   "cell_type": "markdown",
   "metadata": {},
   "source": [
    "## Text preprocessing (reviewText and summary)"
   ]
  },
  {
   "cell_type": "code",
   "execution_count": 3,
   "metadata": {},
   "outputs": [
    {
     "name": "stderr",
     "output_type": "stream",
     "text": [
      "[nltk_data] Downloading package punkt to /home/lucamodica/nltk_data...\n",
      "[nltk_data]   Package punkt is already up-to-date!\n",
      "[nltk_data] Downloading package wordnet to\n",
      "[nltk_data]     /home/lucamodica/nltk_data...\n",
      "[nltk_data]   Package wordnet is already up-to-date!\n",
      "[nltk_data] Downloading package words to /home/lucamodica/nltk_data...\n",
      "[nltk_data]   Package words is already up-to-date!\n",
      "[nltk_data] Downloading package stopwords to\n",
      "[nltk_data]     /home/lucamodica/nltk_data...\n",
      "[nltk_data]   Package stopwords is already up-to-date!\n",
      "[nltk_data] Downloading package averaged_perceptron_tagger to\n",
      "[nltk_data]     /home/lucamodica/nltk_data...\n",
      "[nltk_data]   Package averaged_perceptron_tagger is already up-to-\n",
      "[nltk_data]       date!\n"
     ]
    },
    {
     "data": {
      "text/plain": [
       "True"
      ]
     },
     "execution_count": 3,
     "metadata": {},
     "output_type": "execute_result"
    }
   ],
   "source": [
    "import re\n",
    "import string\n",
    "from bs4 import BeautifulSoup\n",
    "from unidecode import unidecode\n",
    "import nltk\n",
    "from nltk.tokenize import word_tokenize\n",
    "from nltk.corpus import stopwords\n",
    "from nltk.stem import WordNetLemmatizer\n",
    "from sklearn.base import BaseEstimator, TransformerMixin\n",
    "\n",
    "nltk.download('punkt')\n",
    "nltk.download('wordnet')\n",
    "nltk.download('words')\n",
    "nltk.download('stopwords')\n",
    "nltk.download('averaged_perceptron_tagger')"
   ]
  },
  {
   "cell_type": "code",
   "execution_count": 4,
   "metadata": {},
   "outputs": [],
   "source": [
    "class TextPreprocessor(BaseEstimator, TransformerMixin):\n",
    "    def __init__(self):\n",
    "        self.stop_words = set(stopwords.words('english'))\n",
    "        self.lemmatizer = WordNetLemmatizer()\n",
    "\n",
    "    def fit(self, X, y=None):\n",
    "        return self\n",
    "\n",
    "    def transform(self, X):\n",
    "        return [self._preprocess(text) for text in X]\n",
    "\n",
    "    def _preprocess(self, text):\n",
    "        # Lowercasing\n",
    "        text = text.lower()\n",
    "        # Remove accented characters\n",
    "        text = unidecode(text)\n",
    "        \n",
    "        # Remove numbers\n",
    "        text = re.sub(r'\\d+', '', text)\n",
    "        \n",
    "        # remove punctuation\n",
    "        text = re.sub('[%s]' % re.escape(string.punctuation), '', text)\n",
    "        \n",
    "        # remove double spaces\n",
    "        text = re.sub(' +', ' ', text)\n",
    "        \n",
    "        # Tokenize text\n",
    "        words = word_tokenize(text)\n",
    "        # Remove stopwords and lemmatize\n",
    "        words = [self.lemmatizer.lemmatize(\n",
    "            word) for word in words if word not in self.stop_words]\n",
    "        \n",
    "        return ' '.join(words)\n",
    "    \n",
    "preprocessor = TextPreprocessor()"
   ]
  },
  {
   "cell_type": "code",
   "execution_count": 5,
   "metadata": {},
   "outputs": [],
   "source": [
    "df_reviews_sampled['summary'] = df_reviews_sampled['summary'].astype(str)\n",
    "df_reviews_sampled['summary'] = preprocessor.fit_transform(df_reviews_sampled['summary'])\n",
    "df_reviews_sampled = df_reviews_sampled[df_reviews_sampled['summary'] != '']\n",
    "\n",
    "df_reviews_sampled['reviewText'] = df_reviews_sampled['reviewText'].dropna().astype(str)\n",
    "df_reviews_sampled['reviewText'] = df_reviews_sampled['reviewText'].astype(str)\n",
    "df_reviews_sampled['reviewText'] = preprocessor.fit_transform(df_reviews_sampled['reviewText'])\n",
    "df_reviews_sampled = df_reviews_sampled[df_reviews_sampled['reviewText'] != '']"
   ]
  },
  {
   "cell_type": "code",
   "execution_count": 6,
   "metadata": {},
   "outputs": [],
   "source": [
    "df_products_sampled['description'] = df_products_sampled['description'].astype(str)\n",
    "df_products_sampled['description'] = preprocessor.fit_transform(df_products_sampled['description'])\n",
    "df_products_sampled = df_products_sampled[df_products_sampled['description'] != '']"
   ]
  },
  {
   "cell_type": "markdown",
   "metadata": {},
   "source": [
    "## Save the prepared data"
   ]
  },
  {
   "cell_type": "code",
   "execution_count": 8,
   "metadata": {},
   "outputs": [
    {
     "data": {
      "text/html": [
       "<div>\n",
       "<style scoped>\n",
       "    .dataframe tbody tr th:only-of-type {\n",
       "        vertical-align: middle;\n",
       "    }\n",
       "\n",
       "    .dataframe tbody tr th {\n",
       "        vertical-align: top;\n",
       "    }\n",
       "\n",
       "    .dataframe thead th {\n",
       "        text-align: right;\n",
       "    }\n",
       "</style>\n",
       "<table border=\"1\" class=\"dataframe\">\n",
       "  <thead>\n",
       "    <tr style=\"text-align: right;\">\n",
       "      <th></th>\n",
       "      <th>overall</th>\n",
       "      <th>reviewerID</th>\n",
       "      <th>asin</th>\n",
       "      <th>reviewerName</th>\n",
       "      <th>reviewText</th>\n",
       "      <th>summary</th>\n",
       "      <th>unixReviewTime</th>\n",
       "    </tr>\n",
       "  </thead>\n",
       "  <tbody>\n",
       "    <tr>\n",
       "      <th>0</th>\n",
       "      <td>5.0</td>\n",
       "      <td>A1HBTW5M7ZZ9PT</td>\n",
       "      <td>0310818621</td>\n",
       "      <td>FTLOE</td>\n",
       "      <td>absolutely love organizer ive never one figure...</td>\n",
       "      <td>super good deal</td>\n",
       "      <td>1433203200</td>\n",
       "    </tr>\n",
       "    <tr>\n",
       "      <th>1</th>\n",
       "      <td>5.0</td>\n",
       "      <td>A2F0F4NB6BLGVX</td>\n",
       "      <td>0310823706</td>\n",
       "      <td>Lee</td>\n",
       "      <td>good bible carrier large print bible afraid wo...</td>\n",
       "      <td>leatherlook bible carrier</td>\n",
       "      <td>1395360000</td>\n",
       "    </tr>\n",
       "    <tr>\n",
       "      <th>2</th>\n",
       "      <td>5.0</td>\n",
       "      <td>A23BRQWL8LNB37</td>\n",
       "      <td>0439499887</td>\n",
       "      <td>David</td>\n",
       "      <td>kid love peppa reading say</td>\n",
       "      <td>five star</td>\n",
       "      <td>1496361600</td>\n",
       "    </tr>\n",
       "    <tr>\n",
       "      <th>3</th>\n",
       "      <td>5.0</td>\n",
       "      <td>A3LGV5JXFSBFTL</td>\n",
       "      <td>0439499887</td>\n",
       "      <td>Ryan H</td>\n",
       "      <td>great kid easy use</td>\n",
       "      <td>good</td>\n",
       "      <td>1474243200</td>\n",
       "    </tr>\n",
       "    <tr>\n",
       "      <th>4</th>\n",
       "      <td>5.0</td>\n",
       "      <td>A3LGV5JXFSBFTL</td>\n",
       "      <td>0439499887</td>\n",
       "      <td>Ryan H</td>\n",
       "      <td>great kid</td>\n",
       "      <td>good</td>\n",
       "      <td>1474243200</td>\n",
       "    </tr>\n",
       "  </tbody>\n",
       "</table>\n",
       "</div>"
      ],
      "text/plain": [
       "   overall      reviewerID        asin reviewerName  \\\n",
       "0      5.0  A1HBTW5M7ZZ9PT  0310818621        FTLOE   \n",
       "1      5.0  A2F0F4NB6BLGVX  0310823706          Lee   \n",
       "2      5.0  A23BRQWL8LNB37  0439499887        David   \n",
       "3      5.0  A3LGV5JXFSBFTL  0439499887       Ryan H   \n",
       "4      5.0  A3LGV5JXFSBFTL  0439499887       Ryan H   \n",
       "\n",
       "                                          reviewText  \\\n",
       "0  absolutely love organizer ive never one figure...   \n",
       "1  good bible carrier large print bible afraid wo...   \n",
       "2                         kid love peppa reading say   \n",
       "3                                 great kid easy use   \n",
       "4                                          great kid   \n",
       "\n",
       "                     summary  unixReviewTime  \n",
       "0            super good deal      1433203200  \n",
       "1  leatherlook bible carrier      1395360000  \n",
       "2                  five star      1496361600  \n",
       "3                       good      1474243200  \n",
       "4                       good      1474243200  "
      ]
     },
     "execution_count": 8,
     "metadata": {},
     "output_type": "execute_result"
    }
   ],
   "source": [
    "df_reviews_sampled.head()"
   ]
  },
  {
   "cell_type": "code",
   "execution_count": 9,
   "metadata": {},
   "outputs": [
    {
     "data": {
      "text/html": [
       "<div>\n",
       "<style scoped>\n",
       "    .dataframe tbody tr th:only-of-type {\n",
       "        vertical-align: middle;\n",
       "    }\n",
       "\n",
       "    .dataframe tbody tr th {\n",
       "        vertical-align: top;\n",
       "    }\n",
       "\n",
       "    .dataframe thead th {\n",
       "        text-align: right;\n",
       "    }\n",
       "</style>\n",
       "<table border=\"1\" class=\"dataframe\">\n",
       "  <thead>\n",
       "    <tr style=\"text-align: right;\">\n",
       "      <th></th>\n",
       "      <th>category</th>\n",
       "      <th>description</th>\n",
       "      <th>title</th>\n",
       "      <th>also_buy</th>\n",
       "      <th>brand</th>\n",
       "      <th>feature</th>\n",
       "      <th>rank</th>\n",
       "      <th>also_view</th>\n",
       "      <th>main_cat</th>\n",
       "      <th>similar_item</th>\n",
       "      <th>date</th>\n",
       "      <th>price</th>\n",
       "      <th>asin</th>\n",
       "      <th>details</th>\n",
       "    </tr>\n",
       "  </thead>\n",
       "  <tbody>\n",
       "    <tr>\n",
       "      <th>0</th>\n",
       "      <td>['Office Products', 'Office &amp; School Supplies'...</td>\n",
       "      <td>protect rfid card skimsafe card holder made ri...</td>\n",
       "      <td>Black RFID Blocking ID Badge Holder (Holds 2 C...</td>\n",
       "      <td>['B005CXZTO2', 'B007XV1MSI', 'B000O9K45I', 'B0...</td>\n",
       "      <td>Specialist ID</td>\n",
       "      <td>['RFID Blocking 2 Card Holder', 'FIPS 201 Appr...</td>\n",
       "      <td>['&gt;#43,873 in Office Products (See top 100)', ...</td>\n",
       "      <td>[]</td>\n",
       "      <td>Office Products</td>\n",
       "      <td>class=\"a-bordered a-horizontal-stripes  a-spa...</td>\n",
       "      <td>October 14, 2011</td>\n",
       "      <td>$6.49</td>\n",
       "      <td>B005VSY1VK</td>\n",
       "      <td>{}</td>\n",
       "    </tr>\n",
       "    <tr>\n",
       "      <th>1</th>\n",
       "      <td>[]</td>\n",
       "      <td>star war moleskine saga continues daily planne...</td>\n",
       "      <td>Moleskine 2015 Star Wars Limited Edition Daily...</td>\n",
       "      <td>[]</td>\n",
       "      <td>Moleskine</td>\n",
       "      <td>[]</td>\n",
       "      <td>[]</td>\n",
       "      <td>[]</td>\n",
       "      <td>Office Products</td>\n",
       "      <td>NaN</td>\n",
       "      <td>December 26, 2013</td>\n",
       "      <td>NaN</td>\n",
       "      <td>8867323296</td>\n",
       "      <td>{}</td>\n",
       "    </tr>\n",
       "    <tr>\n",
       "      <th>2</th>\n",
       "      <td>['Office Products', 'Office &amp; School Supplies'...</td>\n",
       "      <td>staple washable glue stick purple oz pack</td>\n",
       "      <td>Staples Washable Glue Sticks, Purple, .26 oz.,...</td>\n",
       "      <td>[]</td>\n",
       "      <td>Staples</td>\n",
       "      <td>[]</td>\n",
       "      <td>['&gt;#161,293 in Office Products (See top 100)',...</td>\n",
       "      <td>[]</td>\n",
       "      <td>Office Products</td>\n",
       "      <td>NaN</td>\n",
       "      <td>June 22, 2015</td>\n",
       "      <td>$4.19</td>\n",
       "      <td>B011LAU4R6</td>\n",
       "      <td>{}</td>\n",
       "    </tr>\n",
       "    <tr>\n",
       "      <th>4</th>\n",
       "      <td>['Office Products', 'Office &amp; School Supplies'...</td>\n",
       "      <td>kitten piano key mouse pad x x made heavyduty ...</td>\n",
       "      <td>3dRose LLC 8 x 8 x 0.25 Inches Kitten on Piano...</td>\n",
       "      <td>[]</td>\n",
       "      <td>3dRose</td>\n",
       "      <td>['Dimensions (in inches): 8 W x 8 H x 0.25 D',...</td>\n",
       "      <td>['&gt;#1,396,217 in Office Products (See top 100)...</td>\n",
       "      <td>[]</td>\n",
       "      <td>Office Products</td>\n",
       "      <td>class=\"a-bordered a-horizontal-stripes  a-spa...</td>\n",
       "      <td>July 14, 2014</td>\n",
       "      <td>$20.83</td>\n",
       "      <td>B00CX71JNU</td>\n",
       "      <td>{}</td>\n",
       "    </tr>\n",
       "    <tr>\n",
       "      <th>5</th>\n",
       "      <td>['Office Products', 'Office &amp; School Supplies'...</td>\n",
       "      <td>vivo next favorite pen ultra gel stick vibrant...</td>\n",
       "      <td>Vivo Ultra Gel Stick Pens, 0.7mm Fine Tip, Bla...</td>\n",
       "      <td>[]</td>\n",
       "      <td>VIVO</td>\n",
       "      <td>['Ultra smooth gel ink', 'Vivid black &amp;amp; co...</td>\n",
       "      <td>['&gt;#1,646,151 in Office Products (See top 100)...</td>\n",
       "      <td>[]</td>\n",
       "      <td>Office Products</td>\n",
       "      <td>NaN</td>\n",
       "      <td>April 30, 2009</td>\n",
       "      <td>NaN</td>\n",
       "      <td>B002CO43BO</td>\n",
       "      <td>{}</td>\n",
       "    </tr>\n",
       "  </tbody>\n",
       "</table>\n",
       "</div>"
      ],
      "text/plain": [
       "                                            category  \\\n",
       "0  ['Office Products', 'Office & School Supplies'...   \n",
       "1                                                 []   \n",
       "2  ['Office Products', 'Office & School Supplies'...   \n",
       "4  ['Office Products', 'Office & School Supplies'...   \n",
       "5  ['Office Products', 'Office & School Supplies'...   \n",
       "\n",
       "                                         description  \\\n",
       "0  protect rfid card skimsafe card holder made ri...   \n",
       "1  star war moleskine saga continues daily planne...   \n",
       "2          staple washable glue stick purple oz pack   \n",
       "4  kitten piano key mouse pad x x made heavyduty ...   \n",
       "5  vivo next favorite pen ultra gel stick vibrant...   \n",
       "\n",
       "                                               title  \\\n",
       "0  Black RFID Blocking ID Badge Holder (Holds 2 C...   \n",
       "1  Moleskine 2015 Star Wars Limited Edition Daily...   \n",
       "2  Staples Washable Glue Sticks, Purple, .26 oz.,...   \n",
       "4  3dRose LLC 8 x 8 x 0.25 Inches Kitten on Piano...   \n",
       "5  Vivo Ultra Gel Stick Pens, 0.7mm Fine Tip, Bla...   \n",
       "\n",
       "                                            also_buy          brand  \\\n",
       "0  ['B005CXZTO2', 'B007XV1MSI', 'B000O9K45I', 'B0...  Specialist ID   \n",
       "1                                                 []      Moleskine   \n",
       "2                                                 []        Staples   \n",
       "4                                                 []         3dRose   \n",
       "5                                                 []           VIVO   \n",
       "\n",
       "                                             feature  \\\n",
       "0  ['RFID Blocking 2 Card Holder', 'FIPS 201 Appr...   \n",
       "1                                                 []   \n",
       "2                                                 []   \n",
       "4  ['Dimensions (in inches): 8 W x 8 H x 0.25 D',...   \n",
       "5  ['Ultra smooth gel ink', 'Vivid black &amp; co...   \n",
       "\n",
       "                                                rank also_view  \\\n",
       "0  ['>#43,873 in Office Products (See top 100)', ...        []   \n",
       "1                                                 []        []   \n",
       "2  ['>#161,293 in Office Products (See top 100)',...        []   \n",
       "4  ['>#1,396,217 in Office Products (See top 100)...        []   \n",
       "5  ['>#1,646,151 in Office Products (See top 100)...        []   \n",
       "\n",
       "          main_cat                                       similar_item  \\\n",
       "0  Office Products   class=\"a-bordered a-horizontal-stripes  a-spa...   \n",
       "1  Office Products                                                NaN   \n",
       "2  Office Products                                                NaN   \n",
       "4  Office Products   class=\"a-bordered a-horizontal-stripes  a-spa...   \n",
       "5  Office Products                                                NaN   \n",
       "\n",
       "                date   price        asin details  \n",
       "0   October 14, 2011   $6.49  B005VSY1VK      {}  \n",
       "1  December 26, 2013     NaN  8867323296      {}  \n",
       "2      June 22, 2015   $4.19  B011LAU4R6      {}  \n",
       "4      July 14, 2014  $20.83  B00CX71JNU      {}  \n",
       "5     April 30, 2009     NaN  B002CO43BO      {}  "
      ]
     },
     "execution_count": 9,
     "metadata": {},
     "output_type": "execute_result"
    }
   ],
   "source": [
    "df_products_sampled.head()"
   ]
  },
  {
   "cell_type": "code",
   "execution_count": 16,
   "metadata": {},
   "outputs": [],
   "source": [
    "save_sampled_data(df_reviews_sampled, df_products_sampled, 'data/reviews_sampled_processed.csv', 'data/products_sampled_processed.csv')"
   ]
  }
 ],
 "metadata": {
  "kernelspec": {
   "display_name": "projects",
   "language": "python",
   "name": "python3"
  },
  "language_info": {
   "codemirror_mode": {
    "name": "ipython",
    "version": 3
   },
   "file_extension": ".py",
   "mimetype": "text/x-python",
   "name": "python",
   "nbconvert_exporter": "python",
   "pygments_lexer": "ipython3",
   "version": "3.12.2"
  }
 },
 "nbformat": 4,
 "nbformat_minor": 2
}
