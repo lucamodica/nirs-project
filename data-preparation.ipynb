{
 "cells": [
  {
   "cell_type": "markdown",
   "metadata": {},
   "source": [
    "# NIRS (preprocessing)"
   ]
  },
  {
   "cell_type": "code",
   "execution_count": 43,
   "metadata": {},
   "outputs": [],
   "source": [
    "import pandas as pd\n",
    "import numpy as np\n",
    "import pandas as pd\n",
    "import numpy as np\n",
    "import gzip\n",
    "import json\n",
    "import random\n",
    "import sklearn\n",
    "import torch\n",
    "\n",
    "def seed_everything(seed=42):\n",
    "    # Seed the random number generator\n",
    "    random.seed(seed)\n",
    "\n",
    "    # Seed NumPy\n",
    "    np.random.seed(seed)\n",
    "\n",
    "    # Seed scikit-learn\n",
    "    sklearn.utils.check_random_state(seed)\n",
    "\n",
    "    # Seed PyTorch\n",
    "    torch.manual_seed(seed)\n",
    "    torch.cuda.manual_seed(seed)\n",
    "    torch.backends.cudnn.deterministic = True\n",
    "\n",
    "    # Set pandas options\n",
    "    pd.set_option('display.max_columns', None)  # Display all columns in pandas DataFrames\n",
    "    pd.set_option('display.max_rows', None)  # Display all rows in pandas DataFrames\n",
    "    pd.set_option('display.width', None)  # Disable column width restriction\n",
    "    pd.set_option('display.expand_frame_repr', False)  # Prevent line wrapping in pandas DataFrames\n",
    "\n",
    "seed_everything(seed=42)"
   ]
  },
  {
   "cell_type": "code",
   "execution_count": 44,
   "metadata": {},
   "outputs": [],
   "source": [
    "def parse(path):\n",
    "  \"\"\"read the dataset from json\"\"\"\n",
    "  \n",
    "  g = gzip.open(path, 'r')\n",
    "  for l in g:\n",
    "    yield json.loads(l.strip())\n",
    "    \n",
    "def getDF(path):\n",
    "  i = 0\n",
    "  df = {}\n",
    "  for d in parse(path):\n",
    "    df[i] = d\n",
    "    i += 1\n",
    "    \n",
    "  return pd.DataFrame.from_dict(df, orient='index')\n",
    "\n",
    "def count_nan_values(df):\n",
    "    nan_counts = df.isna().sum()\n",
    "    return nan_counts[nan_counts > 0]\n",
    "\n",
    "def count_empty_strings(df):\n",
    "    empty_string_counts = (df == '').sum()\n",
    "    return empty_string_counts[empty_string_counts > 0]\n",
    "\n",
    "def print_shapes(reviews_df, products_df):\n",
    "    print(f\"Reviews df shape: {reviews_df.shape}\")\n",
    "    print(f\"Products df shape: {products_df.shape}\")\n",
    "    \n",
    "def save_data(reviews_df, products_df, reviews_file, products_file):\n",
    "    reviews_df.to_csv(reviews_file, index=False)\n",
    "    products_df.to_csv(products_file, index=False)"
   ]
  },
  {
   "cell_type": "markdown",
   "metadata": {},
   "source": [
    "## Reading data (skip if you already have the sampled data you need)"
   ]
  },
  {
   "cell_type": "code",
   "execution_count": 45,
   "metadata": {},
   "outputs": [],
   "source": [
    "df_reviews = getDF('data/Office_Products_5.json.gz')\n",
    "df_products = getDF('data/meta_Office_Products.json.gz')"
   ]
  },
  {
   "cell_type": "code",
   "execution_count": 46,
   "metadata": {},
   "outputs": [
    {
     "name": "stdout",
     "output_type": "stream",
     "text": [
      "Number of unique products: 27965\n",
      "Number of unique users: 101501\n"
     ]
    }
   ],
   "source": [
    "print(f'Number of unique products: {df_reviews[\"asin\"].nunique()}')\n",
    "print(f'Number of unique users: {df_reviews[\"reviewerID\"].nunique()}')"
   ]
  },
  {
   "cell_type": "code",
   "execution_count": 47,
   "metadata": {},
   "outputs": [
    {
     "name": "stdout",
     "output_type": "stream",
     "text": [
      "Reviews df shape: (800357, 12)\n",
      "Products df shape: (315458, 19)\n"
     ]
    }
   ],
   "source": [
    "print_shapes(df_reviews, df_products)"
   ]
  },
  {
   "cell_type": "code",
   "execution_count": 48,
   "metadata": {},
   "outputs": [
    {
     "data": {
      "text/html": [
       "<div>\n",
       "<style scoped>\n",
       "    .dataframe tbody tr th:only-of-type {\n",
       "        vertical-align: middle;\n",
       "    }\n",
       "\n",
       "    .dataframe tbody tr th {\n",
       "        vertical-align: top;\n",
       "    }\n",
       "\n",
       "    .dataframe thead th {\n",
       "        text-align: right;\n",
       "    }\n",
       "</style>\n",
       "<table border=\"1\" class=\"dataframe\">\n",
       "  <thead>\n",
       "    <tr style=\"text-align: right;\">\n",
       "      <th></th>\n",
       "      <th>overall</th>\n",
       "      <th>verified</th>\n",
       "      <th>reviewTime</th>\n",
       "      <th>reviewerID</th>\n",
       "      <th>asin</th>\n",
       "      <th>style</th>\n",
       "      <th>reviewerName</th>\n",
       "      <th>reviewText</th>\n",
       "      <th>summary</th>\n",
       "      <th>unixReviewTime</th>\n",
       "      <th>vote</th>\n",
       "      <th>image</th>\n",
       "    </tr>\n",
       "  </thead>\n",
       "  <tbody>\n",
       "    <tr>\n",
       "      <th>0</th>\n",
       "      <td>4.0</td>\n",
       "      <td>True</td>\n",
       "      <td>11 7, 2017</td>\n",
       "      <td>A2NIJTYWADLK57</td>\n",
       "      <td>0140503528</td>\n",
       "      <td>{'Format:': ' Board book'}</td>\n",
       "      <td>cotton clay</td>\n",
       "      <td>kids like story BUT while i really wanted a bo...</td>\n",
       "      <td>good story, small size book though</td>\n",
       "      <td>1510012800</td>\n",
       "      <td>NaN</td>\n",
       "      <td>NaN</td>\n",
       "    </tr>\n",
       "    <tr>\n",
       "      <th>1</th>\n",
       "      <td>4.0</td>\n",
       "      <td>True</td>\n",
       "      <td>03 7, 2017</td>\n",
       "      <td>A2827D8EEURMP4</td>\n",
       "      <td>0140503528</td>\n",
       "      <td>{'Format:': ' Hardcover'}</td>\n",
       "      <td>emankcin</td>\n",
       "      <td>Bought this used and it came in great conditio...</td>\n",
       "      <td>Good</td>\n",
       "      <td>1488844800</td>\n",
       "      <td>NaN</td>\n",
       "      <td>NaN</td>\n",
       "    </tr>\n",
       "    <tr>\n",
       "      <th>2</th>\n",
       "      <td>5.0</td>\n",
       "      <td>True</td>\n",
       "      <td>06 25, 2016</td>\n",
       "      <td>APB6087F4J09J</td>\n",
       "      <td>0140503528</td>\n",
       "      <td>{'Format:': ' Board book'}</td>\n",
       "      <td>Starbucks Fan</td>\n",
       "      <td>Every story and book about Corduroy is Fantast...</td>\n",
       "      <td>Best Books for All Children</td>\n",
       "      <td>1466812800</td>\n",
       "      <td>NaN</td>\n",
       "      <td>NaN</td>\n",
       "    </tr>\n",
       "  </tbody>\n",
       "</table>\n",
       "</div>"
      ],
      "text/plain": [
       "   overall  verified   reviewTime      reviewerID        asin                       style   reviewerName                                         reviewText                             summary  unixReviewTime vote image\n",
       "0      4.0      True   11 7, 2017  A2NIJTYWADLK57  0140503528  {'Format:': ' Board book'}    cotton clay  kids like story BUT while i really wanted a bo...  good story, small size book though      1510012800  NaN   NaN\n",
       "1      4.0      True   03 7, 2017  A2827D8EEURMP4  0140503528   {'Format:': ' Hardcover'}       emankcin  Bought this used and it came in great conditio...                                Good      1488844800  NaN   NaN\n",
       "2      5.0      True  06 25, 2016   APB6087F4J09J  0140503528  {'Format:': ' Board book'}  Starbucks Fan  Every story and book about Corduroy is Fantast...         Best Books for All Children      1466812800  NaN   NaN"
      ]
     },
     "execution_count": 48,
     "metadata": {},
     "output_type": "execute_result"
    }
   ],
   "source": [
    "df_reviews.head(3)"
   ]
  },
  {
   "cell_type": "code",
   "execution_count": 49,
   "metadata": {},
   "outputs": [
    {
     "data": {
      "text/html": [
       "<div>\n",
       "<style scoped>\n",
       "    .dataframe tbody tr th:only-of-type {\n",
       "        vertical-align: middle;\n",
       "    }\n",
       "\n",
       "    .dataframe tbody tr th {\n",
       "        vertical-align: top;\n",
       "    }\n",
       "\n",
       "    .dataframe thead th {\n",
       "        text-align: right;\n",
       "    }\n",
       "</style>\n",
       "<table border=\"1\" class=\"dataframe\">\n",
       "  <thead>\n",
       "    <tr style=\"text-align: right;\">\n",
       "      <th></th>\n",
       "      <th>category</th>\n",
       "      <th>tech1</th>\n",
       "      <th>description</th>\n",
       "      <th>fit</th>\n",
       "      <th>title</th>\n",
       "      <th>also_buy</th>\n",
       "      <th>tech2</th>\n",
       "      <th>brand</th>\n",
       "      <th>feature</th>\n",
       "      <th>rank</th>\n",
       "      <th>also_view</th>\n",
       "      <th>main_cat</th>\n",
       "      <th>similar_item</th>\n",
       "      <th>date</th>\n",
       "      <th>price</th>\n",
       "      <th>asin</th>\n",
       "      <th>imageURL</th>\n",
       "      <th>imageURLHighRes</th>\n",
       "      <th>details</th>\n",
       "    </tr>\n",
       "  </thead>\n",
       "  <tbody>\n",
       "    <tr>\n",
       "      <th>0</th>\n",
       "      <td>[Office Products, Office &amp; School Supplies, Ed...</td>\n",
       "      <td>class=\"a-keyvalue prodDetTable\" role=\"present...</td>\n",
       "      <td>[Sequential Spelling is based on the classic O...</td>\n",
       "      <td></td>\n",
       "      <td>Sequential Spelling Level 1 Bundle with Studen...</td>\n",
       "      <td>[]</td>\n",
       "      <td></td>\n",
       "      <td>STL Distributors</td>\n",
       "      <td>[]</td>\n",
       "      <td>[&gt;#439,654 in Office Products (See top 100), &gt;...</td>\n",
       "      <td>[1935943065, 1935943073, B00IJH9Q4M, 002115021...</td>\n",
       "      <td>Office Products</td>\n",
       "      <td>class=\"a-bordered a-horizontal-stripes  a-spa...</td>\n",
       "      <td>August 15, 2014</td>\n",
       "      <td>$32.90</td>\n",
       "      <td>0012624861</td>\n",
       "      <td>[]</td>\n",
       "      <td>[]</td>\n",
       "      <td>NaN</td>\n",
       "    </tr>\n",
       "    <tr>\n",
       "      <th>1</th>\n",
       "      <td>[Office Products, Office &amp;amp; School Supplies...</td>\n",
       "      <td></td>\n",
       "      <td>[Unusual book, , ]</td>\n",
       "      <td></td>\n",
       "      <td>Mathematics, Applications and Concepts, Course...</td>\n",
       "      <td>[]</td>\n",
       "      <td></td>\n",
       "      <td>bailey</td>\n",
       "      <td>[]</td>\n",
       "      <td>3,839,628 in Books (</td>\n",
       "      <td>[]</td>\n",
       "      <td>Books</td>\n",
       "      <td></td>\n",
       "      <td></td>\n",
       "      <td>$8.62</td>\n",
       "      <td>0078652669</td>\n",
       "      <td>[]</td>\n",
       "      <td>[]</td>\n",
       "      <td>NaN</td>\n",
       "    </tr>\n",
       "    <tr>\n",
       "      <th>2</th>\n",
       "      <td>[]</td>\n",
       "      <td>class=\"a-keyvalue prodDetTable\" role=\"present...</td>\n",
       "      <td>[Pearson MyHistoryLab Online Access Code for A...</td>\n",
       "      <td></td>\n",
       "      <td>Pearson MyHistoryLab Online Access Code for Am...</td>\n",
       "      <td>[]</td>\n",
       "      <td></td>\n",
       "      <td>Pearson MyHistoryLab</td>\n",
       "      <td>[Pearson MyHistoryLab Online Access Code for A...</td>\n",
       "      <td>[&gt;#1,925,354 in Office Products (See top 100)]</td>\n",
       "      <td>[]</td>\n",
       "      <td>Office Products</td>\n",
       "      <td></td>\n",
       "      <td>June 21, 2012</td>\n",
       "      <td>$0.99</td>\n",
       "      <td>0136039847</td>\n",
       "      <td>[]</td>\n",
       "      <td>[]</td>\n",
       "      <td>NaN</td>\n",
       "    </tr>\n",
       "  </tbody>\n",
       "</table>\n",
       "</div>"
      ],
      "text/plain": [
       "                                            category                                              tech1                                        description fit                                              title also_buy tech2                 brand                                            feature                                               rank                                          also_view         main_cat                                       similar_item             date   price        asin imageURL imageURLHighRes details\n",
       "0  [Office Products, Office & School Supplies, Ed...   class=\"a-keyvalue prodDetTable\" role=\"present...  [Sequential Spelling is based on the classic O...      Sequential Spelling Level 1 Bundle with Studen...       []            STL Distributors                                                 []  [>#439,654 in Office Products (See top 100), >...  [1935943065, 1935943073, B00IJH9Q4M, 002115021...  Office Products   class=\"a-bordered a-horizontal-stripes  a-spa...  August 15, 2014  $32.90  0012624861       []              []     NaN\n",
       "1  [Office Products, Office &amp; School Supplies...                                                                                    [Unusual book, , ]      Mathematics, Applications and Concepts, Course...       []                      bailey                                                 []                               3,839,628 in Books (                                                 []            Books                                                                       $8.62  0078652669       []              []     NaN\n",
       "2                                                 []   class=\"a-keyvalue prodDetTable\" role=\"present...  [Pearson MyHistoryLab Online Access Code for A...      Pearson MyHistoryLab Online Access Code for Am...       []        Pearson MyHistoryLab  [Pearson MyHistoryLab Online Access Code for A...     [>#1,925,354 in Office Products (See top 100)]                                                 []  Office Products                                                       June 21, 2012   $0.99  0136039847       []              []     NaN"
      ]
     },
     "execution_count": 49,
     "metadata": {},
     "output_type": "execute_result"
    }
   ],
   "source": [
    "df_products.head(3)"
   ]
  },
  {
   "cell_type": "markdown",
   "metadata": {},
   "source": [
    "## Sampling data (skip if you already have the sampled data you need)"
   ]
  },
  {
   "cell_type": "code",
   "execution_count": 50,
   "metadata": {},
   "outputs": [],
   "source": [
    "def sample_data(reviews_df, products_df, min_reviews_count=10, max_users=1000, frac_sampled_products=0.1):\n",
    "    # Sample a subset of users based on the number of reviews they have \n",
    "    user_reviews_count = reviews_df['reviewerID'].value_counts()\n",
    "    selected_users = user_reviews_count[user_reviews_count >= min_reviews_count].index[:max_users]\n",
    "    reviews_subset: pd.DataFrame = reviews_df[reviews_df['reviewerID'].isin(selected_users)]\n",
    "    \n",
    "    # Get all the products reviewed by the selected users\n",
    "    reviewed_products = reviews_subset['asin'].unique()\n",
    "    sampled_products: pd.DataFrame = products_df.sample(frac=frac_sampled_products, random_state=42)\n",
    "    \n",
    "    # Add the missing products that are reviewed\n",
    "    missing_products = set(reviewed_products) - set(sampled_products['asin'])\n",
    "    missing_products_df = products_df[products_df['asin'].isin(missing_products)]\n",
    "    sampled_products = pd.concat([sampled_products, missing_products_df])\n",
    "    \n",
    "    return reviews_subset, sampled_products"
   ]
  },
  {
   "cell_type": "code",
   "execution_count": 51,
   "metadata": {},
   "outputs": [],
   "source": [
    "df_reviews_sampled, df_products_sampled = sample_data(df_reviews, df_products, min_reviews_count=10, frac_sampled_products=0.1)\n",
    "\n",
    "# save sampled data as checkpoint\n",
    "save_data(df_reviews_sampled, df_products_sampled, 'data/reviews_sampled.csv', 'data/products_sampled.csv')"
   ]
  },
  {
   "cell_type": "code",
   "execution_count": 52,
   "metadata": {},
   "outputs": [
    {
     "name": "stdout",
     "output_type": "stream",
     "text": [
      "Reviews df shape: (45779, 12)\n",
      "Products df shape: (44109, 19)\n"
     ]
    }
   ],
   "source": [
    "print_shapes(df_reviews_sampled, df_products_sampled)"
   ]
  },
  {
   "cell_type": "markdown",
   "metadata": {},
   "source": [
    "## Missing values handling / removing irrelevant features"
   ]
  },
  {
   "cell_type": "code",
   "execution_count": 53,
   "metadata": {
    "notebookRunGroups": {
     "groupValue": "1"
    }
   },
   "outputs": [],
   "source": [
    "# optional checkpoint to skip the initial reading and sampling step\n",
    "# df_reviews_sampled = pd.read_csv('data/reviews_sampled.csv')\n",
    "# df_products_sampled = pd.read_csv('data/products_sampled.csv')\n",
    "\n",
    "df_reviews_prepared = df_reviews_sampled.copy()\n",
    "df_products_prepared = df_products_sampled.copy()"
   ]
  },
  {
   "cell_type": "markdown",
   "metadata": {},
   "source": [
    "### Process for reviews dataset"
   ]
  },
  {
   "cell_type": "code",
   "execution_count": 54,
   "metadata": {
    "notebookRunGroups": {
     "groupValue": "1"
    }
   },
   "outputs": [
    {
     "name": "stdout",
     "output_type": "stream",
     "text": [
      "Reviews df shape: (45779, 12)\n",
      "Products df shape: (44109, 19)\n"
     ]
    }
   ],
   "source": [
    "print_shapes(df_reviews_prepared, df_products_prepared)"
   ]
  },
  {
   "cell_type": "code",
   "execution_count": 55,
   "metadata": {
    "notebookRunGroups": {
     "groupValue": ""
    }
   },
   "outputs": [],
   "source": [
    "# remove irrelevant columns\n",
    "df_reviews_prepared.drop(columns=['verified', 'unixReviewTime', 'style', 'image', 'vote'], inplace=True)"
   ]
  },
  {
   "cell_type": "code",
   "execution_count": 56,
   "metadata": {},
   "outputs": [],
   "source": [
    "# fill evential null values in the reviewTime and adapt the date format\n",
    "df_reviews_prepared['reviewTime'] = pd.to_datetime(df_reviews_prepared['reviewTime'], errors='coerce')\n",
    "df_reviews_prepared['reviewTime'] = df_reviews_prepared['reviewTime'].fillna(pd.Timestamp.min).dt.strftime('%B %d, %Y')"
   ]
  },
  {
   "cell_type": "code",
   "execution_count": 57,
   "metadata": {
    "notebookRunGroups": {
     "groupValue": ""
    }
   },
   "outputs": [],
   "source": [
    "# remove sample with empty reviewer name and reviwer text, since\n",
    "# it's a very small percentage of the dataset\n",
    "df_reviews_prepared.dropna(subset=['reviewerName', 'reviewText'], inplace=True)"
   ]
  },
  {
   "cell_type": "code",
   "execution_count": 58,
   "metadata": {},
   "outputs": [
    {
     "name": "stdout",
     "output_type": "stream",
     "text": [
      "Total nan values:  overall         0\n",
      "reviewTime      0\n",
      "reviewerID      0\n",
      "asin            0\n",
      "reviewerName    0\n",
      "reviewText      0\n",
      "summary         0\n",
      "dtype: int64\n"
     ]
    }
   ],
   "source": [
    "print(\"Total nan values: \" , df_reviews_prepared.isna().sum())"
   ]
  },
  {
   "cell_type": "code",
   "execution_count": 59,
   "metadata": {
    "notebookRunGroups": {
     "groupValue": ""
    }
   },
   "outputs": [
    {
     "name": "stdout",
     "output_type": "stream",
     "text": [
      "Reviews df shape: (45734, 7)\n",
      "Products df shape: (44109, 19)\n"
     ]
    }
   ],
   "source": [
    "print_shapes(df_reviews_prepared, df_products_prepared)"
   ]
  },
  {
   "cell_type": "markdown",
   "metadata": {},
   "source": [
    "### Process for the product dataset"
   ]
  },
  {
   "cell_type": "code",
   "execution_count": 60,
   "metadata": {},
   "outputs": [
    {
     "name": "stdout",
     "output_type": "stream",
     "text": [
      "Nan values per feature: \n",
      " details    840\n",
      "dtype: int64\n"
     ]
    }
   ],
   "source": [
    "print('Nan values per feature: \\n', count_nan_values(df_products_prepared))"
   ]
  },
  {
   "cell_type": "code",
   "execution_count": 61,
   "metadata": {},
   "outputs": [],
   "source": [
    "# Replace illegal dates with the oldest possible date format\n",
    "df_products_prepared['date'] = pd.to_datetime(df_products_prepared['date'], errors='coerce')\n",
    "df_products_prepared['date'] = df_products_prepared['date'].fillna(pd.Timestamp.min).dt.strftime('%B %d, %Y')"
   ]
  },
  {
   "cell_type": "code",
   "execution_count": 62,
   "metadata": {},
   "outputs": [],
   "source": [
    "# fill nan values of main category with 'Office Products', which the main in the dataset\n",
    "df_products_prepared['main_cat'] = df_products_prepared['main_cat'].fillna('Office Products')"
   ]
  },
  {
   "cell_type": "code",
   "execution_count": 63,
   "metadata": {},
   "outputs": [],
   "source": [
    "# drop the only samples with nan values in title\n",
    "df_products_prepared.dropna(subset=['title'], inplace=True)"
   ]
  },
  {
   "cell_type": "code",
   "execution_count": 64,
   "metadata": {},
   "outputs": [],
   "source": [
    "# fill the missing vlaues of brands with 'Unknown'\n",
    "df_products_prepared['brand'] = df_products_prepared['brand'].fillna('Unknown')"
   ]
  },
  {
   "cell_type": "code",
   "execution_count": 65,
   "metadata": {},
   "outputs": [],
   "source": [
    "# remove useless / irrelevant columns / columns without meaningful data\n",
    "# (details is also irrilevant, as most of the samples has empty json)\n",
    "# we will remove the \"category\" feature for now as well (the one with the list of categories; \n",
    "# we may add it again later if we find a way to use it)\n",
    "cols_to_drop = ['similar_item', 'price', 'details', 'also_view', 'also_buy', \"imageURL\", \"imageURLHighRes\", 'tech1', 'tech2', 'fit', 'category']\n",
    "df_products_prepared.drop(cols_to_drop, axis=1, inplace=True)"
   ]
  },
  {
   "cell_type": "code",
   "execution_count": 66,
   "metadata": {},
   "outputs": [
    {
     "data": {
      "text/html": [
       "<div>\n",
       "<style scoped>\n",
       "    .dataframe tbody tr th:only-of-type {\n",
       "        vertical-align: middle;\n",
       "    }\n",
       "\n",
       "    .dataframe tbody tr th {\n",
       "        vertical-align: top;\n",
       "    }\n",
       "\n",
       "    .dataframe thead th {\n",
       "        text-align: right;\n",
       "    }\n",
       "</style>\n",
       "<table border=\"1\" class=\"dataframe\">\n",
       "  <thead>\n",
       "    <tr style=\"text-align: right;\">\n",
       "      <th></th>\n",
       "      <th>description</th>\n",
       "      <th>title</th>\n",
       "      <th>brand</th>\n",
       "      <th>feature</th>\n",
       "      <th>rank</th>\n",
       "      <th>main_cat</th>\n",
       "      <th>date</th>\n",
       "      <th>asin</th>\n",
       "    </tr>\n",
       "  </thead>\n",
       "  <tbody>\n",
       "    <tr>\n",
       "      <th>108713</th>\n",
       "      <td>[Protect yourself and your RFID card with a Sk...</td>\n",
       "      <td>Black RFID Blocking ID Badge Holder (Holds 2 C...</td>\n",
       "      <td>Specialist ID</td>\n",
       "      <td>[RFID Blocking 2 Card Holder, FIPS 201 Approve...</td>\n",
       "      <td>[&gt;#43,873 in Office Products (See top 100), &gt;#...</td>\n",
       "      <td>Office Products</td>\n",
       "      <td>October 14, 2011</td>\n",
       "      <td>B005VSY1VK</td>\n",
       "    </tr>\n",
       "    <tr>\n",
       "      <th>7634</th>\n",
       "      <td>[The Star Wars Moleskine Saga continues in 201...</td>\n",
       "      <td>Moleskine 2015 Star Wars Limited Edition Daily...</td>\n",
       "      <td>Moleskine</td>\n",
       "      <td>[]</td>\n",
       "      <td>[]</td>\n",
       "      <td>Office Products</td>\n",
       "      <td>December 26, 2013</td>\n",
       "      <td>8867323296</td>\n",
       "    </tr>\n",
       "    <tr>\n",
       "      <th>261709</th>\n",
       "      <td>[Staples Washable Glue Sticks, Purple, .26 oz....</td>\n",
       "      <td>Staples Washable Glue Sticks, Purple, .26 oz.,...</td>\n",
       "      <td>Staples</td>\n",
       "      <td>[]</td>\n",
       "      <td>[&gt;#161,293 in Office Products (See top 100), &gt;...</td>\n",
       "      <td>Office Products</td>\n",
       "      <td>June 22, 2015</td>\n",
       "      <td>B011LAU4R6</td>\n",
       "    </tr>\n",
       "  </tbody>\n",
       "</table>\n",
       "</div>"
      ],
      "text/plain": [
       "                                              description                                              title          brand                                            feature                                               rank         main_cat               date        asin\n",
       "108713  [Protect yourself and your RFID card with a Sk...  Black RFID Blocking ID Badge Holder (Holds 2 C...  Specialist ID  [RFID Blocking 2 Card Holder, FIPS 201 Approve...  [>#43,873 in Office Products (See top 100), >#...  Office Products   October 14, 2011  B005VSY1VK\n",
       "7634    [The Star Wars Moleskine Saga continues in 201...  Moleskine 2015 Star Wars Limited Edition Daily...      Moleskine                                                 []                                                 []  Office Products  December 26, 2013  8867323296\n",
       "261709  [Staples Washable Glue Sticks, Purple, .26 oz....  Staples Washable Glue Sticks, Purple, .26 oz.,...        Staples                                                 []  [>#161,293 in Office Products (See top 100), >...  Office Products      June 22, 2015  B011LAU4R6"
      ]
     },
     "execution_count": 66,
     "metadata": {},
     "output_type": "execute_result"
    }
   ],
   "source": [
    "df_products_prepared.head(3)"
   ]
  },
  {
   "cell_type": "code",
   "execution_count": 67,
   "metadata": {},
   "outputs": [
    {
     "name": "stdout",
     "output_type": "stream",
     "text": [
      "Reviews df shape: (45734, 7)\n",
      "Products df shape: (44109, 8)\n"
     ]
    }
   ],
   "source": [
    "print_shapes(df_reviews_prepared, df_products_prepared)"
   ]
  },
  {
   "cell_type": "markdown",
   "metadata": {},
   "source": [
    "## Filter products by main category"
   ]
  },
  {
   "cell_type": "code",
   "execution_count": 68,
   "metadata": {},
   "outputs": [
    {
     "data": {
      "text/plain": [
       "(32125, 8)"
      ]
     },
     "execution_count": 68,
     "metadata": {},
     "output_type": "execute_result"
    }
   ],
   "source": [
    "df_products_prepared = df_products_prepared[df_products_prepared['main_cat'] == 'Office Products']\n",
    "df_products_prepared.shape"
   ]
  },
  {
   "cell_type": "code",
   "execution_count": 69,
   "metadata": {},
   "outputs": [
    {
     "name": "stdout",
     "output_type": "stream",
     "text": [
      "0\n"
     ]
    }
   ],
   "source": [
    "df_products_not_in_main_category = df_products_prepared[df_products_prepared['main_cat'] != 'Office Products']\n",
    "product_ids_not_in_main_category = df_products_not_in_main_category['asin'].tolist()\n",
    "print(len(product_ids_not_in_main_category))"
   ]
  },
  {
   "cell_type": "markdown",
   "metadata": {},
   "source": [
    "## Text preprocessing"
   ]
  },
  {
   "cell_type": "code",
   "execution_count": 70,
   "metadata": {},
   "outputs": [
    {
     "name": "stderr",
     "output_type": "stream",
     "text": [
      "[nltk_data] Downloading package punkt to /home/lucamodica/nltk_data...\n",
      "[nltk_data]   Package punkt is already up-to-date!\n",
      "[nltk_data] Downloading package wordnet to\n",
      "[nltk_data]     /home/lucamodica/nltk_data...\n",
      "[nltk_data]   Package wordnet is already up-to-date!\n",
      "[nltk_data] Downloading package words to /home/lucamodica/nltk_data...\n",
      "[nltk_data]   Package words is already up-to-date!\n",
      "[nltk_data] Downloading package stopwords to\n",
      "[nltk_data]     /home/lucamodica/nltk_data...\n",
      "[nltk_data]   Package stopwords is already up-to-date!\n",
      "[nltk_data] Downloading package averaged_perceptron_tagger to\n",
      "[nltk_data]     /home/lucamodica/nltk_data...\n",
      "[nltk_data]   Package averaged_perceptron_tagger is already up-to-\n",
      "[nltk_data]       date!\n"
     ]
    },
    {
     "data": {
      "text/plain": [
       "True"
      ]
     },
     "execution_count": 70,
     "metadata": {},
     "output_type": "execute_result"
    }
   ],
   "source": [
    "import re\n",
    "import string\n",
    "from bs4 import BeautifulSoup\n",
    "from unidecode import unidecode\n",
    "import nltk\n",
    "from nltk.tokenize import word_tokenize\n",
    "from nltk.corpus import stopwords\n",
    "from nltk.stem import WordNetLemmatizer\n",
    "from sklearn.base import BaseEstimator, TransformerMixin\n",
    "\n",
    "nltk.download('punkt')\n",
    "nltk.download('wordnet')\n",
    "nltk.download('words')\n",
    "nltk.download('stopwords')\n",
    "nltk.download('averaged_perceptron_tagger')"
   ]
  },
  {
   "cell_type": "code",
   "execution_count": 71,
   "metadata": {},
   "outputs": [],
   "source": [
    "import text_preprocessing as tp\n",
    "\n",
    "# function parsing an array of stirng in stirng form into a real list of strings\n",
    "def parse_string_array(arr):\n",
    "    if arr == '[]':\n",
    "        return []\n",
    "    return arr[1:-1].split(', ')\n",
    "\n",
    "preprocessor = tp.TextPreprocessor()"
   ]
  },
  {
   "cell_type": "code",
   "execution_count": 72,
   "metadata": {},
   "outputs": [],
   "source": [
    "df_reviews_prepared['summary'] = df_reviews_prepared['summary'].astype(str)\n",
    "df_reviews_prepared['summary'] = preprocessor.fit_transform(df_reviews_prepared['summary'])\n",
    "\n",
    "df_reviews_prepared = df_reviews_prepared[df_reviews_prepared['summary'] != '']"
   ]
  },
  {
   "cell_type": "code",
   "execution_count": 73,
   "metadata": {},
   "outputs": [],
   "source": [
    "df_reviews_prepared['reviewText'] = df_reviews_prepared['reviewText'].astype(str)\n",
    "df_reviews_prepared['reviewText'] = preprocessor.fit_transform(df_reviews_prepared['reviewText'])\n",
    "\n",
    "df_reviews_prepared = df_reviews_prepared[df_reviews_prepared['reviewText'] != '']"
   ]
  },
  {
   "cell_type": "code",
   "execution_count": 74,
   "metadata": {},
   "outputs": [],
   "source": [
    "df_products_prepared['description'] = df_products_prepared['description'].astype(str)\n",
    "df_products_prepared['description'] = preprocessor.fit_transform(df_products_prepared['description'])\n",
    "df_products_prepared['description'] = df_products_prepared['description'].str[1:-1]\n",
    "\n",
    "df_products_prepared = df_products_prepared[df_products_prepared['description'] != '']"
   ]
  },
  {
   "cell_type": "code",
   "execution_count": 75,
   "metadata": {},
   "outputs": [],
   "source": [
    "# parse the feature column in lists, and then concatenate them together\n",
    "# the prerprocessing will follow\n",
    "df_products_prepared['feature'] = df_products_prepared['feature'].astype(str)\n",
    "df_products_prepared['feature'] = df_products_prepared['feature'].apply(lambda x: \". \".join(eval(x)).strip())\n",
    "df_products_prepared['feature'] = preprocessor.fit_transform(df_products_prepared['feature'])\n",
    "\n",
    "df_products_prepared = df_products_prepared[df_products_prepared['feature'] != '']"
   ]
  },
  {
   "cell_type": "markdown",
   "metadata": {},
   "source": [
    "## Handling \"rank\" feature from product dataset"
   ]
  },
  {
   "cell_type": "markdown",
   "metadata": {},
   "source": [
    "We decided just to keep the rank of the product in the office category (the rank will be -1 if the product doen't have a rank in hte Office category)"
   ]
  },
  {
   "cell_type": "code",
   "execution_count": 76,
   "metadata": {},
   "outputs": [],
   "source": [
    "def extract_office_product_rank(rank):\n",
    "    match = re.search(r'>#(\\d+)', rank)\n",
    "    if match and 'Office Products' in rank:\n",
    "        return int(match.group(1))\n",
    "    else:\n",
    "        return -1\n",
    "\n",
    "df_products_prepared['rank'] = df_products_prepared['rank'].astype(str)\n",
    "df_products_prepared['rank'] = df_products_prepared['rank'].apply(extract_office_product_rank)"
   ]
  },
  {
   "cell_type": "markdown",
   "metadata": {},
   "source": [
    "## Renaming features"
   ]
  },
  {
   "cell_type": "code",
   "execution_count": 77,
   "metadata": {},
   "outputs": [],
   "source": [
    "df_products_prepared.rename(columns={'date': 'productPublishedDate'}, inplace=True)"
   ]
  },
  {
   "cell_type": "markdown",
   "metadata": {},
   "source": [
    "## Remove reviews of products missing in the product dataset"
   ]
  },
  {
   "cell_type": "code",
   "execution_count": 78,
   "metadata": {},
   "outputs": [],
   "source": [
    "# Remove reviews of products missing in the product dataset\n",
    "df_reviews_prepared = df_reviews_prepared[df_reviews_prepared['asin'].isin(df_products_prepared['asin'])]"
   ]
  },
  {
   "cell_type": "markdown",
   "metadata": {},
   "source": [
    "## Save the prepared data"
   ]
  },
  {
   "cell_type": "code",
   "execution_count": 79,
   "metadata": {},
   "outputs": [
    {
     "name": "stdout",
     "output_type": "stream",
     "text": [
      "Reviews df shape: (34839, 7)\n",
      "Products df shape: (26626, 8)\n"
     ]
    }
   ],
   "source": [
    "print_shapes(df_reviews_prepared, df_products_prepared)"
   ]
  },
  {
   "cell_type": "code",
   "execution_count": 80,
   "metadata": {},
   "outputs": [
    {
     "name": "stdout",
     "output_type": "stream",
     "text": [
      "Number of unique products: 25775\n",
      "Number of unique users: 999\n"
     ]
    }
   ],
   "source": [
    "print(f'Number of unique products: {df_products_prepared[\"asin\"].nunique()}')\n",
    "print(f'Number of unique users: {df_reviews_prepared[\"reviewerID\"].nunique()}')"
   ]
  },
  {
   "cell_type": "code",
   "execution_count": 81,
   "metadata": {},
   "outputs": [
    {
     "data": {
      "text/html": [
       "<div>\n",
       "<style scoped>\n",
       "    .dataframe tbody tr th:only-of-type {\n",
       "        vertical-align: middle;\n",
       "    }\n",
       "\n",
       "    .dataframe tbody tr th {\n",
       "        vertical-align: top;\n",
       "    }\n",
       "\n",
       "    .dataframe thead th {\n",
       "        text-align: right;\n",
       "    }\n",
       "</style>\n",
       "<table border=\"1\" class=\"dataframe\">\n",
       "  <thead>\n",
       "    <tr style=\"text-align: right;\">\n",
       "      <th></th>\n",
       "      <th>overall</th>\n",
       "      <th>reviewTime</th>\n",
       "      <th>reviewerID</th>\n",
       "      <th>asin</th>\n",
       "      <th>reviewerName</th>\n",
       "      <th>reviewText</th>\n",
       "      <th>summary</th>\n",
       "    </tr>\n",
       "  </thead>\n",
       "  <tbody>\n",
       "    <tr>\n",
       "      <th>286</th>\n",
       "      <td>5.0</td>\n",
       "      <td>April 09, 2016</td>\n",
       "      <td>A2GIQGI2UXOZ4M</td>\n",
       "      <td>0439893577</td>\n",
       "      <td>Gene Sechrest</td>\n",
       "      <td>job big enough purpose fold flat fold stand gr...</td>\n",
       "      <td>ultimate kid magnetic board</td>\n",
       "    </tr>\n",
       "    <tr>\n",
       "      <th>500</th>\n",
       "      <td>5.0</td>\n",
       "      <td>October 27, 2017</td>\n",
       "      <td>A2M13JN7YVG29U</td>\n",
       "      <td>0528960911</td>\n",
       "      <td>Stacie Baugh</td>\n",
       "      <td>love</td>\n",
       "      <td>five star</td>\n",
       "    </tr>\n",
       "    <tr>\n",
       "      <th>510</th>\n",
       "      <td>5.0</td>\n",
       "      <td>December 31, 2014</td>\n",
       "      <td>A2ZVLGM9E6X2HY</td>\n",
       "      <td>0528960911</td>\n",
       "      <td>Michael Isgro</td>\n",
       "      <td>great money 15 look nice colorful</td>\n",
       "      <td>five star</td>\n",
       "    </tr>\n",
       "  </tbody>\n",
       "</table>\n",
       "</div>"
      ],
      "text/plain": [
       "     overall         reviewTime      reviewerID        asin   reviewerName                                         reviewText                      summary\n",
       "286      5.0     April 09, 2016  A2GIQGI2UXOZ4M  0439893577  Gene Sechrest  job big enough purpose fold flat fold stand gr...  ultimate kid magnetic board\n",
       "500      5.0   October 27, 2017  A2M13JN7YVG29U  0528960911   Stacie Baugh                                               love                    five star\n",
       "510      5.0  December 31, 2014  A2ZVLGM9E6X2HY  0528960911  Michael Isgro                  great money 15 look nice colorful                    five star"
      ]
     },
     "execution_count": 81,
     "metadata": {},
     "output_type": "execute_result"
    }
   ],
   "source": [
    "df_reviews_prepared.head(3)"
   ]
  },
  {
   "cell_type": "code",
   "execution_count": 82,
   "metadata": {
    "notebookRunGroups": {
     "groupValue": ""
    }
   },
   "outputs": [
    {
     "data": {
      "text/html": [
       "<div>\n",
       "<style scoped>\n",
       "    .dataframe tbody tr th:only-of-type {\n",
       "        vertical-align: middle;\n",
       "    }\n",
       "\n",
       "    .dataframe tbody tr th {\n",
       "        vertical-align: top;\n",
       "    }\n",
       "\n",
       "    .dataframe thead th {\n",
       "        text-align: right;\n",
       "    }\n",
       "</style>\n",
       "<table border=\"1\" class=\"dataframe\">\n",
       "  <thead>\n",
       "    <tr style=\"text-align: right;\">\n",
       "      <th></th>\n",
       "      <th>description</th>\n",
       "      <th>title</th>\n",
       "      <th>brand</th>\n",
       "      <th>feature</th>\n",
       "      <th>rank</th>\n",
       "      <th>main_cat</th>\n",
       "      <th>productPublishedDate</th>\n",
       "      <th>asin</th>\n",
       "    </tr>\n",
       "  </thead>\n",
       "  <tbody>\n",
       "    <tr>\n",
       "      <th>108713</th>\n",
       "      <td>rotect rfid card skimsafe card holder made rig...</td>\n",
       "      <td>Black RFID Blocking ID Badge Holder (Holds 2 C...</td>\n",
       "      <td>Specialist ID</td>\n",
       "      <td>rfid blocking 2 card holder fips 201 approved ...</td>\n",
       "      <td>43</td>\n",
       "      <td>Office Products</td>\n",
       "      <td>October 14, 2011</td>\n",
       "      <td>B005VSY1VK</td>\n",
       "    </tr>\n",
       "    <tr>\n",
       "      <th>156159</th>\n",
       "      <td>itten piano key mouse pad 8 x 8 x 25 made heav...</td>\n",
       "      <td>3dRose LLC 8 x 8 x 0.25 Inches Kitten on Piano...</td>\n",
       "      <td>3dRose</td>\n",
       "      <td>dimension inch 8 w x 8 h x 025 matte finish so...</td>\n",
       "      <td>1</td>\n",
       "      <td>Office Products</td>\n",
       "      <td>July 14, 2014</td>\n",
       "      <td>B00CX71JNU</td>\n",
       "    </tr>\n",
       "    <tr>\n",
       "      <th>68230</th>\n",
       "      <td>ivo next favorite pen ultra gel stick vibrant ...</td>\n",
       "      <td>Vivo Ultra Gel Stick Pens, 0.7mm Fine Tip, Bla...</td>\n",
       "      <td>VIVO</td>\n",
       "      <td>ultra smooth gel ink vivid black amp color ful...</td>\n",
       "      <td>1</td>\n",
       "      <td>Office Products</td>\n",
       "      <td>April 30, 2009</td>\n",
       "      <td>B002CO43BO</td>\n",
       "    </tr>\n",
       "  </tbody>\n",
       "</table>\n",
       "</div>"
      ],
      "text/plain": [
       "                                              description                                              title          brand                                            feature  rank         main_cat productPublishedDate        asin\n",
       "108713  rotect rfid card skimsafe card holder made rig...  Black RFID Blocking ID Badge Holder (Holds 2 C...  Specialist ID  rfid blocking 2 card holder fips 201 approved ...    43  Office Products     October 14, 2011  B005VSY1VK\n",
       "156159  itten piano key mouse pad 8 x 8 x 25 made heav...  3dRose LLC 8 x 8 x 0.25 Inches Kitten on Piano...         3dRose  dimension inch 8 w x 8 h x 025 matte finish so...     1  Office Products        July 14, 2014  B00CX71JNU\n",
       "68230   ivo next favorite pen ultra gel stick vibrant ...  Vivo Ultra Gel Stick Pens, 0.7mm Fine Tip, Bla...           VIVO  ultra smooth gel ink vivid black amp color ful...     1  Office Products       April 30, 2009  B002CO43BO"
      ]
     },
     "execution_count": 82,
     "metadata": {},
     "output_type": "execute_result"
    }
   ],
   "source": [
    "df_products_prepared.head(3)"
   ]
  },
  {
   "cell_type": "code",
   "execution_count": 83,
   "metadata": {},
   "outputs": [],
   "source": [
    "save_data(df_reviews_prepared, df_products_prepared, 'data/reviews_sampled_processed.csv', 'data/products_sampled_processed.csv')"
   ]
  }
 ],
 "metadata": {
  "kernelspec": {
   "display_name": "projects",
   "language": "python",
   "name": "python3"
  },
  "language_info": {
   "codemirror_mode": {
    "name": "ipython",
    "version": 3
   },
   "file_extension": ".py",
   "mimetype": "text/x-python",
   "name": "python",
   "nbconvert_exporter": "python",
   "pygments_lexer": "ipython3",
   "version": "3.12.2"
  }
 },
 "nbformat": 4,
 "nbformat_minor": 2
}
