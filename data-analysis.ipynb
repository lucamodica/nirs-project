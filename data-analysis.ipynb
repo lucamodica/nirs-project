{
 "cells": [
  {
   "cell_type": "markdown",
   "metadata": {},
   "source": [
    "# NIRS (data analysis)"
   ]
  },
  {
   "cell_type": "markdown",
   "metadata": {},
   "source": [
    "We decided to use Amazon review Product dataset ([link to the dataset](https://cseweb.ucsd.edu/~jmcauley/datasets/amazon_v2/)), in particular for office product."
   ]
  },
  {
   "cell_type": "code",
   "execution_count": 2,
   "metadata": {},
   "outputs": [],
   "source": [
    "import pandas as pd\n",
    "import numpy as np\n",
    "import gzip\n",
    "import json\n",
    "import utils\n",
    "import matplotlib.pyplot as plt\n",
    "import seaborn as sns\n",
    "import data_cleaning as cleaning\n",
    "\n",
    "utils.seed_everything(42)\n",
    "%matplotlib inline\n",
    "sns.set_theme()"
   ]
  },
  {
   "cell_type": "markdown",
   "metadata": {},
   "source": [
    "## Reading data"
   ]
  },
  {
   "cell_type": "code",
   "execution_count": 31,
   "metadata": {},
   "outputs": [
    {
     "ename": "KeyboardInterrupt",
     "evalue": "",
     "output_type": "error",
     "traceback": [
      "\u001b[0;31m---------------------------------------------------------------------------\u001b[0m",
      "\u001b[0;31mKeyboardInterrupt\u001b[0m                         Traceback (most recent call last)",
      "Cell \u001b[0;32mIn[31], line 5\u001b[0m\n\u001b[1;32m      2\u001b[0m df_reviews_init \u001b[38;5;241m=\u001b[39m utils\u001b[38;5;241m.\u001b[39mgetDF(\u001b[38;5;124m'\u001b[39m\u001b[38;5;124mdata/Office_Products_5.json.gz\u001b[39m\u001b[38;5;124m'\u001b[39m)\n\u001b[1;32m      4\u001b[0m \u001b[38;5;66;03m# product data\u001b[39;00m\n\u001b[0;32m----> 5\u001b[0m df_products_init \u001b[38;5;241m=\u001b[39m \u001b[43mutils\u001b[49m\u001b[38;5;241;43m.\u001b[39;49m\u001b[43mgetDF\u001b[49m\u001b[43m(\u001b[49m\u001b[38;5;124;43m'\u001b[39;49m\u001b[38;5;124;43mdata/meta_Office_Products.json.gz\u001b[39;49m\u001b[38;5;124;43m'\u001b[39;49m\u001b[43m)\u001b[49m\n",
      "File \u001b[0;32m~/chalmers/nirs-project/utils.py:18\u001b[0m, in \u001b[0;36mgetDF\u001b[0;34m(path)\u001b[0m\n\u001b[1;32m     16\u001b[0m i \u001b[38;5;241m=\u001b[39m \u001b[38;5;241m0\u001b[39m\n\u001b[1;32m     17\u001b[0m df \u001b[38;5;241m=\u001b[39m {}\n\u001b[0;32m---> 18\u001b[0m \u001b[43m\u001b[49m\u001b[38;5;28;43;01mfor\u001b[39;49;00m\u001b[43m \u001b[49m\u001b[43md\u001b[49m\u001b[43m \u001b[49m\u001b[38;5;129;43;01min\u001b[39;49;00m\u001b[43m \u001b[49m\u001b[43mparse\u001b[49m\u001b[43m(\u001b[49m\u001b[43mpath\u001b[49m\u001b[43m)\u001b[49m\u001b[43m:\u001b[49m\n\u001b[1;32m     19\u001b[0m \u001b[43m  \u001b[49m\u001b[43mdf\u001b[49m\u001b[43m[\u001b[49m\u001b[43mi\u001b[49m\u001b[43m]\u001b[49m\u001b[43m \u001b[49m\u001b[38;5;241;43m=\u001b[39;49m\u001b[43m \u001b[49m\u001b[43md\u001b[49m\n\u001b[1;32m     20\u001b[0m \u001b[43m  \u001b[49m\u001b[43mi\u001b[49m\u001b[43m \u001b[49m\u001b[38;5;241;43m+\u001b[39;49m\u001b[38;5;241;43m=\u001b[39;49m\u001b[43m \u001b[49m\u001b[38;5;241;43m1\u001b[39;49m\n",
      "File \u001b[0;32m~/chalmers/nirs-project/utils.py:13\u001b[0m, in \u001b[0;36mparse\u001b[0;34m(path)\u001b[0m\n\u001b[1;32m     11\u001b[0m g \u001b[38;5;241m=\u001b[39m gzip\u001b[38;5;241m.\u001b[39mopen(path, \u001b[38;5;124m'\u001b[39m\u001b[38;5;124mr\u001b[39m\u001b[38;5;124m'\u001b[39m)\n\u001b[1;32m     12\u001b[0m \u001b[38;5;28;01mfor\u001b[39;00m l \u001b[38;5;129;01min\u001b[39;00m g:\n\u001b[0;32m---> 13\u001b[0m   \u001b[38;5;28;01myield\u001b[39;00m \u001b[43mjson\u001b[49m\u001b[38;5;241;43m.\u001b[39;49m\u001b[43mloads\u001b[49m\u001b[43m(\u001b[49m\u001b[43ml\u001b[49m\u001b[38;5;241;43m.\u001b[39;49m\u001b[43mstrip\u001b[49m\u001b[43m(\u001b[49m\u001b[43m)\u001b[49m\u001b[43m)\u001b[49m\n",
      "File \u001b[0;32m~/mambaforge/envs/design-ai/lib/python3.12/json/__init__.py:346\u001b[0m, in \u001b[0;36mloads\u001b[0;34m(s, cls, object_hook, parse_float, parse_int, parse_constant, object_pairs_hook, **kw)\u001b[0m\n\u001b[1;32m    341\u001b[0m     s \u001b[38;5;241m=\u001b[39m s\u001b[38;5;241m.\u001b[39mdecode(detect_encoding(s), \u001b[38;5;124m'\u001b[39m\u001b[38;5;124msurrogatepass\u001b[39m\u001b[38;5;124m'\u001b[39m)\n\u001b[1;32m    343\u001b[0m \u001b[38;5;28;01mif\u001b[39;00m (\u001b[38;5;28mcls\u001b[39m \u001b[38;5;129;01mis\u001b[39;00m \u001b[38;5;28;01mNone\u001b[39;00m \u001b[38;5;129;01mand\u001b[39;00m object_hook \u001b[38;5;129;01mis\u001b[39;00m \u001b[38;5;28;01mNone\u001b[39;00m \u001b[38;5;129;01mand\u001b[39;00m\n\u001b[1;32m    344\u001b[0m         parse_int \u001b[38;5;129;01mis\u001b[39;00m \u001b[38;5;28;01mNone\u001b[39;00m \u001b[38;5;129;01mand\u001b[39;00m parse_float \u001b[38;5;129;01mis\u001b[39;00m \u001b[38;5;28;01mNone\u001b[39;00m \u001b[38;5;129;01mand\u001b[39;00m\n\u001b[1;32m    345\u001b[0m         parse_constant \u001b[38;5;129;01mis\u001b[39;00m \u001b[38;5;28;01mNone\u001b[39;00m \u001b[38;5;129;01mand\u001b[39;00m object_pairs_hook \u001b[38;5;129;01mis\u001b[39;00m \u001b[38;5;28;01mNone\u001b[39;00m \u001b[38;5;129;01mand\u001b[39;00m \u001b[38;5;129;01mnot\u001b[39;00m kw):\n\u001b[0;32m--> 346\u001b[0m     \u001b[38;5;28;01mreturn\u001b[39;00m \u001b[43m_default_decoder\u001b[49m\u001b[38;5;241;43m.\u001b[39;49m\u001b[43mdecode\u001b[49m\u001b[43m(\u001b[49m\u001b[43ms\u001b[49m\u001b[43m)\u001b[49m\n\u001b[1;32m    347\u001b[0m \u001b[38;5;28;01mif\u001b[39;00m \u001b[38;5;28mcls\u001b[39m \u001b[38;5;129;01mis\u001b[39;00m \u001b[38;5;28;01mNone\u001b[39;00m:\n\u001b[1;32m    348\u001b[0m     \u001b[38;5;28mcls\u001b[39m \u001b[38;5;241m=\u001b[39m JSONDecoder\n",
      "File \u001b[0;32m~/mambaforge/envs/design-ai/lib/python3.12/json/decoder.py:337\u001b[0m, in \u001b[0;36mJSONDecoder.decode\u001b[0;34m(self, s, _w)\u001b[0m\n\u001b[1;32m    332\u001b[0m \u001b[38;5;28;01mdef\u001b[39;00m \u001b[38;5;21mdecode\u001b[39m(\u001b[38;5;28mself\u001b[39m, s, _w\u001b[38;5;241m=\u001b[39mWHITESPACE\u001b[38;5;241m.\u001b[39mmatch):\n\u001b[1;32m    333\u001b[0m \u001b[38;5;250m    \u001b[39m\u001b[38;5;124;03m\"\"\"Return the Python representation of ``s`` (a ``str`` instance\u001b[39;00m\n\u001b[1;32m    334\u001b[0m \u001b[38;5;124;03m    containing a JSON document).\u001b[39;00m\n\u001b[1;32m    335\u001b[0m \n\u001b[1;32m    336\u001b[0m \u001b[38;5;124;03m    \"\"\"\u001b[39;00m\n\u001b[0;32m--> 337\u001b[0m     obj, end \u001b[38;5;241m=\u001b[39m \u001b[38;5;28;43mself\u001b[39;49m\u001b[38;5;241;43m.\u001b[39;49m\u001b[43mraw_decode\u001b[49m\u001b[43m(\u001b[49m\u001b[43ms\u001b[49m\u001b[43m,\u001b[49m\u001b[43m \u001b[49m\u001b[43midx\u001b[49m\u001b[38;5;241;43m=\u001b[39;49m\u001b[43m_w\u001b[49m\u001b[43m(\u001b[49m\u001b[43ms\u001b[49m\u001b[43m,\u001b[49m\u001b[43m \u001b[49m\u001b[38;5;241;43m0\u001b[39;49m\u001b[43m)\u001b[49m\u001b[38;5;241;43m.\u001b[39;49m\u001b[43mend\u001b[49m\u001b[43m(\u001b[49m\u001b[43m)\u001b[49m\u001b[43m)\u001b[49m\n\u001b[1;32m    338\u001b[0m     end \u001b[38;5;241m=\u001b[39m _w(s, end)\u001b[38;5;241m.\u001b[39mend()\n\u001b[1;32m    339\u001b[0m     \u001b[38;5;28;01mif\u001b[39;00m end \u001b[38;5;241m!=\u001b[39m \u001b[38;5;28mlen\u001b[39m(s):\n",
      "File \u001b[0;32m~/mambaforge/envs/design-ai/lib/python3.12/json/decoder.py:353\u001b[0m, in \u001b[0;36mJSONDecoder.raw_decode\u001b[0;34m(self, s, idx)\u001b[0m\n\u001b[1;32m    344\u001b[0m \u001b[38;5;250m\u001b[39m\u001b[38;5;124;03m\"\"\"Decode a JSON document from ``s`` (a ``str`` beginning with\u001b[39;00m\n\u001b[1;32m    345\u001b[0m \u001b[38;5;124;03ma JSON document) and return a 2-tuple of the Python\u001b[39;00m\n\u001b[1;32m    346\u001b[0m \u001b[38;5;124;03mrepresentation and the index in ``s`` where the document ended.\u001b[39;00m\n\u001b[0;32m   (...)\u001b[0m\n\u001b[1;32m    350\u001b[0m \n\u001b[1;32m    351\u001b[0m \u001b[38;5;124;03m\"\"\"\u001b[39;00m\n\u001b[1;32m    352\u001b[0m \u001b[38;5;28;01mtry\u001b[39;00m:\n\u001b[0;32m--> 353\u001b[0m     obj, end \u001b[38;5;241m=\u001b[39m \u001b[38;5;28;43mself\u001b[39;49m\u001b[38;5;241;43m.\u001b[39;49m\u001b[43mscan_once\u001b[49m\u001b[43m(\u001b[49m\u001b[43ms\u001b[49m\u001b[43m,\u001b[49m\u001b[43m \u001b[49m\u001b[43midx\u001b[49m\u001b[43m)\u001b[49m\n\u001b[1;32m    354\u001b[0m \u001b[38;5;28;01mexcept\u001b[39;00m \u001b[38;5;167;01mStopIteration\u001b[39;00m \u001b[38;5;28;01mas\u001b[39;00m err:\n\u001b[1;32m    355\u001b[0m     \u001b[38;5;28;01mraise\u001b[39;00m JSONDecodeError(\u001b[38;5;124m\"\u001b[39m\u001b[38;5;124mExpecting value\u001b[39m\u001b[38;5;124m\"\u001b[39m, s, err\u001b[38;5;241m.\u001b[39mvalue) \u001b[38;5;28;01mfrom\u001b[39;00m \u001b[38;5;28;01mNone\u001b[39;00m\n",
      "\u001b[0;31mKeyboardInterrupt\u001b[0m: "
     ]
    }
   ],
   "source": [
    "# review data\n",
    "df_reviews_init = utils.getDF('data/Office_Products_5.json.gz')\n",
    "\n",
    "# product data\n",
    "df_products_init = utils.getDF('data/meta_Office_Products.json.gz')"
   ]
  },
  {
   "cell_type": "markdown",
   "metadata": {},
   "source": [
    "As in the data preparation, we will take a sample from both the reviwes and the products (or read them if available)"
   ]
  },
  {
   "cell_type": "code",
   "execution_count": 5,
   "metadata": {},
   "outputs": [],
   "source": [
    "import os\n",
    "\n",
    "reviews_sampled_path = 'data/reviews_sampled.csv'\n",
    "products_sampled_path = 'data/products_sampled.csv'\n",
    "\n",
    "# sample data\n",
    "if os.path.exists(reviews_sampled_path) and os.path.exists(products_sampled_path):\n",
    "  df_reviews_sampled = pd.read_csv(reviews_sampled_path)\n",
    "  df_products_sampled = pd.read_csv(products_sampled_path)\n",
    "else:\n",
    "  df_reviews_sampled, df_products_sampled = utils.sample_data(\n",
    "    df_reviews_init, df_products_init, min_reviews_count=10, max_users=1000, frac_products=0.1)"
   ]
  },
  {
   "cell_type": "markdown",
   "metadata": {},
   "source": [
    "Little bit of cleaning..."
   ]
  },
  {
   "cell_type": "code",
   "execution_count": 6,
   "metadata": {},
   "outputs": [],
   "source": [
    "# drop irrelevant columns for the analysis\n",
    "df_reviews = cleaning.clean_reviews_data(df_reviews_sampled)\n",
    "df_products = cleaning.clean_products_data(df_products_sampled)"
   ]
  },
  {
   "cell_type": "code",
   "execution_count": 8,
   "metadata": {},
   "outputs": [
    {
     "data": {
      "text/html": [
       "<div>\n",
       "<style scoped>\n",
       "    .dataframe tbody tr th:only-of-type {\n",
       "        vertical-align: middle;\n",
       "    }\n",
       "\n",
       "    .dataframe tbody tr th {\n",
       "        vertical-align: top;\n",
       "    }\n",
       "\n",
       "    .dataframe thead th {\n",
       "        text-align: right;\n",
       "    }\n",
       "</style>\n",
       "<table border=\"1\" class=\"dataframe\">\n",
       "  <thead>\n",
       "    <tr style=\"text-align: right;\">\n",
       "      <th></th>\n",
       "      <th>description</th>\n",
       "      <th>title</th>\n",
       "      <th>brand</th>\n",
       "      <th>feature</th>\n",
       "      <th>rank</th>\n",
       "      <th>main_cat</th>\n",
       "      <th>date</th>\n",
       "      <th>asin</th>\n",
       "    </tr>\n",
       "  </thead>\n",
       "  <tbody>\n",
       "    <tr>\n",
       "      <th>0</th>\n",
       "      <td>['Protect yourself and your RFID card with a S...</td>\n",
       "      <td>Black RFID Blocking ID Badge Holder (Holds 2 C...</td>\n",
       "      <td>Specialist ID</td>\n",
       "      <td>['RFID Blocking 2 Card Holder', 'FIPS 201 Appr...</td>\n",
       "      <td>['&gt;#43,873 in Office Products (See top 100)', ...</td>\n",
       "      <td>Office Products</td>\n",
       "      <td>October 14, 2011</td>\n",
       "      <td>B005VSY1VK</td>\n",
       "    </tr>\n",
       "    <tr>\n",
       "      <th>1</th>\n",
       "      <td>['The Star Wars Moleskine Saga continues in 20...</td>\n",
       "      <td>Moleskine 2015 Star Wars Limited Edition Daily...</td>\n",
       "      <td>Moleskine</td>\n",
       "      <td>[]</td>\n",
       "      <td>[]</td>\n",
       "      <td>Office Products</td>\n",
       "      <td>December 26, 2013</td>\n",
       "      <td>8867323296</td>\n",
       "    </tr>\n",
       "    <tr>\n",
       "      <th>2</th>\n",
       "      <td>['Staples Washable Glue Sticks, Purple, .26 oz...</td>\n",
       "      <td>Staples Washable Glue Sticks, Purple, .26 oz.,...</td>\n",
       "      <td>Staples</td>\n",
       "      <td>[]</td>\n",
       "      <td>['&gt;#161,293 in Office Products (See top 100)',...</td>\n",
       "      <td>Office Products</td>\n",
       "      <td>June 22, 2015</td>\n",
       "      <td>B011LAU4R6</td>\n",
       "    </tr>\n",
       "    <tr>\n",
       "      <th>3</th>\n",
       "      <td>['Exclusive design, classic']</td>\n",
       "      <td>Best Abstract Fiery Floral Design Mouse Pads C...</td>\n",
       "      <td>Luxlady?Mousepad</td>\n",
       "      <td>['Material is made of the best plastic manufac...</td>\n",
       "      <td>['&gt;#143,156 in Computers &amp; Accessories &gt; Compu...</td>\n",
       "      <td>Cell Phones &amp; Accessories</td>\n",
       "      <td>September 21, 1677</td>\n",
       "      <td>B00KH94VSG</td>\n",
       "    </tr>\n",
       "    <tr>\n",
       "      <th>4</th>\n",
       "      <td>['Kitten On Piano Keys Mouse Pad is 8\" x 8\" x ...</td>\n",
       "      <td>3dRose LLC 8 x 8 x 0.25 Inches Kitten on Piano...</td>\n",
       "      <td>3dRose</td>\n",
       "      <td>['Dimensions (in inches): 8 W x 8 H x 0.25 D',...</td>\n",
       "      <td>['&gt;#1,396,217 in Office Products (See top 100)...</td>\n",
       "      <td>Office Products</td>\n",
       "      <td>July 14, 2014</td>\n",
       "      <td>B00CX71JNU</td>\n",
       "    </tr>\n",
       "  </tbody>\n",
       "</table>\n",
       "</div>"
      ],
      "text/plain": [
       "                                         description                                              title             brand                                            feature                                               rank                   main_cat                date        asin\n",
       "0  ['Protect yourself and your RFID card with a S...  Black RFID Blocking ID Badge Holder (Holds 2 C...     Specialist ID  ['RFID Blocking 2 Card Holder', 'FIPS 201 Appr...  ['>#43,873 in Office Products (See top 100)', ...            Office Products    October 14, 2011  B005VSY1VK\n",
       "1  ['The Star Wars Moleskine Saga continues in 20...  Moleskine 2015 Star Wars Limited Edition Daily...         Moleskine                                                 []                                                 []            Office Products   December 26, 2013  8867323296\n",
       "2  ['Staples Washable Glue Sticks, Purple, .26 oz...  Staples Washable Glue Sticks, Purple, .26 oz.,...           Staples                                                 []  ['>#161,293 in Office Products (See top 100)',...            Office Products       June 22, 2015  B011LAU4R6\n",
       "3                      ['Exclusive design, classic']  Best Abstract Fiery Floral Design Mouse Pads C...  Luxlady?Mousepad  ['Material is made of the best plastic manufac...  ['>#143,156 in Computers & Accessories > Compu...  Cell Phones & Accessories  September 21, 1677  B00KH94VSG\n",
       "4  ['Kitten On Piano Keys Mouse Pad is 8\" x 8\" x ...  3dRose LLC 8 x 8 x 0.25 Inches Kitten on Piano...            3dRose  ['Dimensions (in inches): 8 W x 8 H x 0.25 D',...  ['>#1,396,217 in Office Products (See top 100)...            Office Products       July 14, 2014  B00CX71JNU"
      ]
     },
     "execution_count": 8,
     "metadata": {},
     "output_type": "execute_result"
    }
   ],
   "source": [
    "df_products.head()"
   ]
  },
  {
   "cell_type": "code",
   "execution_count": 20,
   "metadata": {},
   "outputs": [],
   "source": [
    "# review data with the reviewed product\n",
    "df = pd.merge(df_reviews, df_products, left_on='asin', right_on='asin')"
   ]
  },
  {
   "cell_type": "code",
   "execution_count": 21,
   "metadata": {},
   "outputs": [
    {
     "name": "stdout",
     "output_type": "stream",
     "text": [
      "Reviews df shape: (800357, 12)\n",
      "Products df shape: (315458, 8)\n"
     ]
    }
   ],
   "source": [
    "utils.print_shapes(df_reviews_init, df_products)"
   ]
  },
  {
   "cell_type": "code",
   "execution_count": 22,
   "metadata": {},
   "outputs": [
    {
     "name": "stdout",
     "output_type": "stream",
     "text": [
      "Number of unique products: 306617\n",
      "Number of unique users: 101501\n"
     ]
    }
   ],
   "source": [
    "print(f'Number of unique products: {df_products[\"asin\"].nunique()}')\n",
    "print(f'Number of unique users: {df_reviews[\"reviewerID\"].nunique()}')"
   ]
  },
  {
   "cell_type": "code",
   "execution_count": 23,
   "metadata": {},
   "outputs": [
    {
     "data": {
      "text/html": [
       "<div>\n",
       "<style scoped>\n",
       "    .dataframe tbody tr th:only-of-type {\n",
       "        vertical-align: middle;\n",
       "    }\n",
       "\n",
       "    .dataframe tbody tr th {\n",
       "        vertical-align: top;\n",
       "    }\n",
       "\n",
       "    .dataframe thead th {\n",
       "        text-align: right;\n",
       "    }\n",
       "</style>\n",
       "<table border=\"1\" class=\"dataframe\">\n",
       "  <thead>\n",
       "    <tr style=\"text-align: right;\">\n",
       "      <th></th>\n",
       "      <th>overall</th>\n",
       "      <th>reviewTime</th>\n",
       "      <th>reviewerID</th>\n",
       "      <th>asin</th>\n",
       "      <th>reviewerName</th>\n",
       "      <th>reviewText</th>\n",
       "      <th>summary</th>\n",
       "    </tr>\n",
       "  </thead>\n",
       "  <tbody>\n",
       "    <tr>\n",
       "      <th>0</th>\n",
       "      <td>4.0</td>\n",
       "      <td>11 7, 2017</td>\n",
       "      <td>A2NIJTYWADLK57</td>\n",
       "      <td>0140503528</td>\n",
       "      <td>cotton clay</td>\n",
       "      <td>kids like story BUT while i really wanted a bo...</td>\n",
       "      <td>good story, small size book though</td>\n",
       "    </tr>\n",
       "    <tr>\n",
       "      <th>1</th>\n",
       "      <td>4.0</td>\n",
       "      <td>03 7, 2017</td>\n",
       "      <td>A2827D8EEURMP4</td>\n",
       "      <td>0140503528</td>\n",
       "      <td>emankcin</td>\n",
       "      <td>Bought this used and it came in great conditio...</td>\n",
       "      <td>Good</td>\n",
       "    </tr>\n",
       "    <tr>\n",
       "      <th>2</th>\n",
       "      <td>5.0</td>\n",
       "      <td>06 25, 2016</td>\n",
       "      <td>APB6087F4J09J</td>\n",
       "      <td>0140503528</td>\n",
       "      <td>Starbucks Fan</td>\n",
       "      <td>Every story and book about Corduroy is Fantast...</td>\n",
       "      <td>Best Books for All Children</td>\n",
       "    </tr>\n",
       "  </tbody>\n",
       "</table>\n",
       "</div>"
      ],
      "text/plain": [
       "   overall   reviewTime      reviewerID        asin   reviewerName  \\\n",
       "0      4.0   11 7, 2017  A2NIJTYWADLK57  0140503528    cotton clay   \n",
       "1      4.0   03 7, 2017  A2827D8EEURMP4  0140503528       emankcin   \n",
       "2      5.0  06 25, 2016   APB6087F4J09J  0140503528  Starbucks Fan   \n",
       "\n",
       "                                          reviewText  \\\n",
       "0  kids like story BUT while i really wanted a bo...   \n",
       "1  Bought this used and it came in great conditio...   \n",
       "2  Every story and book about Corduroy is Fantast...   \n",
       "\n",
       "                              summary  \n",
       "0  good story, small size book though  \n",
       "1                                Good  \n",
       "2         Best Books for All Children  "
      ]
     },
     "execution_count": 23,
     "metadata": {},
     "output_type": "execute_result"
    }
   ],
   "source": [
    "df_reviews.head(3)"
   ]
  },
  {
   "cell_type": "code",
   "execution_count": 24,
   "metadata": {},
   "outputs": [
    {
     "data": {
      "text/html": [
       "<div>\n",
       "<style scoped>\n",
       "    .dataframe tbody tr th:only-of-type {\n",
       "        vertical-align: middle;\n",
       "    }\n",
       "\n",
       "    .dataframe tbody tr th {\n",
       "        vertical-align: top;\n",
       "    }\n",
       "\n",
       "    .dataframe thead th {\n",
       "        text-align: right;\n",
       "    }\n",
       "</style>\n",
       "<table border=\"1\" class=\"dataframe\">\n",
       "  <thead>\n",
       "    <tr style=\"text-align: right;\">\n",
       "      <th></th>\n",
       "      <th>description</th>\n",
       "      <th>title</th>\n",
       "      <th>brand</th>\n",
       "      <th>feature</th>\n",
       "      <th>rank</th>\n",
       "      <th>main_cat</th>\n",
       "      <th>date</th>\n",
       "      <th>asin</th>\n",
       "    </tr>\n",
       "  </thead>\n",
       "  <tbody>\n",
       "    <tr>\n",
       "      <th>0</th>\n",
       "      <td>[Sequential Spelling is based on the classic O...</td>\n",
       "      <td>Sequential Spelling Level 1 Bundle with Studen...</td>\n",
       "      <td>STL Distributors</td>\n",
       "      <td>[]</td>\n",
       "      <td>[&gt;#439,654 in Office Products (See top 100), &gt;...</td>\n",
       "      <td>Office Products</td>\n",
       "      <td>August 15, 2014</td>\n",
       "      <td>0012624861</td>\n",
       "    </tr>\n",
       "    <tr>\n",
       "      <th>1</th>\n",
       "      <td>[Unusual book, , ]</td>\n",
       "      <td>Mathematics, Applications and Concepts, Course...</td>\n",
       "      <td>bailey</td>\n",
       "      <td>[]</td>\n",
       "      <td>3,839,628 in Books (</td>\n",
       "      <td>Books</td>\n",
       "      <td></td>\n",
       "      <td>0078652669</td>\n",
       "    </tr>\n",
       "    <tr>\n",
       "      <th>2</th>\n",
       "      <td>[Pearson MyHistoryLab Online Access Code for A...</td>\n",
       "      <td>Pearson MyHistoryLab Online Access Code for Am...</td>\n",
       "      <td>Pearson MyHistoryLab</td>\n",
       "      <td>[Pearson MyHistoryLab Online Access Code for A...</td>\n",
       "      <td>[&gt;#1,925,354 in Office Products (See top 100)]</td>\n",
       "      <td>Office Products</td>\n",
       "      <td>June 21, 2012</td>\n",
       "      <td>0136039847</td>\n",
       "    </tr>\n",
       "  </tbody>\n",
       "</table>\n",
       "</div>"
      ],
      "text/plain": [
       "                                         description  \\\n",
       "0  [Sequential Spelling is based on the classic O...   \n",
       "1                                 [Unusual book, , ]   \n",
       "2  [Pearson MyHistoryLab Online Access Code for A...   \n",
       "\n",
       "                                               title                 brand  \\\n",
       "0  Sequential Spelling Level 1 Bundle with Studen...      STL Distributors   \n",
       "1  Mathematics, Applications and Concepts, Course...                bailey   \n",
       "2  Pearson MyHistoryLab Online Access Code for Am...  Pearson MyHistoryLab   \n",
       "\n",
       "                                             feature  \\\n",
       "0                                                 []   \n",
       "1                                                 []   \n",
       "2  [Pearson MyHistoryLab Online Access Code for A...   \n",
       "\n",
       "                                                rank         main_cat  \\\n",
       "0  [>#439,654 in Office Products (See top 100), >...  Office Products   \n",
       "1                               3,839,628 in Books (            Books   \n",
       "2     [>#1,925,354 in Office Products (See top 100)]  Office Products   \n",
       "\n",
       "              date        asin  \n",
       "0  August 15, 2014  0012624861  \n",
       "1                   0078652669  \n",
       "2    June 21, 2012  0136039847  "
      ]
     },
     "execution_count": 24,
     "metadata": {},
     "output_type": "execute_result"
    }
   ],
   "source": [
    "df_products.head(3)"
   ]
  },
  {
   "cell_type": "code",
   "execution_count": 25,
   "metadata": {},
   "outputs": [
    {
     "data": {
      "text/html": [
       "<div>\n",
       "<style scoped>\n",
       "    .dataframe tbody tr th:only-of-type {\n",
       "        vertical-align: middle;\n",
       "    }\n",
       "\n",
       "    .dataframe tbody tr th {\n",
       "        vertical-align: top;\n",
       "    }\n",
       "\n",
       "    .dataframe thead th {\n",
       "        text-align: right;\n",
       "    }\n",
       "</style>\n",
       "<table border=\"1\" class=\"dataframe\">\n",
       "  <thead>\n",
       "    <tr style=\"text-align: right;\">\n",
       "      <th></th>\n",
       "      <th>overall</th>\n",
       "      <th>reviewTime</th>\n",
       "      <th>reviewerID</th>\n",
       "      <th>asin</th>\n",
       "      <th>reviewerName</th>\n",
       "      <th>reviewText</th>\n",
       "      <th>summary</th>\n",
       "      <th>description</th>\n",
       "      <th>title</th>\n",
       "      <th>brand</th>\n",
       "      <th>feature</th>\n",
       "      <th>rank</th>\n",
       "      <th>main_cat</th>\n",
       "      <th>date</th>\n",
       "    </tr>\n",
       "  </thead>\n",
       "  <tbody>\n",
       "    <tr>\n",
       "      <th>0</th>\n",
       "      <td>4.0</td>\n",
       "      <td>11 7, 2017</td>\n",
       "      <td>A2NIJTYWADLK57</td>\n",
       "      <td>0140503528</td>\n",
       "      <td>cotton clay</td>\n",
       "      <td>kids like story BUT while i really wanted a bo...</td>\n",
       "      <td>good story, small size book though</td>\n",
       "      <td>[Corduroy the bear goes to the launderette wit...</td>\n",
       "      <td>A Pocket for Corduroy</td>\n",
       "      <td>Ingram Book &amp; Distributor</td>\n",
       "      <td>[9780140503524]</td>\n",
       "      <td>[&gt;#422,894 in Office Products (See top 100), &gt;...</td>\n",
       "      <td>Office Products</td>\n",
       "      <td>September 14, 2006</td>\n",
       "    </tr>\n",
       "    <tr>\n",
       "      <th>1</th>\n",
       "      <td>4.0</td>\n",
       "      <td>03 7, 2017</td>\n",
       "      <td>A2827D8EEURMP4</td>\n",
       "      <td>0140503528</td>\n",
       "      <td>emankcin</td>\n",
       "      <td>Bought this used and it came in great conditio...</td>\n",
       "      <td>Good</td>\n",
       "      <td>[Corduroy the bear goes to the launderette wit...</td>\n",
       "      <td>A Pocket for Corduroy</td>\n",
       "      <td>Ingram Book &amp; Distributor</td>\n",
       "      <td>[9780140503524]</td>\n",
       "      <td>[&gt;#422,894 in Office Products (See top 100), &gt;...</td>\n",
       "      <td>Office Products</td>\n",
       "      <td>September 14, 2006</td>\n",
       "    </tr>\n",
       "    <tr>\n",
       "      <th>2</th>\n",
       "      <td>5.0</td>\n",
       "      <td>06 25, 2016</td>\n",
       "      <td>APB6087F4J09J</td>\n",
       "      <td>0140503528</td>\n",
       "      <td>Starbucks Fan</td>\n",
       "      <td>Every story and book about Corduroy is Fantast...</td>\n",
       "      <td>Best Books for All Children</td>\n",
       "      <td>[Corduroy the bear goes to the launderette wit...</td>\n",
       "      <td>A Pocket for Corduroy</td>\n",
       "      <td>Ingram Book &amp; Distributor</td>\n",
       "      <td>[9780140503524]</td>\n",
       "      <td>[&gt;#422,894 in Office Products (See top 100), &gt;...</td>\n",
       "      <td>Office Products</td>\n",
       "      <td>September 14, 2006</td>\n",
       "    </tr>\n",
       "  </tbody>\n",
       "</table>\n",
       "</div>"
      ],
      "text/plain": [
       "   overall   reviewTime      reviewerID        asin   reviewerName  \\\n",
       "0      4.0   11 7, 2017  A2NIJTYWADLK57  0140503528    cotton clay   \n",
       "1      4.0   03 7, 2017  A2827D8EEURMP4  0140503528       emankcin   \n",
       "2      5.0  06 25, 2016   APB6087F4J09J  0140503528  Starbucks Fan   \n",
       "\n",
       "                                          reviewText  \\\n",
       "0  kids like story BUT while i really wanted a bo...   \n",
       "1  Bought this used and it came in great conditio...   \n",
       "2  Every story and book about Corduroy is Fantast...   \n",
       "\n",
       "                              summary  \\\n",
       "0  good story, small size book though   \n",
       "1                                Good   \n",
       "2         Best Books for All Children   \n",
       "\n",
       "                                         description                  title  \\\n",
       "0  [Corduroy the bear goes to the launderette wit...  A Pocket for Corduroy   \n",
       "1  [Corduroy the bear goes to the launderette wit...  A Pocket for Corduroy   \n",
       "2  [Corduroy the bear goes to the launderette wit...  A Pocket for Corduroy   \n",
       "\n",
       "                       brand          feature  \\\n",
       "0  Ingram Book & Distributor  [9780140503524]   \n",
       "1  Ingram Book & Distributor  [9780140503524]   \n",
       "2  Ingram Book & Distributor  [9780140503524]   \n",
       "\n",
       "                                                rank         main_cat  \\\n",
       "0  [>#422,894 in Office Products (See top 100), >...  Office Products   \n",
       "1  [>#422,894 in Office Products (See top 100), >...  Office Products   \n",
       "2  [>#422,894 in Office Products (See top 100), >...  Office Products   \n",
       "\n",
       "                 date  \n",
       "0  September 14, 2006  \n",
       "1  September 14, 2006  \n",
       "2  September 14, 2006  "
      ]
     },
     "execution_count": 25,
     "metadata": {},
     "output_type": "execute_result"
    }
   ],
   "source": [
    "df.head(3)"
   ]
  },
  {
   "cell_type": "markdown",
   "metadata": {},
   "source": [
    "## Exploratory Data Analysis (EDA)"
   ]
  }
 ],
 "metadata": {
  "kernelspec": {
   "display_name": "design-ai",
   "language": "python",
   "name": "python3"
  },
  "language_info": {
   "codemirror_mode": {
    "name": "ipython",
    "version": 3
   },
   "file_extension": ".py",
   "mimetype": "text/x-python",
   "name": "python",
   "nbconvert_exporter": "python",
   "pygments_lexer": "ipython3",
   "version": "3.12.2"
  }
 },
 "nbformat": 4,
 "nbformat_minor": 2
}
