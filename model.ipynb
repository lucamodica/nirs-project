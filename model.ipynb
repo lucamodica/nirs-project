{
 "cells": [
  {
   "cell_type": "markdown",
   "metadata": {},
   "source": [
    "# NIRS (model)"
   ]
  },
  {
   "cell_type": "code",
   "execution_count": 1,
   "metadata": {},
   "outputs": [],
   "source": [
    "import utils as utils\n",
    "import torch\n",
    "import numpy as np\n",
    "import pandas as pd\n",
    "import icecream as ic\n",
    "import matplotlib.pyplot as plt\n",
    "import seaborn as sns\n",
    "\n",
    "utils.seed_everything(42)\n",
    "\n",
    "%matplotlib inline\n",
    "sns.set_style('darkgrid')\n",
    "\n",
    "# Set device\n",
    "device = torch.device('cuda' if torch.cuda.is_available() else 'cpu')"
   ]
  },
  {
   "cell_type": "markdown",
   "metadata": {},
   "source": [
    "## Init and reading data"
   ]
  },
  {
   "cell_type": "code",
   "execution_count": 2,
   "metadata": {},
   "outputs": [],
   "source": [
    "df = pd.read_csv('data/merged_data_processed.csv')\n",
    "unreviewed_products_df = pd.read_csv('data/unreviewed_products_processed.csv')\n",
    "products_df = pd.read_csv('data/products_sampled_processed.csv')\n",
    "reviews_df = pd.read_csv('data/reviews_sampled_processed.csv')"
   ]
  },
  {
   "cell_type": "code",
   "execution_count": 3,
   "metadata": {},
   "outputs": [
    {
     "name": "stdout",
     "output_type": "stream",
     "text": [
      "Shape of df: (47260, 49)\n",
      "Shape of unreviewed_products_df: (22900, 42)\n",
      "Shape of products_df: (35246, 42)\n",
      "Shape of reviews_df: (45489, 8)\n"
     ]
    }
   ],
   "source": [
    "print(f'Shape of df: {df.shape}')\n",
    "print(f'Shape of unreviewed_products_df: {unreviewed_products_df.shape}')\n",
    "print(f'Shape of products_df: {products_df.shape}')\n",
    "print(f'Shape of reviews_df: {reviews_df.shape}')"
   ]
  },
  {
   "cell_type": "code",
   "execution_count": 4,
   "metadata": {},
   "outputs": [
    {
     "name": "stdout",
     "output_type": "stream",
     "text": [
      "Number of unique products: 34211\n",
      "Number of unique users: 1000\n",
      "Number of unique reviewed products: 11372\n",
      "Number of unique unreviewed products: 22839\n"
     ]
    }
   ],
   "source": [
    "print(f'Number of unique products: {products_df[\"asin\"].nunique()}')\n",
    "print(f'Number of unique users: {reviews_df[\"reviewerID\"].nunique()}')\n",
    "print(f'Number of unique reviewed products: {df[\"asin\"].nunique()}')\n",
    "print(f'Number of unique unreviewed products: {unreviewed_products_df[\"asin\"].nunique()}')"
   ]
  },
  {
   "cell_type": "markdown",
   "metadata": {},
   "source": [
    "## Other data preparation for the model"
   ]
  },
  {
   "cell_type": "markdown",
   "metadata": {},
   "source": [
    "### User and product id mapping"
   ]
  },
  {
   "cell_type": "code",
   "execution_count": 13,
   "metadata": {},
   "outputs": [],
   "source": [
    "# Create user and item mappings\n",
    "user_mapping = {user_id: index for index, user_id in enumerate(df['reviewerID'].unique())}\n",
    "item_mapping = {item_id: index for index, item_id in enumerate(products_df['asin'].unique())}\n",
    "\n",
    "reviewed_item_mapping = {item_id: index for index, item_id in enumerate(df['asin'].unique())}\n",
    "\n",
    "# Map user and item IDs to indices\n",
    "df['user_index'] = df['reviewerID'].map(user_mapping)\n",
    "df['item_index'] = df['asin'].map(reviewed_item_mapping)"
   ]
  },
  {
   "cell_type": "markdown",
   "metadata": {},
   "source": [
    "### User-item matrix"
   ]
  },
  {
   "cell_type": "code",
   "execution_count": 54,
   "metadata": {},
   "outputs": [],
   "source": [
    "user_product_matrix = pd.pivot_table(df, values='overall', index='reviewerID', columns='asin', fill_value=0)"
   ]
  },
  {
   "cell_type": "markdown",
   "metadata": {},
   "source": [
    "### Text Embeddings (with Word2Vec or whatever)"
   ]
  },
  {
   "cell_type": "code",
   "execution_count": 55,
   "metadata": {},
   "outputs": [],
   "source": [
    "from gensim.models import Word2Vec\n",
    "\n",
    "# Create embeddings using Word2Vec\n",
    "def create_word2vec_embeddings(texts, embedding_dim):\n",
    "  # Tokenize the texts\n",
    "  tokenized_texts = [text.split() for text in texts]\n",
    "  \n",
    "  # Train Word2Vec model\n",
    "  model = Word2Vec(tokenized_texts, vector_size=embedding_dim, window=5, min_count=1, workers=4)\n",
    "  \n",
    "  # Get the embeddings for each text\n",
    "  embeddings = []\n",
    "  for text in tokenized_texts:\n",
    "      embedding = np.mean([model.wv[word] for word in text if word in model.wv], axis=0)\n",
    "      embeddings.append(embedding)\n",
    "  \n",
    "  return np.array(embeddings)"
   ]
  },
  {
   "cell_type": "code",
   "execution_count": 56,
   "metadata": {},
   "outputs": [],
   "source": [
    "df_reviewed_products = products_df[products_df['asin'].isin(df['asin'].unique())].drop_duplicates(subset=['asin'])\n",
    "df_reviewed_products['brand'] = df_reviewed_products['brand'].astype(str)\n",
    "df['brand'] = df['brand'].astype(str)"
   ]
  },
  {
   "cell_type": "code",
   "execution_count": 106,
   "metadata": {},
   "outputs": [
    {
     "name": "stderr",
     "output_type": "stream",
     "text": [
      "ic| reviewTexts_embs.shape: torch.Size([47260, 200])\n",
      "    summary_embs.shape: torch.Size([47260, 200])\n",
      "    title_embs.shape: torch.Size([47260, 200])\n",
      "    description_embs.shape: torch.Size([47260, 200])\n",
      "    feature_embs.shape: torch.Size([47260, 200])\n",
      "    brand_embs.shape: torch.Size([47260, 200])\n"
     ]
    },
    {
     "data": {
      "text/plain": [
       "(torch.Size([47260, 200]),\n",
       " torch.Size([47260, 200]),\n",
       " torch.Size([47260, 200]),\n",
       " torch.Size([47260, 200]),\n",
       " torch.Size([47260, 200]),\n",
       " torch.Size([47260, 200]))"
      ]
     },
     "execution_count": 106,
     "metadata": {},
     "output_type": "execute_result"
    }
   ],
   "source": [
    "# Create embeddings for textual data\n",
    "reviewTexts_embs = torch.tensor(create_word2vec_embeddings(df['reviewText'], embedding_dim=200))\n",
    "summary_embs = torch.tensor(create_word2vec_embeddings(df['summary'], embedding_dim=200))\n",
    "title_embs = torch.tensor(create_word2vec_embeddings(df['title'], embedding_dim=200))\n",
    "description_embs = torch.tensor(create_word2vec_embeddings(df['description'], embedding_dim=200))\n",
    "feature_embs = torch.tensor(create_word2vec_embeddings(df['feature'], embedding_dim=200))\n",
    "brand_embs = torch.tensor(create_word2vec_embeddings(df['brand'], embedding_dim=200))\n",
    "\n",
    "#load the embeddings\n",
    "# review_embeddings = torch.load('data/embeds/review_embeddings.pt')\n",
    "# summary_embeddings = torch.load('data/embeds/summary_embeddings.pt')\n",
    "# description_embeddings = torch.load('data/embeds/description_embeddings.pt')\n",
    "# title_embeddings = torch.load('data/embeds/title_embeddings.pt')\n",
    "# feature_embeddings = torch.load('data/embeds/feature_embeddings.pt')"
   ]
  },
  {
   "cell_type": "code",
   "execution_count": 107,
   "metadata": {},
   "outputs": [
    {
     "name": "stderr",
     "output_type": "stream",
     "text": [
      "ic| reviews_text_embs.shape: torch.Size([47260, 200])\n",
      "    items_text_embs.shape: torch.Size([47260, 200])\n"
     ]
    },
    {
     "data": {
      "text/plain": [
       "(torch.Size([47260, 200]), torch.Size([47260, 200]))"
      ]
     },
     "execution_count": 107,
     "metadata": {},
     "output_type": "execute_result"
    }
   ],
   "source": [
    "# review (user) embeddings by taking the mean of the review-related embeddings\n",
    "reviews_text_embs = torch.mean(torch.stack([reviewTexts_embs, summary_embs]), dim=0)\n",
    "\n",
    "# item embeddings by taking the mean of the item-related embeddings\n",
    "items_text_embs = torch.mean(torch.stack([title_embs, description_embs, feature_embs, brand_embs]), dim=0)"
   ]
  },
  {
   "cell_type": "code",
   "execution_count": 108,
   "metadata": {},
   "outputs": [
    {
     "data": {
      "text/plain": [
       "(torch.Size([47260, 200]), torch.Size([47260, 200]))"
      ]
     },
     "execution_count": 108,
     "metadata": {},
     "output_type": "execute_result"
    }
   ],
   "source": [
    "reviews_text_embs.shape, items_text_embs.shape"
   ]
  },
  {
   "cell_type": "markdown",
   "metadata": {},
   "source": [
    "### Embed (SVD) from user-matrix pivot table"
   ]
  },
  {
   "cell_type": "code",
   "execution_count": 109,
   "metadata": {},
   "outputs": [],
   "source": [
    "def SVD_embeddings(user_item_matrix: pd.DataFrame, embedding_length):\n",
    "    \"\"\"\n",
    "    Apply SVD to the user-item matrix to obtain user and item embeddings.\n",
    "    U = m x r orthogonal left singular matrix, which represents the relationship between users and latent factors\n",
    "    S = r x r diagonal matrix, which describes the strength of each latent factor\n",
    "    V = r x n diagonal right singular matrix, which indicates the similarity between items and latent factors\n",
    "    \n",
    "    :param user_item_matrix: user-item matrix\n",
    "    :param embedding_length: number of latent factors, which is the dimensionality of the reduced space\n",
    "    \"\"\"\n",
    "    from scipy.sparse.linalg import svds\n",
    "    \n",
    "    # transpose the matrix to obtain the item-user matrix\n",
    "    # (this due to the large number of items compared to users)\n",
    "    matrix = user_item_matrix.values\n",
    "\n",
    "    U, Sigma, VT = svds(matrix, k=embedding_length)\n",
    "    user_embed_df = pd.DataFrame(U, index = user_item_matrix.index)\n",
    "    VT_T = np.transpose(VT)\n",
    "    item_embed_df = pd.DataFrame(VT_T, index=user_item_matrix.columns)\n",
    "    \n",
    "    return user_embed_df, item_embed_df"
   ]
  },
  {
   "cell_type": "code",
   "execution_count": 110,
   "metadata": {},
   "outputs": [],
   "source": [
    "user_embed_df, item_embed_df = SVD_embeddings(user_product_matrix, 800)"
   ]
  },
  {
   "cell_type": "markdown",
   "metadata": {},
   "source": [
    "## Model"
   ]
  },
  {
   "cell_type": "markdown",
   "metadata": {},
   "source": [
    "### DataLoaders for the Pytorch-based model"
   ]
  },
  {
   "cell_type": "code",
   "execution_count": 111,
   "metadata": {},
   "outputs": [],
   "source": [
    "from sklearn.model_selection import train_test_split\n",
    "from torch.utils.data import Dataset, DataLoader \n",
    "\n",
    "# class for the dataset\n",
    "class AmazonReviewDataset(Dataset):\n",
    "    def __init__(self, user_ids, product_ids, ratings, reviews_text_data, product_text_data):\n",
    "        self.user_ids = user_ids\n",
    "        self.product_ids = product_ids\n",
    "        self.ratings = ratings\n",
    "        self.reviews_text_data = reviews_text_data\n",
    "        self.product_text_data = product_text_data\n",
    "\n",
    "    def __len__(self):\n",
    "        return len(self.user_ids)\n",
    "\n",
    "    def __getitem__(self, index):\n",
    "        user_id = self.user_ids[index]\n",
    "        item_id = self.product_ids[index]\n",
    "        rating = self.ratings[index]\n",
    "        review_text_data = self.reviews_text_data[index]\n",
    "        item_text_data = self.product_text_data[index]\n",
    "        \n",
    "        return user_id, item_id, rating, review_text_data, item_text_data\n",
    "\n",
    "# Split the data into train and test sets\n",
    "train_data, test_data = train_test_split(df, test_size=0.2, random_state=42)\n",
    "\n",
    "# Create train and test datasets\n",
    "train_dataset = AmazonReviewDataset(\n",
    "    train_data['user_index'].values,\n",
    "    train_data['item_index'].values,\n",
    "    train_data['overall'].values,\n",
    "    reviews_text_embs[train_data.index],\n",
    "    items_text_embs[train_data.index]\n",
    ")\n",
    "\n",
    "test_dataset = AmazonReviewDataset(\n",
    "    test_data['user_index'].values,\n",
    "    test_data['item_index'].values,\n",
    "    test_data['overall'].values,\n",
    "    reviews_text_embs[test_data.index],\n",
    "    items_text_embs[test_data.index]\n",
    ")"
   ]
  },
  {
   "cell_type": "markdown",
   "metadata": {},
   "source": [
    "### Vanilla SVD"
   ]
  },
  {
   "cell_type": "code",
   "execution_count": 112,
   "metadata": {},
   "outputs": [
    {
     "name": "stdout",
     "output_type": "stream",
     "text": [
      "Predicted rating for user A100WO06OQR8BQ and item B000034DLQ: 0.033726150835927886\n"
     ]
    }
   ],
   "source": [
    "# predictions with the the obrained SVD embeddings\n",
    "def predict_ratings(user_embed_df: pd.DataFrame, item_embed_df: pd.DataFrame, user_id: str, item_id: str):\n",
    "    \"\"\"\n",
    "    Predict the rating for a given user and item.\n",
    "    \n",
    "    :param user_embed_df: user embeddings\n",
    "    :param item_embed_df: item embeddings\n",
    "    :param user_id: user id\n",
    "    :param item_id: item id\n",
    "    \"\"\"\n",
    "    user_embedding = user_embed_df.loc[user_id]\n",
    "    item_embedding = item_embed_df.loc[item_id]\n",
    "    \n",
    "    \n",
    "    rating = np.dot(user_embedding, item_embedding)\n",
    "    return rating\n",
    "\n",
    "# example of prediction with a an item rated by a user\n",
    "user_id = user_product_matrix.index[0]\n",
    "\n",
    "# take the first product id rated by \"user_id\"\n",
    "# (thus an element that is not 0 in the user-product matrix)\n",
    "item_id = user_product_matrix.columns[user_product_matrix.loc[user_id] != 0].values[0]\n",
    "\n",
    "print(f'Predicted rating for user {user_id} and item {item_id}: {predict_ratings(user_embed_df, item_embed_df, user_id, item_id)}')"
   ]
  },
  {
   "cell_type": "code",
   "execution_count": 113,
   "metadata": {},
   "outputs": [
    {
     "data": {
      "text/plain": [
       "1.0"
      ]
     },
     "execution_count": 113,
     "metadata": {},
     "output_type": "execute_result"
    }
   ],
   "source": [
    "# see if the predictions are consistent with the actual ratings\n",
    "actual_rating = user_product_matrix.loc[user_id, item_id]\n",
    "\n",
    "actual_rating"
   ]
  },
  {
   "cell_type": "markdown",
   "metadata": {},
   "source": [
    "### Quick model test with SVD from scikit-surprise"
   ]
  },
  {
   "cell_type": "markdown",
   "metadata": {},
   "source": [
    "Quick performance check of SVD by using scikit-surprise:"
   ]
  },
  {
   "cell_type": "code",
   "execution_count": 114,
   "metadata": {},
   "outputs": [
    {
     "name": "stdout",
     "output_type": "stream",
     "text": [
      "RMSE: 0.7126\n",
      "RMSE: 0.7033\n",
      "RMSE: 0.7071\n",
      "RMSE: 0.7142\n",
      "RMSE: 0.7129\n"
     ]
    }
   ],
   "source": [
    "from surprise import BaselineOnly, Dataset, SVD, Reader, accuracy, Trainset\n",
    "from surprise.model_selection import cross_validate, train_test_split, KFold\n",
    "\n",
    "# A reader is still needed but only the rating_scale param is requiered.\n",
    "reader = Reader(rating_scale=(1, 5))\n",
    "\n",
    "# The columns must correspond to user id, item id and ratings (in that order).\n",
    "data_test = Dataset.load_from_df(df[[\"reviewerID\", \"asin\", \"overall\"]], reader)\n",
    "\n",
    "# sample random trainset and testset\n",
    "# test set is made of 25% of the ratings.\n",
    "trainset, testset = train_test_split(data_test, test_size=0.25)\n",
    "\n",
    "# define a cross-validation iterator\n",
    "kf = KFold(n_splits=5)\n",
    "\n",
    "algo = SVD()\n",
    "\n",
    "for trainset, testset in kf.split(data_test):\n",
    "\n",
    "    # train and test algorithm.\n",
    "    algo.fit(trainset)\n",
    "    predictions = algo.test(testset)\n",
    "\n",
    "    # Compute and print Root Mean Squared Error\n",
    "    accuracy.rmse(predictions, verbose=True)"
   ]
  },
  {
   "cell_type": "code",
   "execution_count": 115,
   "metadata": {},
   "outputs": [],
   "source": [
    "user_id = 'A1HBTW5M7ZZ9PT'\n",
    "test_user = reviews_df[reviews_df['reviewerID'] == user_id]\n",
    "item_id = 'B00006IEI7'"
   ]
  },
  {
   "cell_type": "code",
   "execution_count": 116,
   "metadata": {},
   "outputs": [
    {
     "name": "stdout",
     "output_type": "stream",
     "text": [
      "user: A1HBTW5M7ZZ9PT item: B00006IEI7 r_ui = 5.00   est = 4.77   {'was_impossible': False}\n"
     ]
    }
   ],
   "source": [
    "# get a prediction for specific users and items.\n",
    "pred = algo.predict(user_id, item_id, r_ui=5, verbose=True)"
   ]
  },
  {
   "cell_type": "markdown",
   "metadata": {},
   "source": [
    "### Neural Collaborative Filtering"
   ]
  },
  {
   "cell_type": "code",
   "execution_count": 117,
   "metadata": {},
   "outputs": [],
   "source": [
    "from torch import nn\n",
    "from icecream import ic\n",
    "\n",
    "class NCF(nn.Module):\n",
    "    def __init__(self, num_users, num_items, embedding_dim, text_embedding_dims, dropout_rate_fc=0.2):\n",
    "        super(NCF, self).__init__()\n",
    "        \n",
    "        \n",
    "        # embedding layers for the users and items ids (GMF part)\n",
    "        self.user_embedding = nn.Embedding(num_users, embedding_dim)\n",
    "        self.item_embedding = nn.Embedding(num_items, embedding_dim)\n",
    "        \n",
    "        # Additional input layers for each type of text embedding\n",
    "        # (the text embeddings will be passed through an additional \n",
    "        # linear layer (text_embedding_layer) to project them into \n",
    "        # the same embedding space as the user and item embeddings)\n",
    "        # self.text_embedding_layers = nn.ModuleList()\n",
    "        # for text_embedding_dim in text_embedding_dims:\n",
    "        #     self.text_embedding_layers.append(nn.Linear(text_embedding_dim, embedding_dim))\n",
    "            \n",
    "        # MLP part\n",
    "        # input_dim = embedding_dim * (2 + len(text_embedding_dims)) # user, item, and text embeddings\n",
    "        input_dim = embedding_dim * 2 # user and item embeddings\n",
    "        self.fc_layers = nn.Sequential(\n",
    "            nn.Linear(input_dim, 1024),\n",
    "            nn.ReLU(),\n",
    "            nn.Dropout(p=dropout_rate_fc),\n",
    "            nn.BatchNorm1d(1024),\n",
    "            \n",
    "            nn.Linear(1024, 256),\n",
    "            nn.ReLU(),\n",
    "            nn.Dropout(p=dropout_rate_fc),\n",
    "            nn.BatchNorm1d(256),\n",
    "            \n",
    "            nn.Linear(256, 128),\n",
    "            nn.ReLU(),\n",
    "            nn.Dropout(p=dropout_rate_fc),\n",
    "            nn.BatchNorm1d(128),\n",
    "            \n",
    "            nn.Linear(128, 64),\n",
    "            nn.ReLU(),\n",
    "            nn.Dropout(p=dropout_rate_fc),\n",
    "            nn.BatchNorm1d(64),\n",
    "            \n",
    "            nn.Linear(64, 32),\n",
    "            nn.ReLU(),\n",
    "            \n",
    "            nn.Linear(32, 16),\n",
    "            nn.ReLU(),\n",
    "        )\n",
    "        \n",
    "        # NCF layer (the layer one at the end!)\n",
    "        self.output_layer = nn.Linear(16, 1)\n",
    "\n",
    "    def forward(self, user_ids, item_ids, text_embeddings):\n",
    "        user_embeddings = self.user_embedding(user_ids)\n",
    "        item_embeddings = self.item_embedding(item_ids)\n",
    "                \n",
    "        # Project each type of text embedding to the same embedding space\n",
    "        text_embs = []\n",
    "        # for i, text_embedding in enumerate(text_embeddings):\n",
    "        #     text_emb = self.text_embedding_layers[i](text_embedding)\n",
    "        #     text_embs.append(text_emb)\n",
    "        \n",
    "        # element-wise product\n",
    "        # x = torch.cat([user_embeddings, item_embeddings, *text_embs], dim=1)\n",
    "        x = torch.cat([user_embeddings, item_embeddings], dim=1)\n",
    "        \n",
    "        x = self.fc_layers(x)\n",
    "        output = self.output_layer(x)\n",
    "        return output"
   ]
  },
  {
   "cell_type": "markdown",
   "metadata": {},
   "source": [
    "#### Training and evaluating - related functions"
   ]
  },
  {
   "cell_type": "code",
   "execution_count": 118,
   "metadata": {},
   "outputs": [],
   "source": [
    "# Train the NCF model\n",
    "from sklearn.metrics import mean_absolute_error, mean_squared_error\n",
    "from tqdm import tqdm\n",
    "\n",
    "class RMSELoss(nn.Module):\n",
    "    def __init__(self, eps=1e-6):\n",
    "        super().__init__()\n",
    "        self.mse = nn.MSELoss()\n",
    "        self.eps = eps\n",
    "        \n",
    "    def forward(self,yhat,y):\n",
    "        loss = torch.sqrt(self.mse(yhat,y) + self.eps)\n",
    "        return loss\n",
    "\n",
    "def train_model(model: NCF, train_dataloader: AmazonReviewDataset, valid_dataloader: AmazonReviewDataset, criterion, optimizer, device, num_epochs):\n",
    "    train_loss_history = []\n",
    "    valid_loss_history = []\n",
    "    \n",
    "    model.train()\n",
    "    for epoch in range(num_epochs):\n",
    "        running_loss = 0.0\n",
    "        valid_loss = 0.0\n",
    "        progress_bar = tqdm(train_dataloader, desc=f\"Epoch {epoch+1}/{num_epochs}\", unit=\"batch\")\n",
    "        for user_ids, item_ids, rating, r_text_embeds, p_text_embeds in progress_bar:\n",
    "            user_ids = user_ids.to(device)\n",
    "            item_ids = item_ids.to(device)\n",
    "            r_text_embeds = r_text_embeds.to(device)\n",
    "            p_text_embeds = p_text_embeds.to(device)\n",
    "\n",
    "            optimizer.zero_grad()\n",
    "            outputs = model(user_ids, item_ids, [r_text_embeds, p_text_embeds])\n",
    "            loss = criterion(outputs.squeeze(), rating.float())\n",
    "            loss.backward()\n",
    "            optimizer.step()\n",
    "\n",
    "            running_loss += loss.item()\n",
    "            progress_bar.set_postfix(train_loss=np.sqrt(running_loss / len(progress_bar)))\n",
    "\n",
    "        # Calculate validation loss\n",
    "        valid_loss, _ = evaluate_model(model, valid_dataloader, criterion, device)\n",
    "        \n",
    "        train_loss_history.append(running_loss / len(progress_bar))\n",
    "        valid_loss_history.append(valid_loss)\n",
    "        print('\\n')\n",
    "        \n",
    "    return train_loss_history, valid_loss_history\n",
    "        \n",
    "# Evaluate the NCF model\n",
    "def evaluate_model(model, dataloader, criterion, device):\n",
    "    model.eval()\n",
    "    predictions = []\n",
    "    true_ratings = []\n",
    "    running_loss = 0.0\n",
    "    \n",
    "    with torch.no_grad():\n",
    "        progress_bar = tqdm(dataloader, desc=\"Evaluating\", unit=\"batch\")\n",
    "        for user_ids, item_ids, rating, r_text_embeds, p_text_embeds in progress_bar:\n",
    "            user_ids = user_ids.to(device)\n",
    "            item_ids = item_ids.to(device)\n",
    "            r_text_embeds = r_text_embeds.to(device)\n",
    "            p_text_embeds = p_text_embeds.to(device)\n",
    "            \n",
    "            outputs = model(user_ids, item_ids, [r_text_embeds, p_text_embeds])\n",
    "            predictions.extend(outputs.squeeze().tolist())\n",
    "            true_ratings.extend(rating.tolist())\n",
    "            \n",
    "            running_loss += criterion(outputs.squeeze(), rating.float()).item()\n",
    "            progress_bar.set_postfix(eval_loss=np.sqrt(running_loss / len(progress_bar)))\n",
    "\n",
    "    mse = mean_squared_error(true_ratings, predictions)\n",
    "    mae = mean_absolute_error(true_ratings, predictions)\n",
    "    return mse, mae\n",
    "\n",
    "\n",
    "def plot_accuracy(train_acc_history, val_acc_history, loss_name='MSE'):\n",
    "  df = pd.DataFrame({'Epoch': range(1, len(train_acc_history)+1),\n",
    "             'Train Accuracy': train_acc_history,\n",
    "             'Validation Accuracy': val_acc_history})\n",
    "\n",
    "  plt.figure(figsize=(10, 6))\n",
    "  sns.lineplot(data=df, x='Epoch', y='Train Accuracy', label=f'Train loss ({loss_name})')\n",
    "  sns.lineplot(data=df, x='Epoch', y='Validation Accuracy', label=f'Validation loss ({loss_name})')\n",
    "  plt.xlabel('Epoch')\n",
    "  plt.ylabel(loss_name)\n",
    "  plt.title(f'Training and Validation loss {loss_name}')\n",
    "  plt.legend()\n",
    "  plt.show()"
   ]
  },
  {
   "cell_type": "markdown",
   "metadata": {},
   "source": [
    "#### Model training"
   ]
  },
  {
   "cell_type": "code",
   "execution_count": 119,
   "metadata": {},
   "outputs": [
    {
     "name": "stdout",
     "output_type": "stream",
     "text": [
      "Loss criterion: RMSE\n",
      "\n"
     ]
    },
    {
     "name": "stderr",
     "output_type": "stream",
     "text": [
      "Epoch 1/20:   7%|▋         | 20/296 [00:00<00:04, 60.92batch/s, train_loss=0.526]"
     ]
    },
    {
     "name": "stderr",
     "output_type": "stream",
     "text": [
      "Epoch 1/20: 100%|██████████| 296/296 [00:04<00:00, 65.84batch/s, train_loss=1.11] \n",
      "Evaluating:   0%|          | 0/74 [00:00<?, ?batch/s]\n"
     ]
    },
    {
     "ename": "IndexError",
     "evalue": "index 11006 is out of bounds for dimension 0 with size 9452",
     "output_type": "error",
     "traceback": [
      "\u001b[0;31m---------------------------------------------------------------------------\u001b[0m",
      "\u001b[0;31mIndexError\u001b[0m                                Traceback (most recent call last)",
      "Cell \u001b[0;32mIn[119], line 26\u001b[0m\n\u001b[1;32m     24\u001b[0m num_epochs \u001b[38;5;241m=\u001b[39m \u001b[38;5;241m20\u001b[39m\n\u001b[1;32m     25\u001b[0m \u001b[38;5;28mprint\u001b[39m(\u001b[38;5;124m'\u001b[39m\u001b[38;5;124mLoss criterion: RMSE\u001b[39m\u001b[38;5;130;01m\\n\u001b[39;00m\u001b[38;5;124m'\u001b[39m)\n\u001b[0;32m---> 26\u001b[0m train_loss_history, val_loss_history \u001b[38;5;241m=\u001b[39m  \u001b[43mtrain_model\u001b[49m\u001b[43m(\u001b[49m\u001b[43mmodel\u001b[49m\u001b[43m,\u001b[49m\u001b[43m \u001b[49m\u001b[43mtrain_loader\u001b[49m\u001b[43m,\u001b[49m\u001b[43m \u001b[49m\u001b[43mtest_loader\u001b[49m\u001b[43m,\u001b[49m\u001b[43m \u001b[49m\u001b[43mcriterion\u001b[49m\u001b[43m,\u001b[49m\u001b[43m \u001b[49m\u001b[43moptimizer\u001b[49m\u001b[43m,\u001b[49m\u001b[43m \u001b[49m\u001b[43mdevice\u001b[49m\u001b[43m,\u001b[49m\u001b[43m \u001b[49m\u001b[43mnum_epochs\u001b[49m\u001b[43m)\u001b[49m\n",
      "Cell \u001b[0;32mIn[118], line 40\u001b[0m, in \u001b[0;36mtrain_model\u001b[0;34m(model, train_dataloader, valid_dataloader, criterion, optimizer, device, num_epochs)\u001b[0m\n\u001b[1;32m     37\u001b[0m     progress_bar\u001b[38;5;241m.\u001b[39mset_postfix(train_loss\u001b[38;5;241m=\u001b[39mnp\u001b[38;5;241m.\u001b[39msqrt(running_loss \u001b[38;5;241m/\u001b[39m \u001b[38;5;28mlen\u001b[39m(progress_bar)))\n\u001b[1;32m     39\u001b[0m \u001b[38;5;66;03m# Calculate validation loss\u001b[39;00m\n\u001b[0;32m---> 40\u001b[0m valid_loss, _ \u001b[38;5;241m=\u001b[39m \u001b[43mevaluate_model\u001b[49m\u001b[43m(\u001b[49m\u001b[43mmodel\u001b[49m\u001b[43m,\u001b[49m\u001b[43m \u001b[49m\u001b[43mvalid_dataloader\u001b[49m\u001b[43m,\u001b[49m\u001b[43m \u001b[49m\u001b[43mcriterion\u001b[49m\u001b[43m,\u001b[49m\u001b[43m \u001b[49m\u001b[43mdevice\u001b[49m\u001b[43m)\u001b[49m\n\u001b[1;32m     42\u001b[0m train_loss_history\u001b[38;5;241m.\u001b[39mappend(running_loss \u001b[38;5;241m/\u001b[39m \u001b[38;5;28mlen\u001b[39m(progress_bar))\n\u001b[1;32m     43\u001b[0m valid_loss_history\u001b[38;5;241m.\u001b[39mappend(valid_loss)\n",
      "Cell \u001b[0;32mIn[118], line 57\u001b[0m, in \u001b[0;36mevaluate_model\u001b[0;34m(model, dataloader, criterion, device)\u001b[0m\n\u001b[1;32m     55\u001b[0m \u001b[38;5;28;01mwith\u001b[39;00m torch\u001b[38;5;241m.\u001b[39mno_grad():\n\u001b[1;32m     56\u001b[0m     progress_bar \u001b[38;5;241m=\u001b[39m tqdm(dataloader, desc\u001b[38;5;241m=\u001b[39m\u001b[38;5;124m\"\u001b[39m\u001b[38;5;124mEvaluating\u001b[39m\u001b[38;5;124m\"\u001b[39m, unit\u001b[38;5;241m=\u001b[39m\u001b[38;5;124m\"\u001b[39m\u001b[38;5;124mbatch\u001b[39m\u001b[38;5;124m\"\u001b[39m)\n\u001b[0;32m---> 57\u001b[0m \u001b[43m    \u001b[49m\u001b[38;5;28;43;01mfor\u001b[39;49;00m\u001b[43m \u001b[49m\u001b[43muser_ids\u001b[49m\u001b[43m,\u001b[49m\u001b[43m \u001b[49m\u001b[43mitem_ids\u001b[49m\u001b[43m,\u001b[49m\u001b[43m \u001b[49m\u001b[43mrating\u001b[49m\u001b[43m,\u001b[49m\u001b[43m \u001b[49m\u001b[43mr_text_embeds\u001b[49m\u001b[43m,\u001b[49m\u001b[43m \u001b[49m\u001b[43mp_text_embeds\u001b[49m\u001b[43m \u001b[49m\u001b[38;5;129;43;01min\u001b[39;49;00m\u001b[43m \u001b[49m\u001b[43mprogress_bar\u001b[49m\u001b[43m:\u001b[49m\n\u001b[1;32m     58\u001b[0m \u001b[43m        \u001b[49m\u001b[43muser_ids\u001b[49m\u001b[43m \u001b[49m\u001b[38;5;241;43m=\u001b[39;49m\u001b[43m \u001b[49m\u001b[43muser_ids\u001b[49m\u001b[38;5;241;43m.\u001b[39;49m\u001b[43mto\u001b[49m\u001b[43m(\u001b[49m\u001b[43mdevice\u001b[49m\u001b[43m)\u001b[49m\n\u001b[1;32m     59\u001b[0m \u001b[43m        \u001b[49m\u001b[43mitem_ids\u001b[49m\u001b[43m \u001b[49m\u001b[38;5;241;43m=\u001b[39;49m\u001b[43m \u001b[49m\u001b[43mitem_ids\u001b[49m\u001b[38;5;241;43m.\u001b[39;49m\u001b[43mto\u001b[49m\u001b[43m(\u001b[49m\u001b[43mdevice\u001b[49m\u001b[43m)\u001b[49m\n",
      "File \u001b[0;32m~/mambaforge/envs/design-ai/lib/python3.12/site-packages/tqdm/std.py:1181\u001b[0m, in \u001b[0;36mtqdm.__iter__\u001b[0;34m(self)\u001b[0m\n\u001b[1;32m   1178\u001b[0m time \u001b[38;5;241m=\u001b[39m \u001b[38;5;28mself\u001b[39m\u001b[38;5;241m.\u001b[39m_time\n\u001b[1;32m   1180\u001b[0m \u001b[38;5;28;01mtry\u001b[39;00m:\n\u001b[0;32m-> 1181\u001b[0m \u001b[43m    \u001b[49m\u001b[38;5;28;43;01mfor\u001b[39;49;00m\u001b[43m \u001b[49m\u001b[43mobj\u001b[49m\u001b[43m \u001b[49m\u001b[38;5;129;43;01min\u001b[39;49;00m\u001b[43m \u001b[49m\u001b[43miterable\u001b[49m\u001b[43m:\u001b[49m\n\u001b[1;32m   1182\u001b[0m \u001b[43m        \u001b[49m\u001b[38;5;28;43;01myield\u001b[39;49;00m\u001b[43m \u001b[49m\u001b[43mobj\u001b[49m\n\u001b[1;32m   1183\u001b[0m \u001b[43m        \u001b[49m\u001b[38;5;66;43;03m# Update and possibly print the progressbar.\u001b[39;49;00m\n\u001b[1;32m   1184\u001b[0m \u001b[43m        \u001b[49m\u001b[38;5;66;43;03m# Note: does not call self.update(1) for speed optimisation.\u001b[39;49;00m\n",
      "File \u001b[0;32m~/mambaforge/envs/design-ai/lib/python3.12/site-packages/torch/utils/data/dataloader.py:631\u001b[0m, in \u001b[0;36m_BaseDataLoaderIter.__next__\u001b[0;34m(self)\u001b[0m\n\u001b[1;32m    628\u001b[0m \u001b[38;5;28;01mif\u001b[39;00m \u001b[38;5;28mself\u001b[39m\u001b[38;5;241m.\u001b[39m_sampler_iter \u001b[38;5;129;01mis\u001b[39;00m \u001b[38;5;28;01mNone\u001b[39;00m:\n\u001b[1;32m    629\u001b[0m     \u001b[38;5;66;03m# TODO(https://github.com/pytorch/pytorch/issues/76750)\u001b[39;00m\n\u001b[1;32m    630\u001b[0m     \u001b[38;5;28mself\u001b[39m\u001b[38;5;241m.\u001b[39m_reset()  \u001b[38;5;66;03m# type: ignore[call-arg]\u001b[39;00m\n\u001b[0;32m--> 631\u001b[0m data \u001b[38;5;241m=\u001b[39m \u001b[38;5;28;43mself\u001b[39;49m\u001b[38;5;241;43m.\u001b[39;49m\u001b[43m_next_data\u001b[49m\u001b[43m(\u001b[49m\u001b[43m)\u001b[49m\n\u001b[1;32m    632\u001b[0m \u001b[38;5;28mself\u001b[39m\u001b[38;5;241m.\u001b[39m_num_yielded \u001b[38;5;241m+\u001b[39m\u001b[38;5;241m=\u001b[39m \u001b[38;5;241m1\u001b[39m\n\u001b[1;32m    633\u001b[0m \u001b[38;5;28;01mif\u001b[39;00m \u001b[38;5;28mself\u001b[39m\u001b[38;5;241m.\u001b[39m_dataset_kind \u001b[38;5;241m==\u001b[39m _DatasetKind\u001b[38;5;241m.\u001b[39mIterable \u001b[38;5;129;01mand\u001b[39;00m \\\n\u001b[1;32m    634\u001b[0m         \u001b[38;5;28mself\u001b[39m\u001b[38;5;241m.\u001b[39m_IterableDataset_len_called \u001b[38;5;129;01mis\u001b[39;00m \u001b[38;5;129;01mnot\u001b[39;00m \u001b[38;5;28;01mNone\u001b[39;00m \u001b[38;5;129;01mand\u001b[39;00m \\\n\u001b[1;32m    635\u001b[0m         \u001b[38;5;28mself\u001b[39m\u001b[38;5;241m.\u001b[39m_num_yielded \u001b[38;5;241m>\u001b[39m \u001b[38;5;28mself\u001b[39m\u001b[38;5;241m.\u001b[39m_IterableDataset_len_called:\n",
      "File \u001b[0;32m~/mambaforge/envs/design-ai/lib/python3.12/site-packages/torch/utils/data/dataloader.py:675\u001b[0m, in \u001b[0;36m_SingleProcessDataLoaderIter._next_data\u001b[0;34m(self)\u001b[0m\n\u001b[1;32m    673\u001b[0m \u001b[38;5;28;01mdef\u001b[39;00m \u001b[38;5;21m_next_data\u001b[39m(\u001b[38;5;28mself\u001b[39m):\n\u001b[1;32m    674\u001b[0m     index \u001b[38;5;241m=\u001b[39m \u001b[38;5;28mself\u001b[39m\u001b[38;5;241m.\u001b[39m_next_index()  \u001b[38;5;66;03m# may raise StopIteration\u001b[39;00m\n\u001b[0;32m--> 675\u001b[0m     data \u001b[38;5;241m=\u001b[39m \u001b[38;5;28;43mself\u001b[39;49m\u001b[38;5;241;43m.\u001b[39;49m\u001b[43m_dataset_fetcher\u001b[49m\u001b[38;5;241;43m.\u001b[39;49m\u001b[43mfetch\u001b[49m\u001b[43m(\u001b[49m\u001b[43mindex\u001b[49m\u001b[43m)\u001b[49m  \u001b[38;5;66;03m# may raise StopIteration\u001b[39;00m\n\u001b[1;32m    676\u001b[0m     \u001b[38;5;28;01mif\u001b[39;00m \u001b[38;5;28mself\u001b[39m\u001b[38;5;241m.\u001b[39m_pin_memory:\n\u001b[1;32m    677\u001b[0m         data \u001b[38;5;241m=\u001b[39m _utils\u001b[38;5;241m.\u001b[39mpin_memory\u001b[38;5;241m.\u001b[39mpin_memory(data, \u001b[38;5;28mself\u001b[39m\u001b[38;5;241m.\u001b[39m_pin_memory_device)\n",
      "File \u001b[0;32m~/mambaforge/envs/design-ai/lib/python3.12/site-packages/torch/utils/data/_utils/fetch.py:51\u001b[0m, in \u001b[0;36m_MapDatasetFetcher.fetch\u001b[0;34m(self, possibly_batched_index)\u001b[0m\n\u001b[1;32m     49\u001b[0m         data \u001b[38;5;241m=\u001b[39m \u001b[38;5;28mself\u001b[39m\u001b[38;5;241m.\u001b[39mdataset\u001b[38;5;241m.\u001b[39m__getitems__(possibly_batched_index)\n\u001b[1;32m     50\u001b[0m     \u001b[38;5;28;01melse\u001b[39;00m:\n\u001b[0;32m---> 51\u001b[0m         data \u001b[38;5;241m=\u001b[39m [\u001b[38;5;28;43mself\u001b[39;49m\u001b[38;5;241;43m.\u001b[39;49m\u001b[43mdataset\u001b[49m\u001b[43m[\u001b[49m\u001b[43midx\u001b[49m\u001b[43m]\u001b[49m \u001b[38;5;28;01mfor\u001b[39;00m idx \u001b[38;5;129;01min\u001b[39;00m possibly_batched_index]\n\u001b[1;32m     52\u001b[0m \u001b[38;5;28;01melse\u001b[39;00m:\n\u001b[1;32m     53\u001b[0m     data \u001b[38;5;241m=\u001b[39m \u001b[38;5;28mself\u001b[39m\u001b[38;5;241m.\u001b[39mdataset[possibly_batched_index]\n",
      "Cell \u001b[0;32mIn[111], line 21\u001b[0m, in \u001b[0;36mAmazonReviewDataset.__getitem__\u001b[0;34m(self, index)\u001b[0m\n\u001b[1;32m     19\u001b[0m rating \u001b[38;5;241m=\u001b[39m \u001b[38;5;28mself\u001b[39m\u001b[38;5;241m.\u001b[39mratings[index]\n\u001b[1;32m     20\u001b[0m review_text_data \u001b[38;5;241m=\u001b[39m \u001b[38;5;28mself\u001b[39m\u001b[38;5;241m.\u001b[39mreviews_text_data[index]\n\u001b[0;32m---> 21\u001b[0m item_text_data \u001b[38;5;241m=\u001b[39m \u001b[38;5;28;43mself\u001b[39;49m\u001b[38;5;241;43m.\u001b[39;49m\u001b[43mitems_text_data\u001b[49m\u001b[43m[\u001b[49m\u001b[43mitem_id\u001b[49m\u001b[43m]\u001b[49m\n\u001b[1;32m     22\u001b[0m \u001b[38;5;28;01mreturn\u001b[39;00m user_id, item_id, rating, review_text_data, item_text_data\n",
      "\u001b[0;31mIndexError\u001b[0m: index 11006 is out of bounds for dimension 0 with size 9452"
     ]
    }
   ],
   "source": [
    "import torch.optim as optim\n",
    "import torch.nn as nn\n",
    "\n",
    "# Create data loaders\n",
    "train_loader = DataLoader(train_dataset, batch_size=16, shuffle=True)\n",
    "test_loader = DataLoader(test_dataset, batch_size=16, shuffle=False)\n",
    "\n",
    "# Create the NCF model\n",
    "num_users = len(user_mapping)\n",
    "num_items = len(reviewed_item_mapping)\n",
    "embedding_dim = 200\n",
    "droput_rate_fc = 0.1\n",
    "text_embedding_dims = [emb.shape[1] for emb in [reviews_text_embs, items_text_embs]]\n",
    "\n",
    "model = NCF(\n",
    "  num_users, num_items, embedding_dim, text_embedding_dims, droput_rate_fc).to(device)\n",
    "\n",
    "# Define loss function (MSE) and optimizer\n",
    "criterion = RMSELoss()\n",
    "# criterion = nn.MSELoss()\n",
    "optimizer = optim.Adam(model.parameters(), lr=0.001)\n",
    "\n",
    "# Train the model\n",
    "num_epochs = 20\n",
    "print('Loss criterion: RMSE\\n')\n",
    "train_loss_history, val_loss_history =  train_model(model, train_loader, test_loader, criterion, optimizer, device, num_epochs)"
   ]
  },
  {
   "cell_type": "code",
   "execution_count": null,
   "metadata": {},
   "outputs": [
    {
     "data": {
      "image/png": "[encoded data removed]",
      "text/plain": [
       "<Figure size 1000x600 with 1 Axes>"
      ]
     },
     "metadata": {},
     "output_type": "display_data"
    }
   ],
   "source": [
    "plot_accuracy(train_loss_history, val_loss_history, 'RMSE')"
   ]
  },
  {
   "cell_type": "markdown",
   "metadata": {},
   "source": [
    "#### Model test with single predictions"
   ]
  },
  {
   "cell_type": "code",
   "execution_count": null,
   "metadata": {},
   "outputs": [
    {
     "ename": "TypeError",
     "evalue": "NCF.forward() missing 1 required positional argument: 'text_embeddings'",
     "output_type": "error",
     "traceback": [
      "\u001b[0;31m---------------------------------------------------------------------------\u001b[0m",
      "\u001b[0;31mTypeError\u001b[0m                                 Traceback (most recent call last)",
      "Cell \u001b[0;32mIn[221], line 17\u001b[0m\n\u001b[1;32m     13\u001b[0m         score \u001b[38;5;241m=\u001b[39m model(user_tensor, item_tensor)\u001b[38;5;241m.\u001b[39mitem()\n\u001b[1;32m     15\u001b[0m     \u001b[38;5;28;01mreturn\u001b[39;00m score\n\u001b[0;32m---> 17\u001b[0m \u001b[38;5;28mprint\u001b[39m(\u001b[38;5;124mf\u001b[39m\u001b[38;5;124m'\u001b[39m\u001b[38;5;124mPredicted rating for user \u001b[39m\u001b[38;5;132;01m{\u001b[39;00muser_id\u001b[38;5;132;01m}\u001b[39;00m\u001b[38;5;124m and item \u001b[39m\u001b[38;5;132;01m{\u001b[39;00mitem_id\u001b[38;5;132;01m}\u001b[39;00m\u001b[38;5;124m: \u001b[39m\u001b[38;5;132;01m{\u001b[39;00m\u001b[43mpredict_score\u001b[49m\u001b[43m(\u001b[49m\u001b[43muser_id\u001b[49m\u001b[43m,\u001b[49m\u001b[38;5;250;43m \u001b[39;49m\u001b[38;5;124;43m'\u001b[39;49m\u001b[38;5;124;43mB0006HXE1E\u001b[39;49m\u001b[38;5;124;43m'\u001b[39;49m\u001b[43m,\u001b[49m\u001b[38;5;250;43m \u001b[39;49m\u001b[43mmodel\u001b[49m\u001b[43m,\u001b[49m\u001b[38;5;250;43m \u001b[39;49m\u001b[43muser_mapping\u001b[49m\u001b[43m,\u001b[49m\u001b[38;5;250;43m \u001b[39;49m\u001b[43mitem_mapping\u001b[49m\u001b[43m,\u001b[49m\u001b[38;5;250;43m \u001b[39;49m\u001b[43mdevice\u001b[49m\u001b[43m)\u001b[49m\u001b[38;5;132;01m}\u001b[39;00m\u001b[38;5;124m'\u001b[39m)\n\u001b[1;32m     18\u001b[0m \u001b[38;5;66;03m# print(f'Actual rating: {user_product_matrix.loc[user_id, item_id]}')\u001b[39;00m\n",
      "Cell \u001b[0;32mIn[221], line 13\u001b[0m, in \u001b[0;36mpredict_score\u001b[0;34m(user_id, item_id, model, user_mapping, item_mapping, device)\u001b[0m\n\u001b[1;32m     11\u001b[0m \u001b[38;5;28;01mwith\u001b[39;00m torch\u001b[38;5;241m.\u001b[39mno_grad():\n\u001b[1;32m     12\u001b[0m     model\u001b[38;5;241m.\u001b[39meval()\n\u001b[0;32m---> 13\u001b[0m     score \u001b[38;5;241m=\u001b[39m \u001b[43mmodel\u001b[49m\u001b[43m(\u001b[49m\u001b[43muser_tensor\u001b[49m\u001b[43m,\u001b[49m\u001b[43m \u001b[49m\u001b[43mitem_tensor\u001b[49m\u001b[43m)\u001b[49m\u001b[38;5;241m.\u001b[39mitem()\n\u001b[1;32m     15\u001b[0m \u001b[38;5;28;01mreturn\u001b[39;00m score\n",
      "File \u001b[0;32m~/mambaforge/envs/design-ai/lib/python3.12/site-packages/torch/nn/modules/module.py:1511\u001b[0m, in \u001b[0;36mModule._wrapped_call_impl\u001b[0;34m(self, *args, **kwargs)\u001b[0m\n\u001b[1;32m   1509\u001b[0m     \u001b[38;5;28;01mreturn\u001b[39;00m \u001b[38;5;28mself\u001b[39m\u001b[38;5;241m.\u001b[39m_compiled_call_impl(\u001b[38;5;241m*\u001b[39margs, \u001b[38;5;241m*\u001b[39m\u001b[38;5;241m*\u001b[39mkwargs)  \u001b[38;5;66;03m# type: ignore[misc]\u001b[39;00m\n\u001b[1;32m   1510\u001b[0m \u001b[38;5;28;01melse\u001b[39;00m:\n\u001b[0;32m-> 1511\u001b[0m     \u001b[38;5;28;01mreturn\u001b[39;00m \u001b[38;5;28;43mself\u001b[39;49m\u001b[38;5;241;43m.\u001b[39;49m\u001b[43m_call_impl\u001b[49m\u001b[43m(\u001b[49m\u001b[38;5;241;43m*\u001b[39;49m\u001b[43margs\u001b[49m\u001b[43m,\u001b[49m\u001b[43m \u001b[49m\u001b[38;5;241;43m*\u001b[39;49m\u001b[38;5;241;43m*\u001b[39;49m\u001b[43mkwargs\u001b[49m\u001b[43m)\u001b[49m\n",
      "File \u001b[0;32m~/mambaforge/envs/design-ai/lib/python3.12/site-packages/torch/nn/modules/module.py:1520\u001b[0m, in \u001b[0;36mModule._call_impl\u001b[0;34m(self, *args, **kwargs)\u001b[0m\n\u001b[1;32m   1515\u001b[0m \u001b[38;5;66;03m# If we don't have any hooks, we want to skip the rest of the logic in\u001b[39;00m\n\u001b[1;32m   1516\u001b[0m \u001b[38;5;66;03m# this function, and just call forward.\u001b[39;00m\n\u001b[1;32m   1517\u001b[0m \u001b[38;5;28;01mif\u001b[39;00m \u001b[38;5;129;01mnot\u001b[39;00m (\u001b[38;5;28mself\u001b[39m\u001b[38;5;241m.\u001b[39m_backward_hooks \u001b[38;5;129;01mor\u001b[39;00m \u001b[38;5;28mself\u001b[39m\u001b[38;5;241m.\u001b[39m_backward_pre_hooks \u001b[38;5;129;01mor\u001b[39;00m \u001b[38;5;28mself\u001b[39m\u001b[38;5;241m.\u001b[39m_forward_hooks \u001b[38;5;129;01mor\u001b[39;00m \u001b[38;5;28mself\u001b[39m\u001b[38;5;241m.\u001b[39m_forward_pre_hooks\n\u001b[1;32m   1518\u001b[0m         \u001b[38;5;129;01mor\u001b[39;00m _global_backward_pre_hooks \u001b[38;5;129;01mor\u001b[39;00m _global_backward_hooks\n\u001b[1;32m   1519\u001b[0m         \u001b[38;5;129;01mor\u001b[39;00m _global_forward_hooks \u001b[38;5;129;01mor\u001b[39;00m _global_forward_pre_hooks):\n\u001b[0;32m-> 1520\u001b[0m     \u001b[38;5;28;01mreturn\u001b[39;00m \u001b[43mforward_call\u001b[49m\u001b[43m(\u001b[49m\u001b[38;5;241;43m*\u001b[39;49m\u001b[43margs\u001b[49m\u001b[43m,\u001b[49m\u001b[43m \u001b[49m\u001b[38;5;241;43m*\u001b[39;49m\u001b[38;5;241;43m*\u001b[39;49m\u001b[43mkwargs\u001b[49m\u001b[43m)\u001b[49m\n\u001b[1;32m   1522\u001b[0m \u001b[38;5;28;01mtry\u001b[39;00m:\n\u001b[1;32m   1523\u001b[0m     result \u001b[38;5;241m=\u001b[39m \u001b[38;5;28;01mNone\u001b[39;00m\n",
      "\u001b[0;31mTypeError\u001b[0m: NCF.forward() missing 1 required positional argument: 'text_embeddings'"
     ]
    }
   ],
   "source": [
    "def predict_score(user_id, item_id, model, user_mapping, item_mapping, device):\n",
    "    # Convert user ID and item ID to their corresponding indices\n",
    "    user_index = user_mapping[user_id]\n",
    "    item_index = item_mapping[item_id]\n",
    "\n",
    "    # Convert indices to tensors\n",
    "    user_tensor = torch.tensor([user_index], dtype=torch.long).to(device)\n",
    "    item_tensor = torch.tensor([item_index], dtype=torch.long).to(device)\n",
    "\n",
    "    # Get the predicted score from the model\n",
    "    with torch.no_grad():\n",
    "        model.eval()\n",
    "        score = model(user_tensor, item_tensor).item()\n",
    "\n",
    "    return score\n",
    "\n",
    "print(f'Predicted rating for user {user_id} and item {item_id}: {predict_score(user_id, 'B0006HXE1E', model, user_mapping, item_mapping, device)}')\n",
    "# print(f'Actual rating: {user_product_matrix.loc[user_id, item_id]}')"
   ]
  },
  {
   "cell_type": "code",
   "execution_count": null,
   "metadata": {},
   "outputs": [
    {
     "data": {
      "text/html": [
       "<div>\n",
       "<style scoped>\n",
       "    .dataframe tbody tr th:only-of-type {\n",
       "        vertical-align: middle;\n",
       "    }\n",
       "\n",
       "    .dataframe tbody tr th {\n",
       "        vertical-align: top;\n",
       "    }\n",
       "\n",
       "    .dataframe thead th {\n",
       "        text-align: right;\n",
       "    }\n",
       "</style>\n",
       "<table border=\"1\" class=\"dataframe\">\n",
       "  <thead>\n",
       "    <tr style=\"text-align: right;\">\n",
       "      <th></th>\n",
       "      <th>description</th>\n",
       "      <th>title</th>\n",
       "      <th>brand</th>\n",
       "      <th>feature</th>\n",
       "      <th>rank</th>\n",
       "      <th>productPublishedDate</th>\n",
       "      <th>asin</th>\n",
       "      <th>main_cat_All Beauty</th>\n",
       "      <th>main_cat_All Electronics</th>\n",
       "      <th>main_cat_Amazon Home</th>\n",
       "      <th>main_cat_Arts, Crafts &amp; Sewing</th>\n",
       "      <th>main_cat_Arts, Crafts &amp;amp; Sewing</th>\n",
       "      <th>main_cat_Automotive</th>\n",
       "      <th>main_cat_Baby</th>\n",
       "      <th>main_cat_Books</th>\n",
       "      <th>main_cat_Camera &amp; Photo</th>\n",
       "      <th>main_cat_Camera &amp;amp; Photo</th>\n",
       "      <th>main_cat_Car Electronics</th>\n",
       "      <th>main_cat_Cell Phones &amp; Accessories</th>\n",
       "      <th>main_cat_Cell Phones &amp;amp; Accessories</th>\n",
       "      <th>main_cat_Computers</th>\n",
       "      <th>main_cat_Gift Cards</th>\n",
       "      <th>main_cat_Grocery</th>\n",
       "      <th>main_cat_Health &amp; Personal Care</th>\n",
       "      <th>main_cat_Home Audio &amp; Theater</th>\n",
       "      <th>main_cat_Home Audio &amp;amp; Theater</th>\n",
       "      <th>main_cat_Industrial &amp; Scientific</th>\n",
       "      <th>main_cat_Industrial &amp;amp; Scientific</th>\n",
       "      <th>main_cat_Musical Instruments</th>\n",
       "      <th>main_cat_Office Products</th>\n",
       "      <th>main_cat_Pet Supplies</th>\n",
       "      <th>main_cat_Portable Audio &amp; Accessories</th>\n",
       "      <th>main_cat_Software</th>\n",
       "      <th>main_cat_Sports &amp; Outdoors</th>\n",
       "      <th>main_cat_Sports &amp;amp; Outdoors</th>\n",
       "      <th>main_cat_Tools &amp; Home Improvement</th>\n",
       "      <th>main_cat_Tools &amp;amp; Home Improvement</th>\n",
       "      <th>main_cat_Toys &amp; Games</th>\n",
       "      <th>main_cat_Toys &amp;amp; Games</th>\n",
       "      <th>main_cat_Video Games</th>\n",
       "      <th>dayDifferenceProduct</th>\n",
       "    </tr>\n",
       "  </thead>\n",
       "  <tbody>\n",
       "    <tr>\n",
       "      <th>0</th>\n",
       "      <td>xclusive design classi</td>\n",
       "      <td>best abstract fiery floral design mouse pad cu...</td>\n",
       "      <td>luxladymousepad</td>\n",
       "      <td>material made best plastic manufacturing also ...</td>\n",
       "      <td>-1</td>\n",
       "      <td>September 21, 1677</td>\n",
       "      <td>B00KH94VSG</td>\n",
       "      <td>0</td>\n",
       "      <td>0</td>\n",
       "      <td>0</td>\n",
       "      <td>0</td>\n",
       "      <td>0</td>\n",
       "      <td>0</td>\n",
       "      <td>0</td>\n",
       "      <td>0</td>\n",
       "      <td>0</td>\n",
       "      <td>0</td>\n",
       "      <td>0</td>\n",
       "      <td>1</td>\n",
       "      <td>0</td>\n",
       "      <td>0</td>\n",
       "      <td>0</td>\n",
       "      <td>0</td>\n",
       "      <td>0</td>\n",
       "      <td>0</td>\n",
       "      <td>0</td>\n",
       "      <td>0</td>\n",
       "      <td>0</td>\n",
       "      <td>0</td>\n",
       "      <td>0</td>\n",
       "      <td>0</td>\n",
       "      <td>0</td>\n",
       "      <td>0</td>\n",
       "      <td>0</td>\n",
       "      <td>0</td>\n",
       "      <td>0</td>\n",
       "      <td>0</td>\n",
       "      <td>0</td>\n",
       "      <td>0</td>\n",
       "      <td>0</td>\n",
       "      <td>0.059833</td>\n",
       "    </tr>\n",
       "    <tr>\n",
       "      <th>1</th>\n",
       "      <td>itten piano key mouse pad 8 x 8 x 25 made heav...</td>\n",
       "      <td>3drose llc 8 x 8 x 025 inch kitten piano key m...</td>\n",
       "      <td>3drose</td>\n",
       "      <td>dimension inch 8 w x 8 h x 025 matte finish so...</td>\n",
       "      <td>1</td>\n",
       "      <td>July 14, 2014</td>\n",
       "      <td>B00CX71JNU</td>\n",
       "      <td>0</td>\n",
       "      <td>0</td>\n",
       "      <td>0</td>\n",
       "      <td>0</td>\n",
       "      <td>0</td>\n",
       "      <td>0</td>\n",
       "      <td>0</td>\n",
       "      <td>0</td>\n",
       "      <td>0</td>\n",
       "      <td>0</td>\n",
       "      <td>0</td>\n",
       "      <td>0</td>\n",
       "      <td>0</td>\n",
       "      <td>0</td>\n",
       "      <td>0</td>\n",
       "      <td>0</td>\n",
       "      <td>0</td>\n",
       "      <td>0</td>\n",
       "      <td>0</td>\n",
       "      <td>0</td>\n",
       "      <td>0</td>\n",
       "      <td>0</td>\n",
       "      <td>1</td>\n",
       "      <td>0</td>\n",
       "      <td>0</td>\n",
       "      <td>0</td>\n",
       "      <td>0</td>\n",
       "      <td>0</td>\n",
       "      <td>0</td>\n",
       "      <td>0</td>\n",
       "      <td>0</td>\n",
       "      <td>0</td>\n",
       "      <td>0</td>\n",
       "      <td>0.848318</td>\n",
       "    </tr>\n",
       "  </tbody>\n",
       "</table>\n",
       "</div>"
      ],
      "text/plain": [
       "                                         description                                              title            brand                                            feature  rank productPublishedDate        asin  main_cat_All Beauty  main_cat_All Electronics  main_cat_Amazon Home  main_cat_Arts, Crafts & Sewing  main_cat_Arts, Crafts &amp; Sewing  main_cat_Automotive  main_cat_Baby  main_cat_Books  main_cat_Camera & Photo  main_cat_Camera &amp; Photo  main_cat_Car Electronics  main_cat_Cell Phones & Accessories  main_cat_Cell Phones &amp; Accessories  main_cat_Computers  main_cat_Gift Cards  main_cat_Grocery  main_cat_Health & Personal Care  main_cat_Home Audio & Theater  main_cat_Home Audio &amp; Theater  main_cat_Industrial & Scientific  main_cat_Industrial &amp; Scientific  main_cat_Musical Instruments  main_cat_Office Products  main_cat_Pet Supplies  main_cat_Portable Audio & Accessories  main_cat_Software  main_cat_Sports & Outdoors  main_cat_Sports &amp; Outdoors  main_cat_Tools & Home Improvement  main_cat_Tools &amp; Home Improvement  main_cat_Toys & Games  main_cat_Toys &amp; Games  main_cat_Video Games  dayDifferenceProduct\n",
       "0                             xclusive design classi  best abstract fiery floral design mouse pad cu...  luxladymousepad  material made best plastic manufacturing also ...    -1   September 21, 1677  B00KH94VSG                    0                         0                     0                               0                                   0                    0              0               0                        0                            0                         0                                   1                                       0                   0                    0                 0                                0                              0                                  0                                 0                                     0                             0                         0                      0                                      0                  0                           0                               0                                  0                                      0                      0                          0                     0              0.059833\n",
       "1  itten piano key mouse pad 8 x 8 x 25 made heav...  3drose llc 8 x 8 x 025 inch kitten piano key m...           3drose  dimension inch 8 w x 8 h x 025 matte finish so...     1        July 14, 2014  B00CX71JNU                    0                         0                     0                               0                                   0                    0              0               0                        0                            0                         0                                   0                                       0                   0                    0                 0                                0                              0                                  0                                 0                                     0                             0                         1                      0                                      0                  0                           0                               0                                  0                                      0                      0                          0                     0              0.848318"
      ]
     },
     "execution_count": 48,
     "metadata": {},
     "output_type": "execute_result"
    }
   ],
   "source": [
    "unreviewed_products_df.head(2)"
   ]
  }
 ],
 "metadata": {
  "kernelspec": {
   "display_name": "design-ai",
   "language": "python",
   "name": "python3"
  },
  "language_info": {
   "codemirror_mode": {
    "name": "ipython",
    "version": 3
   },
   "file_extension": ".py",
   "mimetype": "text/x-python",
   "name": "python",
   "nbconvert_exporter": "python",
   "pygments_lexer": "ipython3",
   "version": "3.12.2"
  }
 },
 "nbformat": 4,
 "nbformat_minor": 2
}
