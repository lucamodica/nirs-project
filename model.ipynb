{
 "cells": [
  {
   "cell_type": "markdown",
   "metadata": {},
   "source": [
    "# NIRS (model)"
   ]
  },
  {
   "cell_type": "code",
   "execution_count": 10,
   "metadata": {},
   "outputs": [],
   "source": [
    "import utils\n",
    "import pandas as pd\n",
    "import numpy as np\n",
    "import matplotlib.pyplot as plt\n",
    "\n",
    "%matplotlib inline\n",
    "utils.seed_everything(42)"
   ]
  },
  {
   "cell_type": "code",
   "execution_count": 11,
   "metadata": {},
   "outputs": [
    {
     "name": "stderr",
     "output_type": "stream",
     "text": [
      "[nltk_data] Downloading package punkt to /home/lucamodica/nltk_data...\n",
      "[nltk_data]   Package punkt is already up-to-date!\n",
      "[nltk_data] Downloading package wordnet to\n",
      "[nltk_data]     /home/lucamodica/nltk_data...\n",
      "[nltk_data]   Package wordnet is already up-to-date!\n",
      "[nltk_data] Downloading package words to /home/lucamodica/nltk_data...\n",
      "[nltk_data]   Package words is already up-to-date!\n",
      "[nltk_data] Downloading package stopwords to\n",
      "[nltk_data]     /home/lucamodica/nltk_data...\n",
      "[nltk_data]   Package stopwords is already up-to-date!\n",
      "[nltk_data] Downloading package averaged_perceptron_tagger to\n",
      "[nltk_data]     /home/lucamodica/nltk_data...\n",
      "[nltk_data]   Package averaged_perceptron_tagger is already up-to-\n",
      "[nltk_data]       date!\n"
     ]
    }
   ],
   "source": [
    "%run data-with-text-preprocessing.ipynb"
   ]
  },
  {
   "cell_type": "markdown",
   "metadata": {},
   "source": [
    "## Reading, preprocess and represent data (to test)"
   ]
  },
  {
   "cell_type": "code",
   "execution_count": 12,
   "metadata": {},
   "outputs": [],
   "source": [
    "df_reviews = pd.read_csv('data/products_sampled.csv')\n",
    "df_products = pd.read_csv('data/reviews_sampled.csv')"
   ]
  },
  {
   "cell_type": "code",
   "execution_count": 13,
   "metadata": {},
   "outputs": [
    {
     "ename": "ModuleNotFoundError",
     "evalue": "No module named 'spacy'",
     "output_type": "error",
     "traceback": [
      "\u001b[0;31m---------------------------------------------------------------------------\u001b[0m",
      "\u001b[0;31mModuleNotFoundError\u001b[0m                       Traceback (most recent call last)",
      "Cell \u001b[0;32mIn[13], line 5\u001b[0m\n\u001b[1;32m      3\u001b[0m \u001b[38;5;28;01mfrom\u001b[39;00m \u001b[38;5;21;01mnltk\u001b[39;00m\u001b[38;5;21;01m.\u001b[39;00m\u001b[38;5;21;01mcorpus\u001b[39;00m \u001b[38;5;28;01mimport\u001b[39;00m stopwords\n\u001b[1;32m      4\u001b[0m \u001b[38;5;28;01mfrom\u001b[39;00m \u001b[38;5;21;01mnltk\u001b[39;00m\u001b[38;5;21;01m.\u001b[39;00m\u001b[38;5;21;01mstem\u001b[39;00m \u001b[38;5;28;01mimport\u001b[39;00m WordNetLemmatizer\n\u001b[0;32m----> 5\u001b[0m \u001b[38;5;28;01mimport\u001b[39;00m \u001b[38;5;21;01mspacy\u001b[39;00m\n\u001b[1;32m      6\u001b[0m \u001b[38;5;28;01mimport\u001b[39;00m \u001b[38;5;21;01mnltk\u001b[39;00m\n\u001b[1;32m      8\u001b[0m nlp \u001b[38;5;241m=\u001b[39m spacy\u001b[38;5;241m.\u001b[39mload(\u001b[38;5;124m'\u001b[39m\u001b[38;5;124men_core_web_sm\u001b[39m\u001b[38;5;124m'\u001b[39m)\n",
      "\u001b[0;31mModuleNotFoundError\u001b[0m: No module named 'spacy'"
     ]
    }
   ],
   "source": [
    "from sklearn.feature_extraction.text import TfidfVectorizer\n",
    "import string, re\n",
    "from nltk.corpus import stopwords\n",
    "from nltk.stem import WordNetLemmatizer\n",
    "import spacy\n",
    "import nltk\n",
    "\n",
    "nlp = spacy.load('en_core_web_sm')\n",
    "nltk.download('punkt')\n",
    "nltk.download('wordnet')\n",
    "nltk.download('words')\n",
    "nltk.download('stopwords')\n",
    "nltk.download('averaged_perceptron_tagger')\n",
    "\n",
    "# LOADING SPACY ENGLISH LANGUAGE MODEL\n",
    "nlp = spacy.load(\"en_core_web_sm\")\n",
    "\n",
    "# LOADING WORD LIST FROM NLTK\n",
    "words = set(nltk.corpus.words.words())"
   ]
  },
  {
   "cell_type": "code",
   "execution_count": null,
   "metadata": {},
   "outputs": [],
   "source": [
    "from sklearn.base import BaseEstimator, TransformerMixin\n",
    "\n",
    "covid_vaccine_keywords = [\n",
    "    # Correct spellings\n",
    "    \"vaccine\", \"vaccination\", \"covid\", \"covid-19\", \"coronavirus\", \"sars-cov-2\",\n",
    "    \"pfizer\", \"moderna\", \"astrazeneca\", \"johnson & johnson\", \"j&j\", \"sinovac\",\n",
    "    \"sputnik\", \"novavax\", \"vax\", \"jab\", \"immunization\", \"dose\", \"booster\",\n",
    "    \"mrna\", \"side effects\", \"efficacy\", \"immunity\", \"herd immunity\", \"antibody\",\n",
    "    \"antibodies\", \"shot\", \"inoculation\", \"clinical trial\", \"rollout\", \"pharma\",\n",
    "    \"pharmaceutical\", \"vaxx\", \"antivax\", \"antivaxxer\", \"vaxxed\", \"unvaccinated\",\n",
    "    \"fully vaccinated\", \"vaccine passport\", \"vaccine mandate\", \"immunocompromised\",\n",
    "\n",
    "    # Common misspellings and social media abbreviations/slang\n",
    "    \"vaxine\", \"vaccin\", \"covid19\", \"corona virus\", \"cov19\", \"cov-19\",\n",
    "    \"pfzer\", \"modrna\", \"astra zeneca\", \"astrazneca\", \"jnj\", \"j & j\", \"sinopharm\",\n",
    "    \"sputnic\", \"novax\", \"vac\", \"vaxination\", \"imunization\", \"dose\", \"boster\",\n",
    "    \"mrna vaccine\", \"side efects\", \"eficacy\", \"imunity\", \"herd imunity\", \"antibody\",\n",
    "    \"antybodies\", \"shott\", \"inoculation\", \"clincal trial\", \"rolout\", \"farmaceutical\",\n",
    "    \"pharmaceutic\", \"vaxx\", \"antivax\", \"antivaxer\", \"vaxxed\", \"unvaxed\", \"nonvaxxed\",\n",
    "    \"vaccine card\", \"vaccine pass\", \"mandate vax\", \"immunocompromise\",\n",
    "]\n",
    "\n",
    "class TextPreprocessor(BaseEstimator, TransformerMixin):\n",
    "    def __init__(self):\n",
    "        self.stop_words = set(stopwords.words('english'))\n",
    "        self.lemmatizer = WordNetLemmatizer()\n",
    "\n",
    "    def fit(self, X, y=None):\n",
    "        return self\n",
    "\n",
    "    def transform(self, X):\n",
    "        return [self._preprocess(text) for text in X]\n",
    "\n",
    "    def _preprocess(self, text):\n",
    "        # Lowercasing\n",
    "        text = text.lower()\n",
    "        # Remove accented characters\n",
    "        text = unidecode(text)\n",
    "        \n",
    "        # NER Tagging\n",
    "        # doc = nlp(text)\n",
    "        # entities = []\n",
    "        # for ent in doc.ents:\n",
    "        #     if any(keyword.lower() in ent.text.lower() for keyword in covid_vaccine_keywords):\n",
    "        #         entities.append(\"[COVID_VACCINE]\")\n",
    "        #     else:\n",
    "        #         entities.append(ent.text)\n",
    "        # text = \" \".join(entities)\n",
    "        \n",
    "        # Correct typos\n",
    "        text = str(TextBlob(text).correct())\n",
    "        \n",
    "        # Remove numbers\n",
    "        text = re.sub(r'\\d+', '', text)\n",
    "        \n",
    "        # remove punctuation\n",
    "        text = re.sub('[%s]' % re.escape(string.punctuation), '', text)\n",
    "        \n",
    "        # remove double spaces\n",
    "        text = re.sub(' +', ' ', text)\n",
    "        \n",
    "        # Tokenize text\n",
    "        words = word_tokenize(text)\n",
    "        # Remove stopwords and lemmatize\n",
    "        words = [self.lemmatizer.lemmatize(\n",
    "            word) for word in words if word not in self.stop_words]\n",
    "        \n",
    "        return ' '.join(words)\n"
   ]
  }
 ],
 "metadata": {
  "kernelspec": {
   "display_name": "design-ai",
   "language": "python",
   "name": "python3"
  },
  "language_info": {
   "codemirror_mode": {
    "name": "ipython",
    "version": 3
   },
   "file_extension": ".py",
   "mimetype": "text/x-python",
   "name": "python",
   "nbconvert_exporter": "python",
   "pygments_lexer": "ipython3",
   "version": "3.12.2"
  }
 },
 "nbformat": 4,
 "nbformat_minor": 2
}
