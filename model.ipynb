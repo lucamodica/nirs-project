{
 "cells": [
  {
   "cell_type": "markdown",
   "metadata": {},
   "source": [
    "# NIRS (model)"
   ]
  },
  {
   "cell_type": "code",
   "execution_count": 1,
   "metadata": {},
   "outputs": [],
   "source": [
    "import utils as utils\n",
    "import torch\n",
    "import numpy as np\n",
    "import pandas as pd\n",
    "from icecream import ic\n",
    "import matplotlib.pyplot as plt\n",
    "import seaborn as sns\n",
    "\n",
    "utils.seed_everything(42)\n",
    "\n",
    "%matplotlib inline\n",
    "sns.set_style('darkgrid')\n",
    "\n",
    "# Set device\n",
    "device = torch.device('cuda' if torch.cuda.is_available() else 'cpu')"
   ]
  },
  {
   "cell_type": "markdown",
   "metadata": {},
   "source": [
    "## Init and reading data"
   ]
  },
  {
   "cell_type": "code",
   "execution_count": 2,
   "metadata": {},
   "outputs": [
    {
     "name": "stdout",
     "output_type": "stream",
     "text": [
      "(233469, 47) (661471, 8)\n"
     ]
    }
   ],
   "source": [
    "df = pd.read_csv('data/merged_data_processed.csv')\n",
    "unreviewed_products_df = pd.read_csv('data/unreviewed_products_processed.csv')\n",
    "products_df = pd.read_csv('data/products_sampled_processed.csv')\n",
    "reviews_df = pd.read_csv('data/reviews_sampled_processed.csv')\n",
    "\n",
    "print(products_df.shape, reviews_df.shape)"
   ]
  },
  {
   "cell_type": "code",
   "execution_count": 3,
   "metadata": {},
   "outputs": [],
   "source": [
    "# drop duplicates\n",
    "reviews_df.drop_duplicates(subset=['reviewerID', 'asin', 'reviewText', 'summary'], inplace=True)"
   ]
  },
  {
   "cell_type": "code",
   "execution_count": 4,
   "metadata": {},
   "outputs": [],
   "source": [
    "# join products and reviews datasets\n",
    "df = reviews_df.merge(products_df, on='asin', how='inner')\n",
    "\n",
    "unreviewed_products_df = products_df[~products_df['asin'].isin(reviews_df['asin'])]"
   ]
  },
  {
   "cell_type": "code",
   "execution_count": 5,
   "metadata": {},
   "outputs": [
    {
     "name": "stdout",
     "output_type": "stream",
     "text": [
      "Shape of df: (661471, 54)\n",
      "Shape of unreviewed_products_df: (209585, 47)\n",
      "Shape of products_df: (233469, 47)\n",
      "Shape of reviews_df: (661471, 8)\n"
     ]
    }
   ],
   "source": [
    "print(f'Shape of df: {df.shape}')\n",
    "print(f'Shape of unreviewed_products_df: {unreviewed_products_df.shape}')\n",
    "print(f'Shape of products_df: {products_df.shape}')\n",
    "print(f'Shape of reviews_df: {reviews_df.shape}')"
   ]
  },
  {
   "cell_type": "markdown",
   "metadata": {},
   "source": [
    "## Other data preparation for the model"
   ]
  },
  {
   "cell_type": "markdown",
   "metadata": {},
   "source": [
    "### User and product id mapping"
   ]
  },
  {
   "cell_type": "code",
   "execution_count": 6,
   "metadata": {},
   "outputs": [],
   "source": [
    "user_ids = df['reviewerID'].values\n",
    "product_ids = df['asin'].values\n",
    "\n",
    "user_id_map = {uid: idx for idx, uid in enumerate(set(user_ids))}\n",
    "product_id_map = {pid: idx for idx, pid in enumerate(set(product_ids))}\n",
    "\n",
    "# Map user and item IDs to indices\n",
    "df['user_index'] = df['reviewerID'].map(user_id_map)\n",
    "df['item_index'] = df['asin'].map(product_id_map)"
   ]
  },
  {
   "cell_type": "markdown",
   "metadata": {},
   "source": [
    "### Text Embeddings (with Word2Vec or whatever)"
   ]
  },
  {
   "cell_type": "code",
   "execution_count": 7,
   "metadata": {},
   "outputs": [],
   "source": [
    "from gensim.models import Word2Vec\n",
    "\n",
    "# Create embeddings using Word2Vec\n",
    "def create_word2vec_embeddings(texts, embedding_dim):\n",
    "  # Tokenize the texts\n",
    "  tokenized_texts = [text.split() for text in texts]\n",
    "  \n",
    "  # Train Word2Vec model\n",
    "  model = Word2Vec(tokenized_texts, vector_size=embedding_dim, window=5, min_count=1, workers=4)\n",
    "  \n",
    "  # Get the embeddings for each text\n",
    "  embeddings = []\n",
    "  for text in tokenized_texts:\n",
    "      embedding = np.mean([model.wv[word] for word in text if word in model.wv], axis=0)\n",
    "      embeddings.append(embedding)\n",
    "  \n",
    "  return np.array(embeddings)"
   ]
  },
  {
   "cell_type": "code",
   "execution_count": 8,
   "metadata": {},
   "outputs": [],
   "source": [
    "df_reviewed_products = products_df[products_df['asin'].isin(df['asin'].unique())].drop_duplicates(subset=['asin'])\n",
    "df_reviewed_products['brand'] = df_reviewed_products['brand'].astype(str)\n",
    "df_reviewed_products['title'] = df_reviewed_products['title'].astype(str)\n",
    "df_reviewed_products['description'] = df_reviewed_products['description'].astype(str)\n",
    "\n",
    "df_reviewed_products.reset_index(drop=True, inplace=True)"
   ]
  },
  {
   "cell_type": "code",
   "execution_count": 9,
   "metadata": {},
   "outputs": [
    {
     "name": "stdout",
     "output_type": "stream",
     "text": [
      "torch.Size([661471, 200]) torch.Size([661471, 200]) torch.Size([233469, 200]) torch.Size([233469, 200]) torch.Size([233469, 200]) torch.Size([233469, 200])\n"
     ]
    }
   ],
   "source": [
    "# Create embeddings for textual data\n",
    "text_embedding_dims = 200\n",
    "reviewTexts_embs = torch.tensor(create_word2vec_embeddings(reviews_df['reviewText'].astype(str), embedding_dim=text_embedding_dims))\n",
    "summary_embs = torch.tensor(create_word2vec_embeddings(reviews_df['summary'].astype(str), embedding_dim=text_embedding_dims))\n",
    "title_embs = torch.tensor(create_word2vec_embeddings(products_df['title'].astype(str), embedding_dim=text_embedding_dims))\n",
    "description_embs = torch.tensor(create_word2vec_embeddings(products_df['description'].astype(str), embedding_dim=text_embedding_dims))\n",
    "feature_embs = torch.tensor(create_word2vec_embeddings(products_df['feature'].astype(str), embedding_dim=text_embedding_dims))\n",
    "brand_embs = torch.tensor(create_word2vec_embeddings(products_df['brand'].astype(str), embedding_dim=text_embedding_dims))\n",
    "\n",
    "#load the embeddings  \n",
    "# reviewTexts_embs = torch.load('data/embeds/review_embeddings.pt')\n",
    "# summary_embs = torch.load('data/embeds/summary_embeddings.pt')\n",
    "# description_embs = torch.load('data/embeds/description_embeddings.pt')\n",
    "# title_embs = torch.load('data/embeds/title_embeddings.pt')\n",
    "# feature_embs = torch.load('data/embeds/feature_embeddings.pt')\n",
    "# brand_embs = torch.load('data/embeds/brand_embeddings.pt')\n",
    "\n",
    "print(reviewTexts_embs.shape, summary_embs.shape, title_embs.shape, description_embs.shape, feature_embs.shape, brand_embs.shape)"
   ]
  },
  {
   "cell_type": "code",
   "execution_count": 10,
   "metadata": {},
   "outputs": [],
   "source": [
    "# review (user) embeddings by taking the mean of the review-related embeddings\n",
    "reviews_text_embs = torch.mean(torch.stack([reviewTexts_embs, summary_embs]), dim=0)\n",
    "\n",
    "# item embeddings by taking the mean of the item-related embeddings\n",
    "products_text_embs = torch.mean(torch.stack([title_embs, description_embs, feature_embs, brand_embs]), dim=0)"
   ]
  },
  {
   "cell_type": "code",
   "execution_count": 11,
   "metadata": {},
   "outputs": [],
   "source": [
    "user_embeddings_map = {}\n",
    "for i, row in reviews_df.iterrows():\n",
    "    user_id = row['reviewerID']   \n",
    "    if user_id not in user_embeddings_map:\n",
    "        user_embeddings_map[user_id] = [reviews_text_embs[i]]\n",
    "    else:\n",
    "        user_embeddings_map[user_id].append(reviews_text_embs[i])\n",
    "\n",
    "for user_id, emb in user_embeddings_map.items():\n",
    "    user_tensors = user_embeddings_map[user_id]\n",
    "    user_embeddings_map[user_id] = torch.mean(torch.stack(user_tensors), dim=0)\n",
    "    \n",
    "    \n",
    "df['user_embs'] = df['reviewerID'].map(user_embeddings_map)"
   ]
  },
  {
   "cell_type": "code",
   "execution_count": 12,
   "metadata": {},
   "outputs": [],
   "source": [
    "all_product_embeddings = {}\n",
    "for i, row in df_reviewed_products.iterrows():\n",
    "    product_id = row['asin']\n",
    "    all_product_embeddings[product_id] = products_text_embs[i]\n",
    "\n",
    "\n",
    "reviewed_products_embeddings_map = {}\n",
    "for i, row in df_reviewed_products.iterrows():\n",
    "    product_id = row['asin']\n",
    "    reviewed_products_embeddings_map[product_id] = all_product_embeddings[product_id]\n",
    "    \n",
    "df['product_embs'] = df['asin'].map(reviewed_products_embeddings_map)"
   ]
  },
  {
   "cell_type": "markdown",
   "metadata": {},
   "source": [
    "## Model"
   ]
  },
  {
   "cell_type": "markdown",
   "metadata": {},
   "source": [
    "### DataLoaders for the Pytorch-based model"
   ]
  },
  {
   "cell_type": "code",
   "execution_count": 13,
   "metadata": {},
   "outputs": [],
   "source": [
    "def train_test_split_colab(df, test_size=0.2):\n",
    "    \"\"\" \n",
    "    Split the dataframe into training and test sets,\n",
    "    by taking a percentage of the review from each user     \n",
    "    \"\"\"\n",
    "    train_set, test_set = [], []\n",
    "\n",
    "    for _, group in df.groupby('reviewerID'):\n",
    "        n = group.shape[0]\n",
    "        test_n = int(n * test_size)\n",
    "        test_indices = np.random.choice(group.index, size=test_n, replace=False)\n",
    "        test_set.append(group.loc[test_indices])\n",
    "        train_set.append(group.drop(test_indices))\n",
    "        \n",
    "    train_set = pd.concat(train_set)\n",
    "    test_set = pd.concat(test_set)\n",
    "    \n",
    "    return train_set, test_set"
   ]
  },
  {
   "cell_type": "code",
   "execution_count": 14,
   "metadata": {},
   "outputs": [],
   "source": [
    "from sklearn.model_selection import train_test_split\n",
    "from torch.utils.data import Dataset, DataLoader \n",
    "import numpy as np\n",
    "\n",
    "# class for the dataset\n",
    "class AmazonReviewDataset(Dataset):\n",
    "    def __init__(self, user_ids, product_ids, ratings, users_text_data, products_text_data):\n",
    "        self.user_ids = user_ids\n",
    "        self.product_ids = product_ids\n",
    "        self.ratings = ratings\n",
    "        self.users_text_data = users_text_data\n",
    "        self.products_text_data = products_text_data\n",
    "        \n",
    "    def __len__(self):\n",
    "        return len(self.user_ids)\n",
    "\n",
    "    def __getitem__(self, index):\n",
    "        user_id = self.user_ids[index]\n",
    "        item_id = self.product_ids[index]\n",
    "        rating = self.ratings[index]\n",
    "        users_text_data = self.users_text_data[index]\n",
    "        products_text_data = self.products_text_data[index]\n",
    "        \n",
    "        return user_id, item_id, rating, users_text_data, products_text_data\n",
    "\n",
    "# Split the data into train and test sets\n",
    "# train_data, val_data = train_test_split_colab(df, test_size=0.2)\n",
    "train_data, val_data = train_test_split_colab(df, test_size=0.2)\n",
    "\n",
    "\n",
    "# Create train and test datasets\n",
    "train_dataset = AmazonReviewDataset(\n",
    "    train_data['user_index'].values,\n",
    "    train_data['item_index'].values,\n",
    "    train_data['overall'].values,\n",
    "    train_data['user_embs'].values,\n",
    "    train_data['product_embs'].values\n",
    "\n",
    ")\n",
    "\n",
    "test_dataset = AmazonReviewDataset(\n",
    "    val_data['user_index'].values,\n",
    "    val_data['item_index'].values,\n",
    "    val_data['overall'].values,\n",
    "    val_data['user_embs'].values,\n",
    "    train_data['product_embs'].values\n",
    ")"
   ]
  },
  {
   "cell_type": "markdown",
   "metadata": {},
   "source": [
    "### Quick model test with SVD from scikit-surprise"
   ]
  },
  {
   "cell_type": "markdown",
   "metadata": {},
   "source": [
    "Quick performance check of SVD by using scikit-surprise:"
   ]
  },
  {
   "cell_type": "code",
   "execution_count": 15,
   "metadata": {},
   "outputs": [
    {
     "name": "stdout",
     "output_type": "stream",
     "text": [
      "RMSE: 0.9300\n",
      "RMSE: 0.9356\n",
      "RMSE: 0.9327\n",
      "RMSE: 0.9313\n",
      "RMSE: 0.9323\n"
     ]
    }
   ],
   "source": [
    "from surprise import BaselineOnly, Dataset, SVD, Reader, accuracy, Trainset\n",
    "from surprise.model_selection import cross_validate, train_test_split, KFold\n",
    "\n",
    "# A reader is still needed but only the rating_scale param is requiered.\n",
    "reader = Reader(rating_scale=(1, 5))\n",
    "\n",
    "# The columns must correspond to user id, item id and ratings (in that order).\n",
    "data_test = Dataset.load_from_df(df[[\"reviewerID\", \"asin\", \"overall\"]], reader)\n",
    "\n",
    "# sample random trainset and testset\n",
    "# test set is made of 25% of the ratings.\n",
    "trainset, testset = train_test_split(data_test, test_size=0.25)\n",
    "\n",
    "# define a cross-validation iterator\n",
    "kf = KFold(n_splits=5)\n",
    "\n",
    "algo = SVD()\n",
    "\n",
    "for trainset, testset in kf.split(data_test):\n",
    "\n",
    "    # train and test algorithm.\n",
    "    algo.fit(trainset)\n",
    "    predictions = algo.test(testset)\n",
    "\n",
    "    # Compute and print Root Mean Squared Error\n",
    "    accuracy.rmse(predictions, verbose=True)"
   ]
  },
  {
   "cell_type": "code",
   "execution_count": 16,
   "metadata": {},
   "outputs": [],
   "source": [
    "user_id = 'A1HBTW5M7ZZ9PT'\n",
    "test_user = reviews_df[reviews_df['reviewerID'] == user_id]\n",
    "item_id = 'B00006IEI7'"
   ]
  },
  {
   "cell_type": "code",
   "execution_count": 17,
   "metadata": {},
   "outputs": [
    {
     "name": "stdout",
     "output_type": "stream",
     "text": [
      "user: A1HBTW5M7ZZ9PT item: B00006IEI7 r_ui = 5.00   est = 4.43   {'was_impossible': False}\n"
     ]
    }
   ],
   "source": [
    "# get a prediction for specific users and items.\n",
    "pred = algo.predict(user_id, item_id, r_ui=5, verbose=True)"
   ]
  },
  {
   "cell_type": "markdown",
   "metadata": {},
   "source": [
    "### Neural Collaborative Filtering"
   ]
  },
  {
   "cell_type": "code",
   "execution_count": 18,
   "metadata": {},
   "outputs": [
    {
     "ename": "SyntaxError",
     "evalue": "invalid syntax (3930242501.py, line 10)",
     "output_type": "error",
     "traceback": [
      "\u001b[0;36m  Cell \u001b[0;32mIn[18], line 10\u001b[0;36m\u001b[0m\n\u001b[0;31m    class NeuMF(nn.Module):class NeuMF(nn.Module):\u001b[0m\n\u001b[0m                           ^\u001b[0m\n\u001b[0;31mSyntaxError\u001b[0m\u001b[0;31m:\u001b[0m invalid syntax\n"
     ]
    }
   ],
   "source": [
    "import argparse\n",
    "import numpy as np\n",
    "import torch\n",
    "import torch.nn as nn\n",
    "import torch.optim as optim\n",
    "from time import time\n",
    "from evaluate import evaluate_model\n",
    "from Dataset import Dataset\n",
    "\n",
    "class NeuMF(nn.Module):class NeuMF(nn.Module):\n",
    "    def __init__(self, num_users, num_items, mf_dim, layers, reg_layers, reg_mf):\n",
    "        super(NeuMF, self).__init__()\n",
    "        self.num_users = num_users\n",
    "        self.num_items = num_items\n",
    "        self.mf_dim = mf_dim\n",
    "        self.layers = layers\n",
    "        self.num_layers = len(layers)\n",
    "        self.reg_layers = reg_layers\n",
    "        self.reg_mf = reg_mf\n",
    "        \n",
    "        self.mf_embedding_user = nn.Embedding(num_users, mf_dim)\n",
    "        self.mf_embedding_item = nn.Embedding(num_items, mf_dim)\n",
    "        \n",
    "        self.mlp_embedding_user = nn.Embedding(num_users, layers[0]//2)\n",
    "        self.mlp_embedding_item = nn.Embedding(num_items, layers[0]//2)\n",
    "        \n",
    "        self.mlp_layers = nn.ModuleList()\n",
    "        for i in range(1, self.num_layers):\n",
    "            self.mlp_layers.append(nn.Linear(layers[i-1], layers[i]))\n",
    "        \n",
    "        self.prediction_layer = nn.Linear(layers[-1] + mf_dim, 1)\n",
    "        \n",
    "    def forward(self, user_input, item_input, user_text_embeddings, item_text_embeddings):\n",
    "        mf_user_latent = self.mf_embedding_user(user_input)\n",
    "        mf_item_latent = self.mf_embedding_item(item_input)\n",
    "        mf_vector = mf_user_latent * mf_item_latent\n",
    "        \n",
    "        mlp_user_latent = self.mlp_embedding_user(user_input)\n",
    "        mlp_item_latent = self.mlp_embedding_item(item_input)\n",
    "        mlp_vector = torch.cat([mlp_user_latent, mlp_item_latent, user_text_embeddings, item_text_embeddings], dim=-1)\n",
    "        \n",
    "        for i in range(1, self.num_layers):\n",
    "            mlp_vector = self.mlp_layers[i-1](mlp_vector)\n",
    "            mlp_vector = nn.ReLU()(mlp_vector)\n",
    "        \n",
    "        predict_vector = torch.cat([mf_vector, mlp_vector], dim=-1)\n",
    "        prediction = self.prediction_layer(predict_vector)\n",
    "        return prediction.view(-1)\n",
    "    def __init__(self, num_users, num_items, mf_dim, layers, reg_layers, reg_mf):\n",
    "        super(NeuMF, self).__init__()\n",
    "        self.num_users = num_users\n",
    "        self.num_items = num_items\n",
    "        self.mf_dim = mf_dim\n",
    "        self.layers = layers\n",
    "        self.num_layers = len(layers)\n",
    "        self.reg_layers = reg_layers\n",
    "        self.reg_mf = reg_mf\n",
    "        \n",
    "        self.mf_embedding_user = nn.Embedding(num_users, mf_dim)\n",
    "        self.mf_embedding_item = nn.Embedding(num_items, mf_dim)\n",
    "        \n",
    "        self.mlp_embedding_user = nn.Embedding(num_users, layers[0]//2)\n",
    "        self.mlp_embedding_item = nn.Embedding(num_items, layers[0]//2)\n",
    "        \n",
    "        self.mlp_layers = nn.ModuleList()\n",
    "        for i in range(1, self.num_layers):\n",
    "            self.mlp_layers.append(nn.Linear(layers[i-1], layers[i]))\n",
    "        \n",
    "        self.prediction_layer = nn.Linear(layers[-1] + mf_dim, 1)\n",
    "        \n",
    "    def forward(self, user_input, item_input, user_text_embeddings, item_text_embeddings):\n",
    "        mf_user_latent = self.mf_embedding_user(user_input)\n",
    "        mf_item_latent = self.mf_embedding_item(item_input)\n",
    "        mf_vector = mf_user_latent * mf_item_latent\n",
    "        \n",
    "        mlp_user_latent = self.mlp_embedding_user(user_input)\n",
    "        mlp_item_latent = self.mlp_embedding_item(item_input)\n",
    "        mlp_vector = torch.cat([mlp_user_latent, mlp_item_latent, user_text_embeddings, item_text_embeddings], dim=-1)\n",
    "        \n",
    "        for i in range(1, self.num_layers):\n",
    "            mlp_vector = self.mlp_layers[i-1](mlp_vector)\n",
    "            mlp_vector = nn.ReLU()(mlp_vector)\n",
    "        \n",
    "        predict_vector = torch.cat([mf_vector, mlp_vector], dim=-1)\n",
    "        prediction = self.prediction_layer(predict_vector)\n",
    "        return prediction.view(-1)\n",
    "    \n",
    "def get_train_instances(train, num_negatives):\n",
    "    user_input, item_input, labels = [], [], []\n",
    "    num_users = train.shape[0]\n",
    "    for (u, i) in train.keys():\n",
    "        # positive instance\n",
    "        user_input.append(u)\n",
    "        item_input.append(i)\n",
    "        labels.append(1)\n",
    "        # negative instances\n",
    "        for _ in range(num_negatives):\n",
    "            j = np.random.randint(num_items)\n",
    "            while train.has_key((u, j)):\n",
    "                j = np.random.randint(num_items)\n",
    "            user_input.append(u)\n",
    "            item_input.append(j)\n",
    "            labels.append(0)\n",
    "    return user_input, item_input, labels\n",
    "\n",
    "if __name__ == '__main__':\n",
    "    args = parse_args()\n",
    "    num_epochs = args.epochs\n",
    "    batch_size = args.batch_size\n",
    "    mf_dim = args.num_factors\n",
    "    layers = eval(args.layers)\n",
    "    reg_mf = args.reg_mf\n",
    "    reg_layers = eval(args.reg_layers)\n",
    "    num_negatives = args.num_neg\n",
    "    learning_rate = args.lr\n",
    "    learner = args.learner\n",
    "    verbose = args.verbose\n",
    "    \n",
    "    topK = 10\n",
    "    print(\"NeuMF arguments: %s \" %(args))\n",
    "    model_out_file = 'Pretrain/%s_NeuMF_%d_%s_%d.pt' %(args.dataset, mf_dim, args.layers, time())\n",
    "    \n",
    "    # Loading data\n",
    "    t1 = time()\n",
    "    dataset = Dataset(args.path + args.dataset)\n",
    "    train, testRatings, testNegatives = dataset.trainMatrix, dataset.testRatings, dataset.testNegatives\n",
    "    num_users, num_items = train.shape\n",
    "    print(\"Load data done [%.1f s]. #user=%d, #item=%d, #train=%d, #test=%d\" \n",
    "          %(time()-t1, num_users, num_items, train.nnz, len(testRatings)))\n",
    "    \n",
    "    # Build model\n",
    "    model = NeuMF(num_users, num_items, mf_dim, layers, reg_layers, reg_mf)\n",
    "    if learner.lower() == \"adagrad\": \n",
    "        optimizer = optim.Adagrad(model.parameters(), lr=learning_rate)\n",
    "    elif learner.lower() == \"rmsprop\":\n",
    "        optimizer = optim.RMSprop(model.parameters(), lr=learning_rate)\n",
    "    elif learner.lower() == \"adam\":\n",
    "        optimizer = optim.Adam(model.parameters(), lr=learning_rate)\n",
    "    else:\n",
    "        optimizer = optim.SGD(model.parameters(), lr=learning_rate)\n",
    "    \n",
    "    criterion = nn.BCEWithLogitsLoss()\n",
    "    \n",
    "    # Check Init performance\n",
    "    (hits, ndcgs) = evaluate_model(model, testRatings, testNegatives, topK)\n",
    "    hr, ndcg = np.array(hits).mean(), np.array(ndcgs).mean()\n",
    "    print('Init: HR = %.4f, NDCG = %.4f' % (hr, ndcg))\n",
    "    best_hr, best_ndcg, best_iter = hr, ndcg, -1\n",
    "    if args.out > 0:\n",
    "        torch.save(model.state_dict(), model_out_file)\n",
    "    \n",
    "    # Training model\n",
    "    for epoch in range(num_epochs):\n",
    "        t1 = time()\n",
    "        # Generate training instances\n",
    "        user_input, item_input, labels = get_train_instances(train, num_negatives)\n",
    "        \n",
    "        # Training\n",
    "        model.train()\n",
    "        for i in range(0, len(user_input), batch_size):\n",
    "            batch_user_input = torch.LongTensor(user_input[i:i+batch_size])\n",
    "            batch_item_input = torch.LongTensor(item_input[i:i+batch_size])\n",
    "            batch_user_text_embeddings = torch.FloatTensor(dataset.user_text_embeddings[user_input[i:i+batch_size]])\n",
    "            batch_item_text_embeddings = torch.FloatTensor(dataset.item_text_embeddings[item_input[i:i+batch_size]])\n",
    "            batch_labels = torch.FloatTensor(labels[i:i+batch_size])\n",
    "            optimizer.zero_grad()\n",
    "            predictions = model(batch_user_input, batch_item_input, batch_user_text_embeddings, batch_item_text_embeddings)\n",
    "            loss = criterion(predictions, batch_labels)\n",
    "            loss.backward()\n",
    "            optimizer.step()\n",
    "        t2 = time()\n",
    "        \n",
    "        # Evaluation\n",
    "        if epoch % verbose == 0:\n",
    "            model.eval()\n",
    "            (hits, ndcgs) = evaluate_model(model, testRatings, testNegatives, topK)\n",
    "            hr, ndcg = np.array(hits).mean(), np.array(ndcgs).mean()\n",
    "            print('Iteration %d [%.1f s]: HR = %.4f, NDCG = %.4f, loss = %.4f [%.1f s]' \n",
    "                  % (epoch, t2-t1, hr, ndcg, loss.item(), time()-t2))\n",
    "            if hr > best_hr:\n",
    "                best_hr, best_ndcg, best_iter = hr, ndcg, epoch\n",
    "                if args.out > 0:\n",
    "                    torch.save(model.state_dict(), model_out_file)\n",
    "    \n",
    "    print(\"End. Best Iteration %d:  HR = %.4f, NDCG = %.4f. \" %(best_iter, best_hr, best_ndcg))\n",
    "    if args.out > 0:\n",
    "        print(\"The best NeuMF model is saved to %s\" %(model_out_file))"
   ]
  },
  {
   "cell_type": "code",
   "execution_count": 19,
   "metadata": {},
   "outputs": [],
   "source": [
    "from torch import nn\n",
    "\n",
    "class NeuMF(nn.Module):\n",
    "    def __init__(self, num_users, num_items, mf_dim, layers, reg_layers, reg_mf):\n",
    "        super(NeuMF, self).__init__()\n",
    "        self.num_users = num_users\n",
    "        self.num_items = num_items\n",
    "        self.mf_dim = mf_dim\n",
    "        self.layers = layers\n",
    "        self.num_layers = len(layers)\n",
    "        self.reg_layers = reg_layers\n",
    "        self.reg_mf = reg_mf\n",
    "        \n",
    "        self.mf_embedding_user = nn.Embedding(num_users, mf_dim)\n",
    "        self.mf_embedding_item = nn.Embedding(num_items, mf_dim)\n",
    "        \n",
    "        self.mlp_embedding_user = nn.Embedding(num_users, layers[0]//2)\n",
    "        self.mlp_embedding_item = nn.Embedding(num_items, layers[0]//2)\n",
    "        \n",
    "        self.mlp_layers = nn.ModuleList()\n",
    "        for i in range(1, self.num_layers):\n",
    "            self.mlp_layers.append(nn.Linear(layers[i-1], layers[i]))\n",
    "        \n",
    "        self.prediction_layer = nn.Linear(layers[-1] + mf_dim, 1)\n",
    "        \n",
    "    def forward(self, user_input, item_input, user_text_embeddings, item_text_embeddings):\n",
    "        mf_user_latent = self.mf_embedding_user(user_input)\n",
    "        mf_item_latent = self.mf_embedding_item(item_input)\n",
    "        mf_vector = mf_user_latent * mf_item_latent\n",
    "        \n",
    "        mlp_user_latent = self.mlp_embedding_user(user_input)\n",
    "        mlp_item_latent = self.mlp_embedding_item(item_input)\n",
    "        mlp_vector = torch.cat([mlp_user_latent, mlp_item_latent, user_text_embeddings, item_text_embeddings], dim=-1)\n",
    "        \n",
    "        for i in range(1, self.num_layers):\n",
    "            mlp_vector = self.mlp_layers[i-1](mlp_vector)\n",
    "            mlp_vector = nn.ReLU()(mlp_vector)\n",
    "        \n",
    "        predict_vector = torch.cat([mf_vector, mlp_vector], dim=-1)\n",
    "        prediction = self.prediction_layer(predict_vector)\n",
    "        return prediction.view(-1)\n",
    "\n",
    "class NCF(nn.Module):\n",
    "  def __init__(self, n_users, n_items, emb_dim, text_user_dim, text_item_dim, dropout_rate=0.2) -> None:\n",
    "    super(NCF, self).__init__()\n",
    "    self.min_rating = 1\n",
    "    self.max_rating = 5\n",
    "    self.n_users = n_users\n",
    "    self.n_items = n_items\n",
    "    self.emb_dim = emb_dim\n",
    "    \n",
    "    # GMF embeddings\n",
    "    self.user_embedding_gmf = nn.Embedding(n_users, emb_dim)\n",
    "    self.item_embedding_gmf = nn.Embedding(n_items, emb_dim)\n",
    "    \n",
    "    # MLP embeddings\n",
    "    self.user_embedding_mlp = nn.Embedding(n_users, 2048 // 2)\n",
    "    self.item_embedding_mlp = nn.Embedding(n_items, 2048 // 2)\n",
    "    \n",
    "    # text embeddings\n",
    "    self.user_text_layer = nn.Linear(text_user_dim, text_user_dim)\n",
    "    self.item_text_layer = nn.Linear(text_item_dim, text_item_dim)\n",
    "    \n",
    "    # MLP layers\n",
    "    self.fc_layers = nn.Sequential(\n",
    "      nn.Linear(800, 1024),\n",
    "      nn.ReLU(),\n",
    "      nn.Dropout(p=dropout_rate),\n",
    "      nn.BatchNorm1d(1024),\n",
    "      \n",
    "      nn.Linear(1024, 512),\n",
    "      nn.ReLU(),\n",
    "      nn.Dropout(p=dropout_rate),\n",
    "      nn.BatchNorm1d(512),\n",
    "      \n",
    "      nn.Linear(512, 256),\n",
    "      nn.ReLU(),\n",
    "      nn.Dropout(p=dropout_rate),\n",
    "      nn.BatchNorm1d(256),\n",
    "      \n",
    "      nn.Linear(256, 128),\n",
    "      nn.ReLU(),\n",
    "      nn.Dropout(p=dropout_rate),\n",
    "      nn.BatchNorm1d(128),\n",
    "      \n",
    "      nn.Linear(128, 64),\n",
    "      nn.ReLU()\n",
    "    )\n",
    "    \n",
    "    # Output layertorch.mul(user_gmf, item_gmf)\n",
    "    self.output_layer = nn.Linear(emb_dim + 64, 1)\n",
    "    \n",
    "    # Initialize weights\n",
    "    self._init_embs_weight_()\n",
    "        \n",
    "  def _init_embs_weight_(self):\n",
    "    nn.init.normal_(self.user_embedding_gmf.weight, std=0.01)\n",
    "    nn.init.normal_(self.item_embedding_gmf.weight, std=0.01)\n",
    "    nn.init.normal_(self.user_embedding_mlp.weight, std=0.01)\n",
    "    nn.init.normal_(self.item_embedding_mlp.weight, std=0.01)\n",
    "    \n",
    "  def forward(self, user_ids, item_ids, user_texts, item_texts):\n",
    "    # GMF part\n",
    "    user_gmf = self.user_embedding_gmf(user_ids)\n",
    "    item_gmf = self.item_embedding_gmf(item_ids)\n",
    "    gmf_output = user_gmf * item_gmf\n",
    "    \n",
    "    # MLP part\n",
    "    user_mlp = self.user_embedding_mlp(user_ids)\n",
    "    item_mlp = self.item_embedding_mlp(item_ids)\n",
    "    user_text_mlp = self.user_text_layer(user_texts)\n",
    "    item_text_mlp = self.item_text_layer(item_texts)\n",
    "    mlp_input = torch.cat([user_mlp, item_mlp, user_text_mlp, item_text_mlp], dim=1)\n",
    "    mlp_output = self.fc_layers(mlp_input)\n",
    "    \n",
    "    # Concatenate GMF and MLP output\n",
    "    output = self.output_layer(torch.cat([gmf_output, mlp_output], dim=1))\n",
    "    output = output * (self.max_rating - self.min_rating) + self.min_rating\n",
    "    return output"
   ]
  },
  {
   "cell_type": "markdown",
   "metadata": {},
   "source": [
    "#### Training and evaluating - related functions"
   ]
  },
  {
   "cell_type": "code",
   "execution_count": 20,
   "metadata": {},
   "outputs": [],
   "source": [
    "# Train the NCF model\n",
    "from sklearn.metrics import mean_absolute_error, mean_squared_error\n",
    "from tqdm import tqdm\n",
    "from torch import nn\n",
    "\n",
    "class RMSELoss(nn.Module):\n",
    "    def __init__(self, eps=1e-6):\n",
    "        super().__init__()\n",
    "        self.mse = nn.MSELoss()\n",
    "        self.eps = eps\n",
    "        \n",
    "    def forward(self,yhat,y):\n",
    "        loss = torch.sqrt(self.mse(yhat,y) + self.eps)\n",
    "        return loss\n",
    "\n",
    "def train_model(model: NCF, train_data: AmazonReviewDataset, val_data: AmazonReviewDataset, loss_func, optimizer, device, num_epochs):\n",
    "    train_loss_history = []\n",
    "    valid_loss_history = []\n",
    "    precision_at_k_history = []\n",
    "    \n",
    "    model.to(device)\n",
    "    scheduler = torch.optim.lr_scheduler.StepLR(optimizer, step_size=5, gamma=0.1)\n",
    "    for epoch in range(num_epochs):\n",
    "        model.train()\n",
    "        train_loss_sum = 0\n",
    "\n",
    "        # For each batch\n",
    "        for user_ids, item_ids, rating, u_text_embeds, p_text_embeds in tqdm(train_data, desc='Training...'):\n",
    "            user_ids, item_ids, rating = user_ids.to(device), item_ids.to(device), rating.to(device)\n",
    "            u_text_embeds, p_text_embeds = u_text_embeds.to(device), p_text_embeds.to(device)\n",
    "            \n",
    "            optimizer.zero_grad()\n",
    "            outputs = model(user_ids, item_ids, u_text_embeds, p_text_embeds)\n",
    "            loss = loss_func(outputs.squeeze(), rating.float())\n",
    "            loss.backward()\n",
    "            optimizer.step()\n",
    "            \n",
    "            train_loss_sum += loss.item()\n",
    "\n",
    "        model.eval()\n",
    "        scheduler.step()\n",
    "        val_loss, _, _ = predict_and_evaluate(model, val_data, loss_func, device)\n",
    "                \n",
    "        # for both training and validation, the actual train loss\n",
    "        # is the average loss over the entire dataset (the multiple batches)\n",
    "        train_loss = np.sqrt(train_loss_sum / len(train_data))\n",
    "        train_loss_history.append(train_loss)\n",
    "        valid_loss_history.append(val_loss)\n",
    "        \n",
    "        # precision@k\n",
    "        p_at_k = precision_at_k(model, val_data, 10)\n",
    "        precision_at_k_history.append(p_at_k)\n",
    "        \n",
    "        print(f'Epoch {epoch+1}: train loss = {train_loss:.4f}, val loss = {val_loss:.4f}, HR@k = {p_at_k:.4f}')\n",
    "    \n",
    "    return train_loss_history, valid_loss_history\n",
    "        \n",
    "# Evaluate the NCF model\n",
    "def predict_and_evaluate(model, data, loss_func, device):\n",
    "    predictions = []\n",
    "    true_ratings = []\n",
    "    loss_sum = 0.0\n",
    "    \n",
    "    with torch.no_grad():\n",
    "        for user_ids, item_ids, rating, u_text_embeds, p_text_embeds in tqdm(data, desc='Evaluating...'):\n",
    "            user_ids = user_ids.to(device)\n",
    "            item_ids = item_ids.to(device)\n",
    "            u_text_embeds = u_text_embeds.to(device)\n",
    "            p_text_embeds = p_text_embeds.to(device)\n",
    "            \n",
    "            outputs = model(user_ids, item_ids, u_text_embeds, p_text_embeds)\n",
    "            predictions.extend(outputs.squeeze().tolist())\n",
    "            true_ratings.extend(rating.tolist())\n",
    "            \n",
    "            loss_sum += loss_func(outputs.squeeze(), rating.float()).item()\n",
    "\n",
    "    rmse = np.sqrt(loss_sum / len(data))\n",
    "    mse = mean_squared_error(true_ratings, predictions)\n",
    "    mae = mean_absolute_error(true_ratings, predictions)\n",
    "    return rmse, mse, mae\n",
    "  \n",
    "def precision_at_k(model, test_dataset, k):\n",
    "    model.eval()\n",
    "    \n",
    "    precision_sum = 0.0\n",
    "    total_users = 0\n",
    "    \n",
    "    with torch.no_grad():\n",
    "        for user_ids, item_ids, rating, u_text_embeds, p_text_embeds in test_dataset:\n",
    "            # Get the predicted scores for all items\n",
    "            user_ids = user_ids.to(device)\n",
    "            item_ids = item_ids.to(device)\n",
    "            u_text_embeds = u_text_embeds.to(device)\n",
    "            p_text_embeds = p_text_embeds.to(device)\n",
    "            \n",
    "            scores = model(user_ids, item_ids, u_text_embeds, p_text_embeds)\n",
    "            \n",
    "            # Get the indices of the top K items\n",
    "            _, indices = torch.topk(scores.squeeze(), k)\n",
    "            \n",
    "            # Check how many of the top K items are relevant\n",
    "            relevant_count = 0\n",
    "            for item in item_ids:\n",
    "                if item in indices:\n",
    "                    relevant_count += 1\n",
    "            \n",
    "            # Calculate Precision@K for the current user\n",
    "            precision = relevant_count / k\n",
    "            \n",
    "            precision_sum += precision\n",
    "            total_users += 1\n",
    "    \n",
    "    # Calculate average Precision@K across all users\n",
    "    average_precision = precision_sum / total_users\n",
    "    \n",
    "    return average_precision"
   ]
  },
  {
   "cell_type": "markdown",
   "metadata": {},
   "source": [
    "#### Model training"
   ]
  },
  {
   "cell_type": "code",
   "execution_count": 21,
   "metadata": {},
   "outputs": [
    {
     "name": "stdout",
     "output_type": "stream",
     "text": [
      "Loss criterion: RMSE\n",
      "\n"
     ]
    },
    {
     "name": "stderr",
     "output_type": "stream",
     "text": [
      "Training...:   0%|          | 0/278 [00:00<?, ?it/s]\n"
     ]
    },
    {
     "ename": "RuntimeError",
     "evalue": "mat1 and mat2 shapes cannot be multiplied (2048x200 and 768x768)",
     "output_type": "error",
     "traceback": [
      "\u001b[0;31m---------------------------------------------------------------------------\u001b[0m",
      "\u001b[0;31mRuntimeError\u001b[0m                              Traceback (most recent call last)",
      "Cell \u001b[0;32mIn[21], line 27\u001b[0m\n\u001b[1;32m     25\u001b[0m num_epochs \u001b[38;5;241m=\u001b[39m \u001b[38;5;241m10\u001b[39m\n\u001b[1;32m     26\u001b[0m \u001b[38;5;28mprint\u001b[39m(\u001b[38;5;124m'\u001b[39m\u001b[38;5;124mLoss criterion: RMSE\u001b[39m\u001b[38;5;130;01m\\n\u001b[39;00m\u001b[38;5;124m'\u001b[39m)\n\u001b[0;32m---> 27\u001b[0m train_loss_history, val_loss_history \u001b[38;5;241m=\u001b[39m \u001b[43mtrain_model\u001b[49m\u001b[43m(\u001b[49m\u001b[43mmodel\u001b[49m\u001b[43m,\u001b[49m\u001b[43m \u001b[49m\u001b[43mtrain_loader\u001b[49m\u001b[43m,\u001b[49m\u001b[43m \u001b[49m\u001b[43mtest_loader\u001b[49m\u001b[43m,\u001b[49m\u001b[43m \u001b[49m\u001b[43mloss_func\u001b[49m\u001b[43m,\u001b[49m\u001b[43m \u001b[49m\u001b[43moptimizer\u001b[49m\u001b[43m,\u001b[49m\u001b[43m \u001b[49m\u001b[43mdevice\u001b[49m\u001b[43m,\u001b[49m\u001b[43m \u001b[49m\u001b[43mnum_epochs\u001b[49m\u001b[43m)\u001b[49m\n",
      "Cell \u001b[0;32mIn[20], line 33\u001b[0m, in \u001b[0;36mtrain_model\u001b[0;34m(model, train_data, val_data, loss_func, optimizer, device, num_epochs)\u001b[0m\n\u001b[1;32m     30\u001b[0m u_text_embeds, p_text_embeds \u001b[38;5;241m=\u001b[39m u_text_embeds\u001b[38;5;241m.\u001b[39mto(device), p_text_embeds\u001b[38;5;241m.\u001b[39mto(device)\n\u001b[1;32m     32\u001b[0m optimizer\u001b[38;5;241m.\u001b[39mzero_grad()\n\u001b[0;32m---> 33\u001b[0m outputs \u001b[38;5;241m=\u001b[39m \u001b[43mmodel\u001b[49m\u001b[43m(\u001b[49m\u001b[43muser_ids\u001b[49m\u001b[43m,\u001b[49m\u001b[43m \u001b[49m\u001b[43mitem_ids\u001b[49m\u001b[43m,\u001b[49m\u001b[43m \u001b[49m\u001b[43mu_text_embeds\u001b[49m\u001b[43m,\u001b[49m\u001b[43m \u001b[49m\u001b[43mp_text_embeds\u001b[49m\u001b[43m)\u001b[49m\n\u001b[1;32m     34\u001b[0m loss \u001b[38;5;241m=\u001b[39m loss_func(outputs\u001b[38;5;241m.\u001b[39msqueeze(), rating\u001b[38;5;241m.\u001b[39mfloat())\n\u001b[1;32m     35\u001b[0m loss\u001b[38;5;241m.\u001b[39mbackward()\n",
      "File \u001b[0;32m~/mambaforge/envs/design-ai/lib/python3.12/site-packages/torch/nn/modules/module.py:1511\u001b[0m, in \u001b[0;36mModule._wrapped_call_impl\u001b[0;34m(self, *args, **kwargs)\u001b[0m\n\u001b[1;32m   1509\u001b[0m     \u001b[38;5;28;01mreturn\u001b[39;00m \u001b[38;5;28mself\u001b[39m\u001b[38;5;241m.\u001b[39m_compiled_call_impl(\u001b[38;5;241m*\u001b[39margs, \u001b[38;5;241m*\u001b[39m\u001b[38;5;241m*\u001b[39mkwargs)  \u001b[38;5;66;03m# type: ignore[misc]\u001b[39;00m\n\u001b[1;32m   1510\u001b[0m \u001b[38;5;28;01melse\u001b[39;00m:\n\u001b[0;32m-> 1511\u001b[0m     \u001b[38;5;28;01mreturn\u001b[39;00m \u001b[38;5;28;43mself\u001b[39;49m\u001b[38;5;241;43m.\u001b[39;49m\u001b[43m_call_impl\u001b[49m\u001b[43m(\u001b[49m\u001b[38;5;241;43m*\u001b[39;49m\u001b[43margs\u001b[49m\u001b[43m,\u001b[49m\u001b[43m \u001b[49m\u001b[38;5;241;43m*\u001b[39;49m\u001b[38;5;241;43m*\u001b[39;49m\u001b[43mkwargs\u001b[49m\u001b[43m)\u001b[49m\n",
      "File \u001b[0;32m~/mambaforge/envs/design-ai/lib/python3.12/site-packages/torch/nn/modules/module.py:1520\u001b[0m, in \u001b[0;36mModule._call_impl\u001b[0;34m(self, *args, **kwargs)\u001b[0m\n\u001b[1;32m   1515\u001b[0m \u001b[38;5;66;03m# If we don't have any hooks, we want to skip the rest of the logic in\u001b[39;00m\n\u001b[1;32m   1516\u001b[0m \u001b[38;5;66;03m# this function, and just call forward.\u001b[39;00m\n\u001b[1;32m   1517\u001b[0m \u001b[38;5;28;01mif\u001b[39;00m \u001b[38;5;129;01mnot\u001b[39;00m (\u001b[38;5;28mself\u001b[39m\u001b[38;5;241m.\u001b[39m_backward_hooks \u001b[38;5;129;01mor\u001b[39;00m \u001b[38;5;28mself\u001b[39m\u001b[38;5;241m.\u001b[39m_backward_pre_hooks \u001b[38;5;129;01mor\u001b[39;00m \u001b[38;5;28mself\u001b[39m\u001b[38;5;241m.\u001b[39m_forward_hooks \u001b[38;5;129;01mor\u001b[39;00m \u001b[38;5;28mself\u001b[39m\u001b[38;5;241m.\u001b[39m_forward_pre_hooks\n\u001b[1;32m   1518\u001b[0m         \u001b[38;5;129;01mor\u001b[39;00m _global_backward_pre_hooks \u001b[38;5;129;01mor\u001b[39;00m _global_backward_hooks\n\u001b[1;32m   1519\u001b[0m         \u001b[38;5;129;01mor\u001b[39;00m _global_forward_hooks \u001b[38;5;129;01mor\u001b[39;00m _global_forward_pre_hooks):\n\u001b[0;32m-> 1520\u001b[0m     \u001b[38;5;28;01mreturn\u001b[39;00m \u001b[43mforward_call\u001b[49m\u001b[43m(\u001b[49m\u001b[38;5;241;43m*\u001b[39;49m\u001b[43margs\u001b[49m\u001b[43m,\u001b[49m\u001b[43m \u001b[49m\u001b[38;5;241;43m*\u001b[39;49m\u001b[38;5;241;43m*\u001b[39;49m\u001b[43mkwargs\u001b[49m\u001b[43m)\u001b[49m\n\u001b[1;32m   1522\u001b[0m \u001b[38;5;28;01mtry\u001b[39;00m:\n\u001b[1;32m   1523\u001b[0m     result \u001b[38;5;241m=\u001b[39m \u001b[38;5;28;01mNone\u001b[39;00m\n",
      "Cell \u001b[0;32mIn[19], line 111\u001b[0m, in \u001b[0;36mNCF.forward\u001b[0;34m(self, user_ids, item_ids, user_texts, item_texts)\u001b[0m\n\u001b[1;32m    109\u001b[0m user_mlp \u001b[38;5;241m=\u001b[39m \u001b[38;5;28mself\u001b[39m\u001b[38;5;241m.\u001b[39muser_embedding_mlp(user_ids)\n\u001b[1;32m    110\u001b[0m item_mlp \u001b[38;5;241m=\u001b[39m \u001b[38;5;28mself\u001b[39m\u001b[38;5;241m.\u001b[39mitem_embedding_mlp(item_ids)\n\u001b[0;32m--> 111\u001b[0m user_text_mlp \u001b[38;5;241m=\u001b[39m \u001b[38;5;28;43mself\u001b[39;49m\u001b[38;5;241;43m.\u001b[39;49m\u001b[43muser_text_layer\u001b[49m\u001b[43m(\u001b[49m\u001b[43muser_texts\u001b[49m\u001b[43m)\u001b[49m\n\u001b[1;32m    112\u001b[0m item_text_mlp \u001b[38;5;241m=\u001b[39m \u001b[38;5;28mself\u001b[39m\u001b[38;5;241m.\u001b[39mitem_text_layer(item_texts)\n\u001b[1;32m    113\u001b[0m mlp_input \u001b[38;5;241m=\u001b[39m torch\u001b[38;5;241m.\u001b[39mcat([user_mlp, item_mlp, user_text_mlp, item_text_mlp], dim\u001b[38;5;241m=\u001b[39m\u001b[38;5;241m1\u001b[39m)\n",
      "File \u001b[0;32m~/mambaforge/envs/design-ai/lib/python3.12/site-packages/torch/nn/modules/module.py:1511\u001b[0m, in \u001b[0;36mModule._wrapped_call_impl\u001b[0;34m(self, *args, **kwargs)\u001b[0m\n\u001b[1;32m   1509\u001b[0m     \u001b[38;5;28;01mreturn\u001b[39;00m \u001b[38;5;28mself\u001b[39m\u001b[38;5;241m.\u001b[39m_compiled_call_impl(\u001b[38;5;241m*\u001b[39margs, \u001b[38;5;241m*\u001b[39m\u001b[38;5;241m*\u001b[39mkwargs)  \u001b[38;5;66;03m# type: ignore[misc]\u001b[39;00m\n\u001b[1;32m   1510\u001b[0m \u001b[38;5;28;01melse\u001b[39;00m:\n\u001b[0;32m-> 1511\u001b[0m     \u001b[38;5;28;01mreturn\u001b[39;00m \u001b[38;5;28;43mself\u001b[39;49m\u001b[38;5;241;43m.\u001b[39;49m\u001b[43m_call_impl\u001b[49m\u001b[43m(\u001b[49m\u001b[38;5;241;43m*\u001b[39;49m\u001b[43margs\u001b[49m\u001b[43m,\u001b[49m\u001b[43m \u001b[49m\u001b[38;5;241;43m*\u001b[39;49m\u001b[38;5;241;43m*\u001b[39;49m\u001b[43mkwargs\u001b[49m\u001b[43m)\u001b[49m\n",
      "File \u001b[0;32m~/mambaforge/envs/design-ai/lib/python3.12/site-packages/torch/nn/modules/module.py:1520\u001b[0m, in \u001b[0;36mModule._call_impl\u001b[0;34m(self, *args, **kwargs)\u001b[0m\n\u001b[1;32m   1515\u001b[0m \u001b[38;5;66;03m# If we don't have any hooks, we want to skip the rest of the logic in\u001b[39;00m\n\u001b[1;32m   1516\u001b[0m \u001b[38;5;66;03m# this function, and just call forward.\u001b[39;00m\n\u001b[1;32m   1517\u001b[0m \u001b[38;5;28;01mif\u001b[39;00m \u001b[38;5;129;01mnot\u001b[39;00m (\u001b[38;5;28mself\u001b[39m\u001b[38;5;241m.\u001b[39m_backward_hooks \u001b[38;5;129;01mor\u001b[39;00m \u001b[38;5;28mself\u001b[39m\u001b[38;5;241m.\u001b[39m_backward_pre_hooks \u001b[38;5;129;01mor\u001b[39;00m \u001b[38;5;28mself\u001b[39m\u001b[38;5;241m.\u001b[39m_forward_hooks \u001b[38;5;129;01mor\u001b[39;00m \u001b[38;5;28mself\u001b[39m\u001b[38;5;241m.\u001b[39m_forward_pre_hooks\n\u001b[1;32m   1518\u001b[0m         \u001b[38;5;129;01mor\u001b[39;00m _global_backward_pre_hooks \u001b[38;5;129;01mor\u001b[39;00m _global_backward_hooks\n\u001b[1;32m   1519\u001b[0m         \u001b[38;5;129;01mor\u001b[39;00m _global_forward_hooks \u001b[38;5;129;01mor\u001b[39;00m _global_forward_pre_hooks):\n\u001b[0;32m-> 1520\u001b[0m     \u001b[38;5;28;01mreturn\u001b[39;00m \u001b[43mforward_call\u001b[49m\u001b[43m(\u001b[49m\u001b[38;5;241;43m*\u001b[39;49m\u001b[43margs\u001b[49m\u001b[43m,\u001b[49m\u001b[43m \u001b[49m\u001b[38;5;241;43m*\u001b[39;49m\u001b[38;5;241;43m*\u001b[39;49m\u001b[43mkwargs\u001b[49m\u001b[43m)\u001b[49m\n\u001b[1;32m   1522\u001b[0m \u001b[38;5;28;01mtry\u001b[39;00m:\n\u001b[1;32m   1523\u001b[0m     result \u001b[38;5;241m=\u001b[39m \u001b[38;5;28;01mNone\u001b[39;00m\n",
      "File \u001b[0;32m~/mambaforge/envs/design-ai/lib/python3.12/site-packages/torch/nn/modules/linear.py:116\u001b[0m, in \u001b[0;36mLinear.forward\u001b[0;34m(self, input)\u001b[0m\n\u001b[1;32m    115\u001b[0m \u001b[38;5;28;01mdef\u001b[39;00m \u001b[38;5;21mforward\u001b[39m(\u001b[38;5;28mself\u001b[39m, \u001b[38;5;28minput\u001b[39m: Tensor) \u001b[38;5;241m-\u001b[39m\u001b[38;5;241m>\u001b[39m Tensor:\n\u001b[0;32m--> 116\u001b[0m     \u001b[38;5;28;01mreturn\u001b[39;00m \u001b[43mF\u001b[49m\u001b[38;5;241;43m.\u001b[39;49m\u001b[43mlinear\u001b[49m\u001b[43m(\u001b[49m\u001b[38;5;28;43minput\u001b[39;49m\u001b[43m,\u001b[49m\u001b[43m \u001b[49m\u001b[38;5;28;43mself\u001b[39;49m\u001b[38;5;241;43m.\u001b[39;49m\u001b[43mweight\u001b[49m\u001b[43m,\u001b[49m\u001b[43m \u001b[49m\u001b[38;5;28;43mself\u001b[39;49m\u001b[38;5;241;43m.\u001b[39;49m\u001b[43mbias\u001b[49m\u001b[43m)\u001b[49m\n",
      "\u001b[0;31mRuntimeError\u001b[0m: mat1 and mat2 shapes cannot be multiplied (2048x200 and 768x768)"
     ]
    }
   ],
   "source": [
    "import torch.optim as optim\n",
    "import torch.nn as nn\n",
    "\n",
    "# Create data loaders\n",
    "train_loader = DataLoader(train_dataset, batch_size=2048, shuffle=True)\n",
    "test_loader = DataLoader(test_dataset, batch_size=2048, shuffle=False)\n",
    "\n",
    "# Create the NCF model\n",
    "num_users = len(user_id_map)\n",
    "num_items = len(product_id_map)\n",
    "emb_dim = 768\n",
    "droput_rate_fc = 0\n",
    "text_embedding_dims = [emb.shape[1] for emb in [reviews_text_embs, products_text_embs]]\n",
    "\n",
    "model = NCF(\n",
    "  num_users, num_items, emb_dim, 768, 768, droput_rate_fc).to(device)\n",
    "\n",
    "# Define loss function and optimizer\n",
    "loss_func = RMSELoss()\n",
    "# criterion = nn.MSELoss()\n",
    "optimizer = optim.Adam(model.parameters(), lr=0.001)\n",
    "\n",
    "\n",
    "# Train the model\n",
    "num_epochs = 10\n",
    "print('Loss criterion: RMSE\\n')\n",
    "train_loss_history, val_loss_history = train_model(model, train_loader, test_loader, loss_func, optimizer, device, num_epochs)"
   ]
  },
  {
   "cell_type": "code",
   "execution_count": null,
   "metadata": {},
   "outputs": [
    {
     "data": {
      "image/png": "[encoded data removed]",
      "text/plain": [
       "<Figure size 1000x600 with 1 Axes>"
      ]
     },
     "metadata": {},
     "output_type": "display_data"
    }
   ],
   "source": [
    "def plot_accuracy(train_acc_history, val_acc_history, loss_name='RMSE'):\n",
    "  df = pd.DataFrame({'Epoch': range(1, len(train_acc_history)+1),\n",
    "             'Train Accuracy': train_acc_history, \n",
    "             'Validation Accuracy': val_acc_history})\n",
    "\n",
    "  plt.figure(figsize=(10, 6))\n",
    "  sns.lineplot(data=df, x='Epoch', y='Train Accuracy', label=f'Train loss ({loss_name})')\n",
    "  sns.lineplot(data=df, x='Epoch', y='Validation Accuracy', label=f'Validation loss ({loss_name})')\n",
    "  plt.xlabel('Epoch')\n",
    "  plt.ylabel(loss_name)\n",
    "  plt.title(f'Training and Validation loss {loss_name}')\n",
    "  plt.legend()\n",
    "  plt.show()\n",
    "  \n",
    "plot_accuracy(train_loss_history, val_loss_history, 'RMSE')"
   ]
  },
  {
   "cell_type": "markdown",
   "metadata": {},
   "source": [
    "#### Model test with single predictions"
   ]
  },
  {
   "cell_type": "code",
   "execution_count": null,
   "metadata": {},
   "outputs": [
    {
     "ename": "NameError",
     "evalue": "name 'user_mapping' is not defined",
     "output_type": "error",
     "traceback": [
      "\u001b[0;31m---------------------------------------------------------------------------\u001b[0m",
      "\u001b[0;31mNameError\u001b[0m                                 Traceback (most recent call last)",
      "Cell \u001b[0;32mIn[28], line 17\u001b[0m\n\u001b[1;32m     13\u001b[0m         score \u001b[38;5;241m=\u001b[39m model(user_tensor, item_tensor)\u001b[38;5;241m.\u001b[39mitem()\n\u001b[1;32m     15\u001b[0m     \u001b[38;5;28;01mreturn\u001b[39;00m score\n\u001b[0;32m---> 17\u001b[0m \u001b[38;5;28mprint\u001b[39m(\u001b[38;5;124mf\u001b[39m\u001b[38;5;124m'\u001b[39m\u001b[38;5;124mPredicted rating for user \u001b[39m\u001b[38;5;132;01m{\u001b[39;00muser_id\u001b[38;5;132;01m}\u001b[39;00m\u001b[38;5;124m and item \u001b[39m\u001b[38;5;132;01m{\u001b[39;00mitem_id\u001b[38;5;132;01m}\u001b[39;00m\u001b[38;5;124m: \u001b[39m\u001b[38;5;132;01m{\u001b[39;00mpredict_score(user_id,\u001b[38;5;250m \u001b[39m\u001b[38;5;124m'\u001b[39m\u001b[38;5;124mB0006HXE1E\u001b[39m\u001b[38;5;124m'\u001b[39m,\u001b[38;5;250m \u001b[39mmodel,\u001b[38;5;250m \u001b[39m\u001b[43muser_mapping\u001b[49m,\u001b[38;5;250m \u001b[39mproduct_mapping,\u001b[38;5;250m \u001b[39mdevice)\u001b[38;5;132;01m}\u001b[39;00m\u001b[38;5;124m'\u001b[39m)\n\u001b[1;32m     18\u001b[0m \u001b[38;5;66;03m# print(f'Actual rating: {user_product_matrix.loc[user_id, item_id]}')\u001b[39;00m\n",
      "\u001b[0;31mNameError\u001b[0m: name 'user_mapping' is not defined"
     ]
    }
   ],
   "source": [
    "def predict_score(user_id, item_id, model, user_mapping, item_mapping, device):\n",
    "    # Convert user ID and item ID to their corresponding indices\n",
    "    user_index = user_mapping[user_id]\n",
    "    item_index = item_mapping[item_id]\n",
    "\n",
    "    # Convert indices to tensors\n",
    "    user_tensor = torch.tensor([user_index], dtype=torch.long).to(device)\n",
    "    item_tensor = torch.tensor([item_index], dtype=torch.long).to(device)\n",
    "\n",
    "    # Get the predicted score from the model\n",
    "    with torch.no_grad():\n",
    "        model.eval()\n",
    "        score = model(user_tensor, item_tensor).item()\n",
    "\n",
    "    return score\n",
    "\n",
    "print(f'Predicted rating for user {user_id} and item {item_id}: {predict_score(user_id, 'B0006HXE1E', model, user_mapping, product_mapping, device)}')\n",
    "# print(f'Actual rating: {user_product_matrix.loc[user_id, item_id]}')"
   ]
  },
  {
   "cell_type": "code",
   "execution_count": null,
   "metadata": {},
   "outputs": [],
   "source": [
    "unreviewed_products_df.head(2)"
   ]
  }
 ],
 "metadata": {
  "kernelspec": {
   "display_name": "design-ai",
   "language": "python",
   "name": "python3"
  },
  "language_info": {
   "codemirror_mode": {
    "name": "ipython",
    "version": 3
   },
   "file_extension": ".py",
   "mimetype": "text/x-python",
   "name": "python",
   "nbconvert_exporter": "python",
   "pygments_lexer": "ipython3",
   "version": "3.12.2"
  }
 },
 "nbformat": 4,
 "nbformat_minor": 2
}
