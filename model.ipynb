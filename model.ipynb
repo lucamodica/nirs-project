{
 "cells": [
  {
   "cell_type": "markdown",
   "metadata": {},
   "source": [
    "# NIRS (model)"
   ]
  },
  {
   "cell_type": "code",
   "execution_count": 33,
   "metadata": {},
   "outputs": [],
   "source": [
    "import utils as utils\n",
    "import torch\n",
    "import numpy as np\n",
    "import pandas as pd\n",
    "import icecream as ic\n",
    "\n",
    "utils.seed_everything(42)"
   ]
  },
  {
   "cell_type": "markdown",
   "metadata": {},
   "source": [
    "## Init"
   ]
  },
  {
   "cell_type": "code",
   "execution_count": 34,
   "metadata": {},
   "outputs": [],
   "source": [
    "# Set device\n",
    "device = torch.device('cuda' if torch.cuda.is_available() else 'cpu')"
   ]
  },
  {
   "cell_type": "code",
   "execution_count": 35,
   "metadata": {},
   "outputs": [],
   "source": [
    "reviews_df = pd.read_csv('data/reviews_sampled_processed.csv')\n",
    "products_df = pd.read_csv('data/products_sampled_processed.csv')"
   ]
  },
  {
   "cell_type": "code",
   "execution_count": 36,
   "metadata": {},
   "outputs": [],
   "source": [
    "# remove duplicates\n",
    "products_df = products_df.drop_duplicates(subset='asin', keep='first')"
   ]
  },
  {
   "cell_type": "code",
   "execution_count": 37,
   "metadata": {},
   "outputs": [
    {
     "name": "stdout",
     "output_type": "stream",
     "text": [
      "Reviews df shape: (34839, 7)\n",
      "Products df shape: (25775, 8)\n"
     ]
    }
   ],
   "source": [
    "utils.print_shapes(reviews_df, products_df)"
   ]
  },
  {
   "cell_type": "code",
   "execution_count": 38,
   "metadata": {},
   "outputs": [
    {
     "name": "stdout",
     "output_type": "stream",
     "text": [
      "Number of unique products: 25775\n",
      "Number of unique users: 999\n"
     ]
    }
   ],
   "source": [
    "print(f'Number of unique products: {products_df[\"asin\"].nunique()}')\n",
    "print(f'Number of unique users: {reviews_df[\"reviewerID\"].nunique()}')"
   ]
  },
  {
   "cell_type": "code",
   "execution_count": 39,
   "metadata": {},
   "outputs": [
    {
     "data": {
      "text/html": [
       "<div>\n",
       "<style scoped>\n",
       "    .dataframe tbody tr th:only-of-type {\n",
       "        vertical-align: middle;\n",
       "    }\n",
       "\n",
       "    .dataframe tbody tr th {\n",
       "        vertical-align: top;\n",
       "    }\n",
       "\n",
       "    .dataframe thead th {\n",
       "        text-align: right;\n",
       "    }\n",
       "</style>\n",
       "<table border=\"1\" class=\"dataframe\">\n",
       "  <thead>\n",
       "    <tr style=\"text-align: right;\">\n",
       "      <th></th>\n",
       "      <th>overall</th>\n",
       "      <th>reviewTime</th>\n",
       "      <th>reviewerID</th>\n",
       "      <th>asin</th>\n",
       "      <th>reviewerName</th>\n",
       "      <th>reviewText</th>\n",
       "      <th>summary</th>\n",
       "    </tr>\n",
       "  </thead>\n",
       "  <tbody>\n",
       "    <tr>\n",
       "      <th>0</th>\n",
       "      <td>5.0</td>\n",
       "      <td>April 09, 2016</td>\n",
       "      <td>A2GIQGI2UXOZ4M</td>\n",
       "      <td>0439893577</td>\n",
       "      <td>Gene Sechrest</td>\n",
       "      <td>job big enough purpose fold flat fold stand gr...</td>\n",
       "      <td>ultimate kid magnetic board</td>\n",
       "    </tr>\n",
       "    <tr>\n",
       "      <th>1</th>\n",
       "      <td>5.0</td>\n",
       "      <td>October 27, 2017</td>\n",
       "      <td>A2M13JN7YVG29U</td>\n",
       "      <td>0528960911</td>\n",
       "      <td>Stacie Baugh</td>\n",
       "      <td>love</td>\n",
       "      <td>five star</td>\n",
       "    </tr>\n",
       "    <tr>\n",
       "      <th>2</th>\n",
       "      <td>5.0</td>\n",
       "      <td>December 31, 2014</td>\n",
       "      <td>A2ZVLGM9E6X2HY</td>\n",
       "      <td>0528960911</td>\n",
       "      <td>Michael Isgro</td>\n",
       "      <td>great money 15 look nice colorful</td>\n",
       "      <td>five star</td>\n",
       "    </tr>\n",
       "  </tbody>\n",
       "</table>\n",
       "</div>"
      ],
      "text/plain": [
       "   overall         reviewTime      reviewerID        asin   reviewerName                                         reviewText                      summary\n",
       "0      5.0     April 09, 2016  A2GIQGI2UXOZ4M  0439893577  Gene Sechrest  job big enough purpose fold flat fold stand gr...  ultimate kid magnetic board\n",
       "1      5.0   October 27, 2017  A2M13JN7YVG29U  0528960911   Stacie Baugh                                               love                    five star\n",
       "2      5.0  December 31, 2014  A2ZVLGM9E6X2HY  0528960911  Michael Isgro                  great money 15 look nice colorful                    five star"
      ]
     },
     "execution_count": 39,
     "metadata": {},
     "output_type": "execute_result"
    }
   ],
   "source": [
    "reviews_df.head(3)"
   ]
  },
  {
   "cell_type": "code",
   "execution_count": 40,
   "metadata": {},
   "outputs": [
    {
     "data": {
      "text/html": [
       "<div>\n",
       "<style scoped>\n",
       "    .dataframe tbody tr th:only-of-type {\n",
       "        vertical-align: middle;\n",
       "    }\n",
       "\n",
       "    .dataframe tbody tr th {\n",
       "        vertical-align: top;\n",
       "    }\n",
       "\n",
       "    .dataframe thead th {\n",
       "        text-align: right;\n",
       "    }\n",
       "</style>\n",
       "<table border=\"1\" class=\"dataframe\">\n",
       "  <thead>\n",
       "    <tr style=\"text-align: right;\">\n",
       "      <th></th>\n",
       "      <th>description</th>\n",
       "      <th>title</th>\n",
       "      <th>brand</th>\n",
       "      <th>feature</th>\n",
       "      <th>rank</th>\n",
       "      <th>main_cat</th>\n",
       "      <th>productPublishedDate</th>\n",
       "      <th>asin</th>\n",
       "    </tr>\n",
       "  </thead>\n",
       "  <tbody>\n",
       "    <tr>\n",
       "      <th>0</th>\n",
       "      <td>rotect rfid card skimsafe card holder made rig...</td>\n",
       "      <td>Black RFID Blocking ID Badge Holder (Holds 2 C...</td>\n",
       "      <td>Specialist ID</td>\n",
       "      <td>rfid blocking 2 card holder fips 201 approved ...</td>\n",
       "      <td>43</td>\n",
       "      <td>Office Products</td>\n",
       "      <td>October 14, 2011</td>\n",
       "      <td>B005VSY1VK</td>\n",
       "    </tr>\n",
       "    <tr>\n",
       "      <th>1</th>\n",
       "      <td>itten piano key mouse pad 8 x 8 x 25 made heav...</td>\n",
       "      <td>3dRose LLC 8 x 8 x 0.25 Inches Kitten on Piano...</td>\n",
       "      <td>3dRose</td>\n",
       "      <td>dimension inch 8 w x 8 h x 025 matte finish so...</td>\n",
       "      <td>1</td>\n",
       "      <td>Office Products</td>\n",
       "      <td>July 14, 2014</td>\n",
       "      <td>B00CX71JNU</td>\n",
       "    </tr>\n",
       "    <tr>\n",
       "      <th>2</th>\n",
       "      <td>ivo next favorite pen ultra gel stick vibrant ...</td>\n",
       "      <td>Vivo Ultra Gel Stick Pens, 0.7mm Fine Tip, Bla...</td>\n",
       "      <td>VIVO</td>\n",
       "      <td>ultra smooth gel ink vivid black amp color ful...</td>\n",
       "      <td>1</td>\n",
       "      <td>Office Products</td>\n",
       "      <td>April 30, 2009</td>\n",
       "      <td>B002CO43BO</td>\n",
       "    </tr>\n",
       "  </tbody>\n",
       "</table>\n",
       "</div>"
      ],
      "text/plain": [
       "                                         description                                              title          brand                                            feature  rank         main_cat productPublishedDate        asin\n",
       "0  rotect rfid card skimsafe card holder made rig...  Black RFID Blocking ID Badge Holder (Holds 2 C...  Specialist ID  rfid blocking 2 card holder fips 201 approved ...    43  Office Products     October 14, 2011  B005VSY1VK\n",
       "1  itten piano key mouse pad 8 x 8 x 25 made heav...  3dRose LLC 8 x 8 x 0.25 Inches Kitten on Piano...         3dRose  dimension inch 8 w x 8 h x 025 matte finish so...     1  Office Products        July 14, 2014  B00CX71JNU\n",
       "2  ivo next favorite pen ultra gel stick vibrant ...  Vivo Ultra Gel Stick Pens, 0.7mm Fine Tip, Bla...           VIVO  ultra smooth gel ink vivid black amp color ful...     1  Office Products       April 30, 2009  B002CO43BO"
      ]
     },
     "execution_count": 40,
     "metadata": {},
     "output_type": "execute_result"
    }
   ],
   "source": [
    "products_df.head(3)"
   ]
  },
  {
   "cell_type": "code",
   "execution_count": 41,
   "metadata": {},
   "outputs": [
    {
     "data": {
      "text/html": [
       "<div>\n",
       "<style scoped>\n",
       "    .dataframe tbody tr th:only-of-type {\n",
       "        vertical-align: middle;\n",
       "    }\n",
       "\n",
       "    .dataframe tbody tr th {\n",
       "        vertical-align: top;\n",
       "    }\n",
       "\n",
       "    .dataframe thead th {\n",
       "        text-align: right;\n",
       "    }\n",
       "</style>\n",
       "<table border=\"1\" class=\"dataframe\">\n",
       "  <thead>\n",
       "    <tr style=\"text-align: right;\">\n",
       "      <th></th>\n",
       "      <th>overall</th>\n",
       "      <th>reviewTime</th>\n",
       "      <th>reviewerID</th>\n",
       "      <th>asin</th>\n",
       "      <th>reviewerName</th>\n",
       "      <th>reviewText</th>\n",
       "      <th>summary</th>\n",
       "      <th>description</th>\n",
       "      <th>title</th>\n",
       "      <th>brand</th>\n",
       "      <th>feature</th>\n",
       "      <th>rank</th>\n",
       "      <th>main_cat</th>\n",
       "      <th>productPublishedDate</th>\n",
       "    </tr>\n",
       "  </thead>\n",
       "  <tbody>\n",
       "    <tr>\n",
       "      <th>0</th>\n",
       "      <td>5.0</td>\n",
       "      <td>April 09, 2016</td>\n",
       "      <td>A2GIQGI2UXOZ4M</td>\n",
       "      <td>0439893577</td>\n",
       "      <td>Gene Sechrest</td>\n",
       "      <td>job big enough purpose fold flat fold stand gr...</td>\n",
       "      <td>ultimate kid magnetic board</td>\n",
       "      <td>agnetic tabletop learning easel one simplestye...</td>\n",
       "      <td>Little Red Tool Box: Magnetic Tabletop Learnin...</td>\n",
       "      <td>Scholastic</td>\n",
       "      <td>fold flat easy storage open reveal giant 12 x ...</td>\n",
       "      <td>21</td>\n",
       "      <td>Office Products</td>\n",
       "      <td>November 25, 2006</td>\n",
       "    </tr>\n",
       "    <tr>\n",
       "      <th>1</th>\n",
       "      <td>5.0</td>\n",
       "      <td>October 27, 2017</td>\n",
       "      <td>A2M13JN7YVG29U</td>\n",
       "      <td>0528960911</td>\n",
       "      <td>Stacie Baugh</td>\n",
       "      <td>love</td>\n",
       "      <td>five star</td>\n",
       "      <td>yecatching 50 x 32 reference piece home classr...</td>\n",
       "      <td>Rand McNally M-Series Full-Color Laminated Uni...</td>\n",
       "      <td>Rand McNally</td>\n",
       "      <td>eyecatching 50 x 32 reference piece home class...</td>\n",
       "      <td>5</td>\n",
       "      <td>Office Products</td>\n",
       "      <td>April 18, 2006</td>\n",
       "    </tr>\n",
       "    <tr>\n",
       "      <th>2</th>\n",
       "      <td>5.0</td>\n",
       "      <td>December 31, 2014</td>\n",
       "      <td>A2ZVLGM9E6X2HY</td>\n",
       "      <td>0528960911</td>\n",
       "      <td>Michael Isgro</td>\n",
       "      <td>great money 15 look nice colorful</td>\n",
       "      <td>five star</td>\n",
       "      <td>yecatching 50 x 32 reference piece home classr...</td>\n",
       "      <td>Rand McNally M-Series Full-Color Laminated Uni...</td>\n",
       "      <td>Rand McNally</td>\n",
       "      <td>eyecatching 50 x 32 reference piece home class...</td>\n",
       "      <td>5</td>\n",
       "      <td>Office Products</td>\n",
       "      <td>April 18, 2006</td>\n",
       "    </tr>\n",
       "  </tbody>\n",
       "</table>\n",
       "</div>"
      ],
      "text/plain": [
       "   overall         reviewTime      reviewerID        asin   reviewerName                                         reviewText                      summary                                        description                                              title         brand                                            feature  rank         main_cat productPublishedDate\n",
       "0      5.0     April 09, 2016  A2GIQGI2UXOZ4M  0439893577  Gene Sechrest  job big enough purpose fold flat fold stand gr...  ultimate kid magnetic board  agnetic tabletop learning easel one simplestye...  Little Red Tool Box: Magnetic Tabletop Learnin...    Scholastic  fold flat easy storage open reveal giant 12 x ...    21  Office Products    November 25, 2006\n",
       "1      5.0   October 27, 2017  A2M13JN7YVG29U  0528960911   Stacie Baugh                                               love                    five star  yecatching 50 x 32 reference piece home classr...  Rand McNally M-Series Full-Color Laminated Uni...  Rand McNally  eyecatching 50 x 32 reference piece home class...     5  Office Products       April 18, 2006\n",
       "2      5.0  December 31, 2014  A2ZVLGM9E6X2HY  0528960911  Michael Isgro                  great money 15 look nice colorful                    five star  yecatching 50 x 32 reference piece home classr...  Rand McNally M-Series Full-Color Laminated Uni...  Rand McNally  eyecatching 50 x 32 reference piece home class...     5  Office Products       April 18, 2006"
      ]
     },
     "execution_count": 41,
     "metadata": {},
     "output_type": "execute_result"
    }
   ],
   "source": [
    "# merge the datasets\n",
    "df = pd.merge(reviews_df, products_df, on='asin', how='left')\n",
    "\n",
    "# Fill NaN values with appropriate values\n",
    "df['overall'] = df['overall'].fillna(0)  # Fill missing ratings with 0\n",
    "df['reviewerID'] = df['reviewerID'].fillna('Unknown')  # Fill missing user IDs with 'Unknown'\n",
    "df['asin'] = df['asin'].fillna('Unknown')  # Fill missing product IDs with 'Unknown'\n",
    "\n",
    "df.head(3)"
   ]
  },
  {
   "cell_type": "code",
   "execution_count": 42,
   "metadata": {},
   "outputs": [
    {
     "name": "stdout",
     "output_type": "stream",
     "text": [
      "Number of missing products: 0\n"
     ]
    }
   ],
   "source": [
    "reviewed_products = set(reviews_df['asin'].unique())\n",
    "product_dataset_products = set(products_df['asin'].unique())\n",
    "\n",
    "missing_products = reviewed_products - product_dataset_products\n",
    "num_missing_products = len(missing_products)\n",
    "\n",
    "print(f\"Number of missing products: {num_missing_products}\")\n"
   ]
  },
  {
   "cell_type": "code",
   "execution_count": 11,
   "metadata": {},
   "outputs": [],
   "source": [
    "from torch.utils.data import Dataset, DataLoader \n",
    "\n",
    "# class for the dataset\n",
    "class AmazonReviewDataset(Dataset):\n",
    "    def __init__(self, user_ids, item_ids, ratings, review_texts, product_titles, product_descriptions):\n",
    "        self.user_ids = user_ids\n",
    "        self.item_ids = item_ids\n",
    "        self.ratings = ratings\n",
    "        self.review_texts = review_texts\n",
    "        self.product_titles = product_titles\n",
    "        self.product_descriptions = product_descriptions\n",
    "\n",
    "    def __len__(self):\n",
    "        return len(self.user_ids)\n",
    "\n",
    "    def __getitem__(self, index):\n",
    "        user_id = self.user_ids[index]\n",
    "        item_id = self.item_ids[index]\n",
    "        rating = self.ratings[index]\n",
    "        review_text = self.review_texts[index]\n",
    "        product_title = self.product_titles[index]\n",
    "        product_description = self.product_descriptions[index]\n",
    "        return user_id, item_id, rating, review_text, product_title, product_description"
   ]
  },
  {
   "cell_type": "markdown",
   "metadata": {},
   "source": [
    "## Other data preparation for the model"
   ]
  },
  {
   "cell_type": "markdown",
   "metadata": {},
   "source": [
    "### User and product id mapping"
   ]
  },
  {
   "cell_type": "code",
   "execution_count": 12,
   "metadata": {},
   "outputs": [],
   "source": [
    "# Create user and item mappings\n",
    "user_mapping = {user_id: index for index, user_id in enumerate(reviews_df['reviewerID'].unique())}\n",
    "item_mapping = {item_id: index for index, item_id in enumerate(products_df['asin'].unique())}\n",
    "\n",
    "# Map user and item IDs to indices\n",
    "data['user_index'] = data['reviewerID'].map(user_mapping)\n",
    "data['item_index'] = data['asin'].map(item_mapping)"
   ]
  },
  {
   "cell_type": "markdown",
   "metadata": {},
   "source": [
    "### Embeddings"
   ]
  },
  {
   "cell_type": "code",
   "execution_count": null,
   "metadata": {},
   "outputs": [],
   "source": []
  },
  {
   "cell_type": "markdown",
   "metadata": {},
   "source": [
    "### Embed (SVD) from user-matrix pivot table"
   ]
  },
  {
   "cell_type": "code",
   "execution_count": null,
   "metadata": {},
   "outputs": [],
   "source": [
    "# create the pivot table with the user-item interactions (reviews)\n",
    "user_product_matrix = pd.pivot_table(df, values='overall', index='reviewerID', columns='asin', fill_value=0)"
   ]
  },
  {
   "cell_type": "code",
   "execution_count": null,
   "metadata": {},
   "outputs": [],
   "source": [
    "# number of users and items\n",
    "user_product_matrix.shape "
   ]
  },
  {
   "cell_type": "code",
   "execution_count": null,
   "metadata": {},
   "outputs": [],
   "source": [
    "def SVD_embeddings(user_item_matrix: pd.DataFrame, embedding_length):\n",
    "    \"\"\"\n",
    "    Apply SVD to the user-item matrix to obtain user and item embeddings.\n",
    "    U = m x r orthogonal left singular matrix, which represents the relationship between users and latent factors\n",
    "    S = r x r diagonal matrix, which describes the strength of each latent factor\n",
    "    V = r x n diagonal right singular matrix, which indicates the similarity between items and latent factors\n",
    "    \n",
    "    :param user_item_matrix: user-item matrix\n",
    "    :param embedding_length: number of latent factors, which is the dimensionality of the reduced space\n",
    "    \"\"\"\n",
    "    from scipy.sparse.linalg import svds\n",
    "    \n",
    "    # transpose the matrix to obtain the item-user matrix\n",
    "    # (this due to the large number of items compared to users)\n",
    "    matrix = user_item_matrix.values\n",
    "\n",
    "    U, Sigma, VT = svds(matrix, k=embedding_length)\n",
    "    user_embed_df = pd.DataFrame(U, index = user_item_matrix.index)\n",
    "    VT_T = np.transpose(VT)\n",
    "    item_embed_df = pd.DataFrame(VT_T, index=user_item_matrix.columns)\n",
    "    \n",
    "    return user_embed_df, item_embed_df"
   ]
  },
  {
   "cell_type": "code",
   "execution_count": null,
   "metadata": {},
   "outputs": [],
   "source": [
    "user_embed_df, item_embed_df = SVD_embeddings(user_product_matrix, 800)"
   ]
  },
  {
   "cell_type": "code",
   "execution_count": null,
   "metadata": {},
   "outputs": [],
   "source": [
    "utils.print_shapes(user_embed_df, item_embed_df)"
   ]
  },
  {
   "cell_type": "markdown",
   "metadata": {},
   "source": [
    "## Model"
   ]
  },
  {
   "cell_type": "markdown",
   "metadata": {},
   "source": [
    "### Vanilla SVD"
   ]
  },
  {
   "cell_type": "code",
   "execution_count": null,
   "metadata": {},
   "outputs": [],
   "source": [
    "# predictions with the the obrained SVD embeddings\n",
    "def predict_ratings(user_embed_df: pd.DataFrame, item_embed_df: pd.DataFrame, user_id: str, item_id: str):\n",
    "    \"\"\"\n",
    "    Predict the rating for a given user and item.\n",
    "    \n",
    "    :param user_embed_df: user embeddings\n",
    "    :param item_embed_df: item embeddings\n",
    "    :param user_id: user id\n",
    "    :param item_id: item id\n",
    "    \"\"\"\n",
    "    user_embedding = user_embed_df.loc[user_id]\n",
    "    item_embedding = item_embed_df.loc[item_id]\n",
    "    \n",
    "    \n",
    "    rating = np.dot(user_embedding, item_embedding)\n",
    "    return rating\n",
    "\n",
    "# example of prediction with a an item rated by a user\n",
    "user_id = user_product_matrix.index[0]\n",
    "\n",
    "# take the first product id rated by \"user_id\"\n",
    "# (thus an element that is not 0 in the user-product matrix)\n",
    "item_id = user_product_matrix.columns[user_product_matrix.loc[user_id] != 0].values[0]\n",
    "\n",
    "print(f'Predicted rating for user {user_id} and item {item_id}: {predict_ratings(user_embed_df, item_embed_df, user_id, item_id)}')"
   ]
  },
  {
   "cell_type": "code",
   "execution_count": null,
   "metadata": {},
   "outputs": [],
   "source": [
    "# see if the predictions are consistent with the actual ratings\n",
    "actual_rating = user_product_matrix.loc[user_id, item_id]\n",
    "\n",
    "actual_rating"
   ]
  },
  {
   "cell_type": "code",
   "execution_count": null,
   "metadata": {},
   "outputs": [],
   "source": [
    "np.dot(user_embed_df, item_embed_df.T)"
   ]
  },
  {
   "cell_type": "markdown",
   "metadata": {},
   "source": [
    "### Quick model test with SVD from scikit-surprise"
   ]
  },
  {
   "cell_type": "markdown",
   "metadata": {},
   "source": [
    "Quick performance check of SVD by using scikit-surprise:"
   ]
  },
  {
   "cell_type": "code",
   "execution_count": null,
   "metadata": {},
   "outputs": [],
   "source": [
    "from surprise import BaselineOnly, Dataset, SVD, Reader, accuracy, Trainset\n",
    "from surprise.model_selection import cross_validate, train_test_split, KFold\n",
    "\n",
    "# A reader is still needed but only the rating_scale param is requiered.\n",
    "reader = Reader(rating_scale=(1, 5))\n",
    "\n",
    "# The columns must correspond to user id, item id and ratings (in that order).\n",
    "data_test = Dataset.load_from_df(df[[\"reviewerID\", \"asin\", \"overall\"]], reader)\n",
    "\n",
    "# sample random trainset and testset\n",
    "# test set is made of 25% of the ratings.\n",
    "trainset, testset = train_test_split(data_test, test_size=0.25)\n",
    "\n",
    "# define a cross-validation iterator\n",
    "kf = KFold(n_splits=5)\n",
    "\n",
    "algo = SVD()\n",
    "\n",
    "for trainset, testset in kf.split(data_test):\n",
    "\n",
    "    # train and test algorithm.\n",
    "    algo.fit(trainset)\n",
    "    predictions = algo.test(testset)\n",
    "\n",
    "    # Compute and print Root Mean Squared Error\n",
    "    accuracy.rmse(predictions, verbose=True)"
   ]
  },
  {
   "cell_type": "code",
   "execution_count": null,
   "metadata": {},
   "outputs": [],
   "source": [
    "user_id = 'A1HBTW5M7ZZ9PT'\n",
    "test_user = reviews_df[reviews_df['reviewerID'] == user_id]\n",
    "item_id = 'B00006IEI7'\n",
    "\n",
    "test_user.head(5)"
   ]
  },
  {
   "cell_type": "code",
   "execution_count": null,
   "metadata": {},
   "outputs": [],
   "source": [
    "# get a prediction for specific users and items.\n",
    "pred = algo.predict(user_id, item_id, r_ui=5, verbose=True)"
   ]
  },
  {
   "cell_type": "markdown",
   "metadata": {},
   "source": [
    "### Neural Collaborative Filtering setup"
   ]
  },
  {
   "cell_type": "code",
   "execution_count": null,
   "metadata": {},
   "outputs": [],
   "source": [
    "import torch\n",
    "import torch.nn as nn\n",
    "\n",
    "# a first sketch of the NCF model\n",
    "class NCF(nn.Module):\n",
    "    def __init__(self, total_embed_length):\n",
    "        super(NCF, self).__init__()\n",
    "        self.total_embed_length = total_embed_length\n",
    "        \n",
    "        self.d1 = nn.Sequential(\n",
    "            nn.Linear(self.total_embed_length, 2048),\n",
    "            nn.ReLU(),\n",
    "            nn.Dropout(0.2),\n",
    "            nn.BatchNorm1d(2048)\n",
    "        )\n",
    "        \n",
    "        self.d2 = nn.Sequential(\n",
    "            nn.Linear(2048, 1024),\n",
    "            nn.ReLU(),\n",
    "            nn.Dropout(0.2),\n",
    "            nn.BatchNorm1d(1024)\n",
    "        )\n",
    "        \n",
    "        self.d3 = nn.Sequential(\n",
    "            nn.Linear(1024, 512),\n",
    "            nn.ReLU(),\n",
    "            nn.Dropout(0.2),\n",
    "            nn.BatchNorm1d(512)\n",
    "        )\n",
    "        \n",
    "        self.d4 = nn.Linear(512, 256)\n",
    "        self.d5 = nn.Linear(256, 64)\n",
    "        self.d6 = nn.Linear(64, 16)\n",
    "        self.out = nn.Linear(16, 1)\n",
    "        \n",
    "    def forward(self, x):\n",
    "        x = self.d1(x)\n",
    "        x = self.d2(x)\n",
    "        x = self.d3(x)\n",
    "        x = nn.ReLU()(self.d4(x))\n",
    "        x = nn.ReLU()(self.d5(x))\n",
    "        x = nn.ReLU()(self.d6(x))\n",
    "        out = nn.ReLU()(self.out(x))\n",
    "        return out"
   ]
  },
  {
   "cell_type": "code",
   "execution_count": null,
   "metadata": {},
   "outputs": [],
   "source": [
    "from tqdm import tqdm\n",
    "\n",
    "# model training\n",
    "def train(model, dataset, criterion, optimizer, num_epochs, batch_size):\n",
    "    model.train()  # Set the model to training mode\n",
    "    \n",
    "    for epoch in range(num_epochs):\n",
    "        running_loss = 0.0\n",
    "        num_batches = len(dataset) // batch_size\n",
    "        \n",
    "        for batch_idx in tqdm(range(num_batches)):\n",
    "            start_idx = batch_idx * batch_size\n",
    "            end_idx = start_idx + batch_size\n",
    "            \n",
    "            inputs = dataset[start_idx:end_idx, :-1].astype(np.float32)\n",
    "            labels = dataset[start_idx:end_idx, -1].astype(np.float32)\n",
    "            \n",
    "            inputs = torch.from_numpy(inputs)  # Convert inputs to PyTorch tensor\n",
    "            labels = torch.from_numpy(labels)  # Convert labels to PyTorch tensor\n",
    "            \n",
    "            optimizer.zero_grad()  # Clear the gradients\n",
    "            \n",
    "            outputs = model(inputs)  # Forward pass\n",
    "            loss = criterion(outputs, labels)  # Compute the loss\n",
    "            \n",
    "            loss.backward()  # Backward pass\n",
    "            optimizer.step()  # Update the weights\n",
    "            \n",
    "            running_loss += loss.item()\n",
    "        \n",
    "        epoch_loss = running_loss / num_batches\n",
    "        print(f\"Epoch {epoch+1}/{num_epochs}, Loss: {epoch_loss:.4f}\")\n",
    "    \n",
    "    print(\"Training complete!\")"
   ]
  },
  {
   "cell_type": "code",
   "execution_count": null,
   "metadata": {},
   "outputs": [],
   "source": [
    "data = pd.concat([user_embed_df, item_embed_df]).values\n",
    "batch_size = 32\n",
    "model = NCF(799)\n",
    "criterion = nn.MSELoss()\n",
    "optimizer = torch.optim.Adam(model.parameters())\n",
    "\n",
    "train(model, data, criterion, optimizer, num_epochs=10, batch_size=batch_size)"
   ]
  },
  {
   "cell_type": "markdown",
   "metadata": {},
   "source": [
    "### Overall setup"
   ]
  },
  {
   "cell_type": "code",
   "execution_count": null,
   "metadata": {},
   "outputs": [],
   "source": []
  }
 ],
 "metadata": {
  "kernelspec": {
   "display_name": "design-ai",
   "language": "python",
   "name": "python3"
  },
  "language_info": {
   "codemirror_mode": {
    "name": "ipython",
    "version": 3
   },
   "file_extension": ".py",
   "mimetype": "text/x-python",
   "name": "python",
   "nbconvert_exporter": "python",
   "pygments_lexer": "ipython3",
   "version": "3.12.2"
  }
 },
 "nbformat": 4,
 "nbformat_minor": 2
}
