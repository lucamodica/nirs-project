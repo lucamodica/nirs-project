{
 "cells": [
  {
   "cell_type": "code",
   "execution_count": 130,
   "metadata": {},
   "outputs": [],
   "source": [
    "import torch\n",
    "import torch.nn.functional as F\n",
    "import pandas as pd\n",
    "import utils\n",
    "import numpy as np"
   ]
  },
  {
   "cell_type": "code",
   "execution_count": 131,
   "metadata": {},
   "outputs": [],
   "source": [
    "original_reviews = utils.getDF('data/Office_Products_5.json.gz')\n",
    "original_products = utils.getDF('data/meta_Office_Products.json.gz')"
   ]
  },
  {
   "cell_type": "code",
   "execution_count": 132,
   "metadata": {},
   "outputs": [
    {
     "data": {
      "text/html": [
       "<div>\n",
       "<style scoped>\n",
       "    .dataframe tbody tr th:only-of-type {\n",
       "        vertical-align: middle;\n",
       "    }\n",
       "\n",
       "    .dataframe tbody tr th {\n",
       "        vertical-align: top;\n",
       "    }\n",
       "\n",
       "    .dataframe thead th {\n",
       "        text-align: right;\n",
       "    }\n",
       "</style>\n",
       "<table border=\"1\" class=\"dataframe\">\n",
       "  <thead>\n",
       "    <tr style=\"text-align: right;\">\n",
       "      <th></th>\n",
       "      <th>overall</th>\n",
       "      <th>reviewTime</th>\n",
       "      <th>reviewerID</th>\n",
       "      <th>asin</th>\n",
       "      <th>reviewerName</th>\n",
       "      <th>reviewText</th>\n",
       "      <th>summary</th>\n",
       "      <th>dayDifferenceReview</th>\n",
       "      <th>review_length</th>\n",
       "    </tr>\n",
       "  </thead>\n",
       "  <tbody>\n",
       "    <tr>\n",
       "      <th>0</th>\n",
       "      <td>4.0</td>\n",
       "      <td>November 07, 2017</td>\n",
       "      <td>A2NIJTYWADLK57</td>\n",
       "      <td>0140503528</td>\n",
       "      <td>cotton clay</td>\n",
       "      <td>kid like story really wanted board book one sm...</td>\n",
       "      <td>good story small size book though</td>\n",
       "      <td>0.967635</td>\n",
       "      <td>11</td>\n",
       "    </tr>\n",
       "  </tbody>\n",
       "</table>\n",
       "</div>"
      ],
      "text/plain": [
       "   overall         reviewTime      reviewerID        asin reviewerName  \\\n",
       "0      4.0  November 07, 2017  A2NIJTYWADLK57  0140503528  cotton clay   \n",
       "\n",
       "                                          reviewText  \\\n",
       "0  kid like story really wanted board book one sm...   \n",
       "\n",
       "                             summary  dayDifferenceReview  review_length  \n",
       "0  good story small size book though             0.967635             11  "
      ]
     },
     "execution_count": 132,
     "metadata": {},
     "output_type": "execute_result"
    }
   ],
   "source": [
    "all_products = pd.read_csv('data/products_sampled_processed.csv')\n",
    "all_reviews = pd.read_csv('data/reviews_sampled_processed.csv')\n",
    "\n",
    "all_reviews['review_length'] = all_reviews['reviewText'].apply(lambda x: len(x.split()))\n",
    "all_reviews['review_length'] = all_reviews['review_length']\n",
    "\n",
    "all_reviews.head(1)"
   ]
  },
  {
   "cell_type": "code",
   "execution_count": 133,
   "metadata": {},
   "outputs": [],
   "source": [
    "rev_embeddings = torch.load('data/review_embeddings.pt')\n",
    "summ_embeddings = torch.load('data/summary_embeddings.pt')\n",
    "desc_embeddings = torch.load('data/description_embeddings.pt')\n",
    "titles_embeddings = torch.load('data/title_embeddings.pt')\n",
    "features_embeddings = torch.load('data/feature_embeddings.pt')\n",
    "brand_embeddings = torch.load('data/brand_embeddings.pt')"
   ]
  },
  {
   "cell_type": "code",
   "execution_count": 134,
   "metadata": {},
   "outputs": [],
   "source": [
    "product_embeddings_average = torch.mean(torch.stack([desc_embeddings, titles_embeddings, features_embeddings, brand_embeddings]), dim=0)\n",
    "user_embeddings_average = torch.mean(torch.stack([rev_embeddings, summ_embeddings]), dim=0)\n"
   ]
  },
  {
   "cell_type": "code",
   "execution_count": 135,
   "metadata": {},
   "outputs": [],
   "source": [
    "product_embeddings_map = {}\n",
    "for i, row in all_products.iterrows():\n",
    "    product_id = row['asin']\n",
    "    product_embeddings_map[product_id] = product_embeddings_average[i]"
   ]
  },
  {
   "cell_type": "code",
   "execution_count": 136,
   "metadata": {},
   "outputs": [],
   "source": [
    "def calculate_weight(row):\n",
    "    \n",
    "    review = all_reviews.iloc[row]\n",
    "\n",
    "    rating = review['overall']\n",
    "    rating = rating / 5\n",
    "    recencie = review['reviewTime']\n",
    "    recencie = int(recencie.split(' ')[-1])\n",
    "    recencie = recencie / 2021\n",
    "    length = review['review_length']\n",
    "\n",
    "    length = length / 20\n",
    "    \n",
    "    combined_weight = (rating + recencie + length) / 3\n",
    "    \n",
    "    return combined_weight"
   ]
  },
  {
   "cell_type": "code",
   "execution_count": 137,
   "metadata": {},
   "outputs": [],
   "source": [
    "user_embeddings_map = {}\n",
    "for i, row in all_reviews.iterrows():\n",
    "    user_id = row['reviewerID']\n",
    "    if user_id not in user_embeddings_map:\n",
    "        user_embeddings_map[user_id] = [user_embeddings_average[i]]\n",
    "    else:\n",
    "        user_embeddings_map[user_id].append(user_embeddings_average[i])\n",
    "\n",
    "for user_id in user_embeddings_map:\n",
    "    user_embeddings_map[user_id] = torch.mean(torch.stack(user_embeddings_map[user_id]), dim=0)\n"
   ]
  },
  {
   "cell_type": "code",
   "execution_count": 138,
   "metadata": {},
   "outputs": [],
   "source": [
    "all_reviews['user_embeddings'] = all_reviews['reviewerID'].apply(lambda x: user_embeddings_map[x])\n",
    "all_reviews['product_embeddings'] = all_reviews['asin'].apply(lambda x: product_embeddings_map[x])\n",
    "all_products['product_embeddings'] = all_products['asin'].apply(lambda x: product_embeddings_map[x])\n"
   ]
  },
  {
   "cell_type": "code",
   "execution_count": 139,
   "metadata": {},
   "outputs": [
    {
     "name": "stdout",
     "output_type": "stream",
     "text": [
      "Minimum user similarity: AN1JBPWLTNJQQ 0.8226282596588135\n"
     ]
    },
    {
     "data": {
      "text/plain": [
       "{'A10HH1WCT8AW4G': array(['I sell books on Amazon and needed a box that fit well for single book shipments.  This is the second time I have ordered these boxes. There are two fold lines to adjust the box to fit the book.  This time it was a little harder to find one of the fold lines but overall the box works perfectly for my use. I would recommend this box and will order it again.',\n",
       "        'I sell books on Amazon and needed a box that fit well for single book shipments.  This is the second time I have ordered these boxes. There are two fold lines to adjust the box to fit the book.  This time it was a little harder to find one of the fold lines but overall the box works perfectly for my use. I would recommend this box and will order it again.',\n",
       "        'If I purchase HP901 Tri-Color ink, it lasts a lot longer. My package arrive torn and partially open but that probably happened during shipment because it has never happened with this vendor.  The cartridge was not damaged.  My last cartridge was not Tri-Color and lasted 2 or 3 weeks.  This one is worth itand was cheaper than my HP901XL black.',\n",
       "        'Really like my new printer.',\n",
       "        'It is hard to review something that would be hard to mess up.  I ordered these because they are large, come in colors and were the price. They work fine.'],\n",
       "       dtype=object),\n",
       " 'A3VRRU3RA6PPX4': array([\"I really love these correction tapes.  They work smoothly and cover the images being corrected perfectly.  I've bought other brands but like these the best and will order them again.\",\n",
       "        'Works well and great price. Will order again and again. Why spend more if its not necessary to do so.',\n",
       "        'Very, very fast shipment.  That together with the great price makes this a very good purchase.  I will buy them again.',\n",
       "        'The pencils are great and work just as pencils should.  Smooth writing with easy erasure.  Item came quickly and was a good price.',\n",
       "        \"I bought two of these and both came dented.  I didn't return them in time so now I have expensive trash\"],\n",
       "       dtype=object),\n",
       " 'A1JHOUZ5TN1EX': array(['Elegantly feminine. Well made. Great length. Super strong. Beautifully braided. Highly recommend.',\n",
       "        \"Great little covers.  Protection these days it #1 when you're out and about, so everyone needs these.  I also was surprised at the generous amount that I received.\",\n",
       "        \"They're okay.  All of them came broken up, so putting them in the stapler was a challenge; however, I got them in.  I was disappointed because I expected more from this brand.  You can barely notice the color when you staple pages.\",\n",
       "        \"First of all, it took time, effort and research to get my new Brother to accept this cartridge.  It was a real problem.  Then, after all the time it took, it only produced 600 pages.  That's a huge difference in what this vendor stated it would do.  It arrived with ink 'dust' spilled all over the cartridge when I opened it and also left ink stains in different places on my pages.  Not well done at all.  I won't buy from them again.\",\n",
       "        'Smooth and effortless writing.'], dtype=object),\n",
       " 'A1FIZT8SAYQG5B': array(['I have bought this brand several times for several printers. Not perfect, but the price is so much cheaper than the OEM products.  When it says it is low, it still goes for a long time. You have to keep taking it out and shaking it.',\n",
       "        'excellent. exactly as described.',\n",
       "        'My favorite pen. I use them all day every day and have for many years.',\n",
       "        'Good to use as alternative to bubble wrap for padding.',\n",
       "        \"It's magic.  I talk to it and it goes up and down without touching it.\"],\n",
       "       dtype=object),\n",
       " 'A1S325M3126Y44': array(['Not as smooth as I expected them to write, but they are worth a try!',\n",
       "        'Perfect bags for my pens. I ship handmade items all over the world, and even when one comes back from a bad address this bag is still sealed tight.',\n",
       "        \"I ship a lot of handmade items from my home as I make them, and these are just the ticket. The material is tough and the seal is strong and tamper-proof. I'll order again as soon as I need them.\",\n",
       "        \"Best investment in my shop I've made since I bought my lathe.  A sharp pencil makes a huge difference in quality work!\",\n",
       "        \"These are perfect. Good strong adhesive, and quick shipping. Exactly what I need -- I'll be ordering again!\"],\n",
       "       dtype=object)}"
      ]
     },
     "execution_count": 139,
     "metadata": {},
     "output_type": "execute_result"
    }
   ],
   "source": [
    "user = all_reviews['reviewerID'].sample(1).values[0]\n",
    "\n",
    "reviews_sample = all_reviews.sample(frac=0.5)\n",
    "user_embeddings = all_reviews[all_reviews['reviewerID'] == user]['user_embeddings'].values[0]\n",
    "\n",
    "other_users_similaties = {}\n",
    "for i, row in reviews_sample.iterrows():\n",
    "    other_user = row['reviewerID']\n",
    "    other_user_embedding = row['user_embeddings']\n",
    "    other_users_similaties[other_user] = F.cosine_similarity(user_embeddings, other_user_embedding, dim=0).item()\n",
    "\n",
    "print(\"Minimum user similarity:\", min(other_users_similaties, key=other_users_similaties.get), min(other_users_similaties.values()))\n",
    "\n",
    "\n",
    "\n",
    "sorted_users = sorted(other_users_similaties.items(), key=lambda x: x[1], reverse=True)\n",
    "\n",
    "\n",
    "top_users = sorted_users[:5]\n",
    "top_users_reviews = {}\n",
    "for u, _ in top_users:\n",
    "    user_reviews = original_reviews[original_reviews['reviewerID'] == u]\n",
    "    top_users_reviews[u] = user_reviews.sample(5)['reviewText'].values\n",
    "\n",
    "top_users_reviews\n"
   ]
  },
  {
   "cell_type": "code",
   "execution_count": 140,
   "metadata": {},
   "outputs": [],
   "source": [
    "product = all_products['asin'].sample(1).values[0]\n",
    "product_embeddings = all_products[all_products['asin'] == product]['product_embeddings'].values[0]\n",
    "\n",
    "other_products_similaties = {}\n",
    "for i, row in all_products.iterrows():\n",
    "    other_product = row['asin']\n",
    "    if other_product != product:\n",
    "        other_product_embedding = row['product_embeddings']\n",
    "        other_products_similaties[other_product] = F.cosine_similarity(product_embeddings, other_product_embedding, dim=0).item()\n",
    "\n",
    "sorted_products = sorted(other_products_similaties.items(), key=lambda x: x[1], reverse=True)\n",
    "\n",
    "top_products = sorted_products[:5]\n"
   ]
  },
  {
   "cell_type": "code",
   "execution_count": 141,
   "metadata": {},
   "outputs": [
    {
     "name": "stdout",
     "output_type": "stream",
     "text": [
      "B001U885CQ\n"
     ]
    },
    {
     "data": {
      "text/plain": [
       "[('B001U885CG', 0.9997738599777222),\n",
       " ('B001U885DU', 0.9956530332565308),\n",
       " ('B00136523K', 0.9932079911231995),\n",
       " ('B007PV3Z0E', 0.9931053519248962),\n",
       " ('B00IXQ2LGY', 0.9919257760047913)]"
      ]
     },
     "execution_count": 141,
     "metadata": {},
     "output_type": "execute_result"
    }
   ],
   "source": [
    "print(product)\n",
    "top_products"
   ]
  },
  {
   "cell_type": "code",
   "execution_count": 142,
   "metadata": {},
   "outputs": [
    {
     "name": "stdout",
     "output_type": "stream",
     "text": [
      "B001U885CQ igh quality 2roller system maximum laminating width 13 accepts hot film 35 mil thick laminate speed 118 per min ready time 5 minute patented cooling guide bar hot laminated item lay flat cool photo lamination possible hot shoe heating method easy use button control temperature easy read led displa\n"
     ]
    },
    {
     "data": {
      "text/plain": [
       "{'B001U885CG': ['High quality 2-roller system. Maximum laminating width of 9\" .Accepts hot film 3-5 mil thick .Laminates at a speed of 1.18\\' per min Ready time of about 5 minutes . Patented cooling guide bars all hot laminated items to lay flat and cool .Photo lamination possible .Hot shoe heating method ~ Easy to use buttons control temperature .Easy to read LED display'],\n",
       " 'B001U885DU': ['4-roller system helps provide bubble and wrinkle-free lamination .Maximum laminating width of 12\" .Accepts hot film 3-10 mil thick .Laminates at a speed of 1.3\\' per min .Quick ready time of about 3 minutes .Easy to use soft touch controls to adjust temperature .Heat plate heating method. Easy to read LED display'],\n",
       " 'B00136523K': [\"Royal Sovereign's APL-330U 13&quot; laminator is a great solution for photo and document laminating applications found for the home and office environment. The APL-330U utilizes a quality and reliable 4-roller system that provides professional and clean lamination finishes with no bubbling, wrinkling, curling, and hazing. It is also capable of laminating hot heat sealed or cold self adhesive lamination film 3-7 mil thick. No need to worry about jammed or misfed documents, as the auto and manual reverse function will assist users in the recovery of laminated materials. The laminator also boasts easy operation controls, with a 1 button temperature control interface and a blinking power light will glow steady to signify that the laminator is warm enough to begin lamination. Automatic shut off provides energy saving benefit and additional safety. Cooling plate and fan cools down thermal laminating pouches as it exits the laminator. Automatic cooling system will continue to turn rollers after shut off to cool down the rollers, extending product life span.\"],\n",
       " 'B007PV3Z0E': ['The Royal Sovereign ES-915 9\" Photo and Document laminator is ideal for light home and business lamination needs. The 9.4\" wide entry feed accommodates most document sizes found around the home and office. The ES-915 can laminate hot or cold pouch film, 3-7 mil in thickness. The reverse button located on the back allows for reverse rolling, allowing the recovery of jammed material and the patented cooling tray allows laminated material to rest and settle before handling. Protect, preserve, and enhance everything from resumes, photos, menus, displays, luggage tags, business cards, presentation materials, ID cards, and much more!<br>Upload spec sheet and manual'],\n",
       " 'B00IXQ2LGY': ['Simple - Insert VinylSleeve and objects to be laminated into carrier enclosed. Feed carrier into slot. Laminated card is automatically fed through the back of the unit. Versatile - laminates up to 8.5\" x 14\" in seconds, or can be precut for smaller sizes']}"
      ]
     },
     "execution_count": 142,
     "metadata": {},
     "output_type": "execute_result"
    }
   ],
   "source": [
    "top_products_descriptions = {}\n",
    "for p, _ in top_products:\n",
    "    product_description = original_products[original_products['asin'] == p]['description'].values[0]\n",
    "    top_products_descriptions[p] = product_description\n",
    "\n",
    "print(product, all_products[all_products['asin'] == product]['description'].values[0])\n",
    "top_products_descriptions"
   ]
  },
  {
   "cell_type": "code",
   "execution_count": 143,
   "metadata": {},
   "outputs": [
    {
     "data": {
      "text/plain": [
       "[('B009GAOOF2', 0.9907962679862976),\n",
       " ('B002W6ZVD6', 0.989658772945404),\n",
       " ('B002A109NA', 0.9887592196464539),\n",
       " ('B0037B91NQ', 0.9885908961296082),\n",
       " ('B00O9HABPE', 0.9883636236190796)]"
      ]
     },
     "execution_count": 143,
     "metadata": {},
     "output_type": "execute_result"
    }
   ],
   "source": [
    "other_products_similaties = {}\n",
    "for i, row in all_products.iterrows():\n",
    "    other_product = row['asin']\n",
    "    other_product_embedding = row['product_embeddings']\n",
    "    other_products_similaties[other_product] = F.cosine_similarity(user_embeddings, other_product_embedding, dim=0).item()\n",
    "\n",
    "\n",
    "sorted_products = sorted(other_products_similaties.items(), key=lambda x: x[1], reverse=True)\n",
    "\n",
    "\n",
    "top_products = sorted_products[:5]\n",
    "\n",
    "top_products\n"
   ]
  },
  {
   "cell_type": "code",
   "execution_count": 144,
   "metadata": {},
   "outputs": [
    {
     "data": {
      "text/plain": [
       "{'B009GAOOF2': ['You\\'ll be able to carry all you\\'ll ever need when you\\'re out on the town: ID, credit card, business cards, and a little cash. This Id case measures approximately 4\" x 2 7/8\" x 7/8\".'],\n",
       " 'B002W6ZVD6': ['This sophisticated set comes with'],\n",
       " 'B002A109NA': ['\"I need more money and power and less shit from you people\". Retro design humor will bring a smile to your face. She is only saying what we are all thinking anyway. Very nice quality.'],\n",
       " 'B0037B91NQ': [\"Never forget another appointment againadd a littlegifts sticky note to your agenda book and you'll not only be on time but going in style.\"],\n",
       " 'B00O9HABPE': ['Multipurpose']}"
      ]
     },
     "execution_count": 144,
     "metadata": {},
     "output_type": "execute_result"
    }
   ],
   "source": [
    "top_products_descriptions = {}\n",
    "for p, _ in top_products:\n",
    "    product_description = original_products[original_products['asin'] == p]['description'].values[0]\n",
    "    top_products_descriptions[p] = product_description\n",
    "\n",
    "top_products_descriptions"
   ]
  },
  {
   "cell_type": "code",
   "execution_count": 145,
   "metadata": {},
   "outputs": [
    {
     "name": "stdout",
     "output_type": "stream",
     "text": [
      "torch.Size([233462, 768])\n",
      "torch.Size([233462, 768])\n",
      "torch.Size([233462, 768])\n",
      "torch.Size([233462, 768])\n",
      "torch.Size([661468, 768])\n",
      "torch.Size([661468, 768])\n"
     ]
    }
   ],
   "source": [
    "print(desc_embeddings.shape)\n",
    "print(titles_embeddings.shape)\n",
    "print(features_embeddings.shape)\n",
    "print(brand_embeddings.shape)\n",
    "print(rev_embeddings.shape)\n",
    "print(summ_embeddings.shape)\n"
   ]
  },
  {
   "cell_type": "code",
   "execution_count": 146,
   "metadata": {},
   "outputs": [
    {
     "data": {
      "text/plain": [
       "{3: 0.995256781578064,\n",
       " 0: 0.9751606583595276,\n",
       " 2: 0.9869819283485413,\n",
       " 1: 0.9920946359634399,\n",
       " 4: 0.9921297430992126}"
      ]
     },
     "execution_count": 146,
     "metadata": {},
     "output_type": "execute_result"
    }
   ],
   "source": [
    "from sklearn.cluster import KMeans\n",
    "\n",
    "users = list(user_embeddings_map.keys())\n",
    "users_embeddings = torch.stack([user_embeddings_map[u] for u in users])\n",
    "kmeans = KMeans(n_clusters=5, random_state=0).fit(users_embeddings)\n",
    "clusters = kmeans.predict(users_embeddings)\n",
    "\n",
    "users_clusters = {}\n",
    "for i, c in enumerate(clusters):\n",
    "    if c not in users_clusters:\n",
    "        users_clusters[c] = [users[i]]\n",
    "    else:\n",
    "        users_clusters[c].append(users[i])\n",
    "\n",
    "users_clusters_instances = {}\n",
    "for c in users_clusters:\n",
    "    users_clusters_instances[c] = users_clusters[c][:2]\n",
    "\n",
    "users_clusters_instances\n",
    "\n",
    "users_similarities = {}\n",
    "for c in users_clusters_instances:\n",
    "    u1 = users_clusters_instances[c][0]\n",
    "    u2 = users_clusters_instances[c][1]\n",
    "    u1_embedding = user_embeddings_map[u1]\n",
    "    u2_embedding = user_embeddings_map[u2]\n",
    "    users_similarities[c] = F.cosine_similarity(u1_embedding, u2_embedding, dim=0).item()\n",
    "\n",
    "users_similarities\n",
    "\n"
   ]
  },
  {
   "cell_type": "code",
   "execution_count": 147,
   "metadata": {},
   "outputs": [
    {
     "data": {
      "text/plain": [
       "{2: 0.9625016450881958,\n",
       " 1: 0.9685355424880981,\n",
       " 3: 0.9877108931541443,\n",
       " 4: 0.9732388854026794,\n",
       " 0: 0.9583519697189331}"
      ]
     },
     "execution_count": 147,
     "metadata": {},
     "output_type": "execute_result"
    }
   ],
   "source": [
    "products = list(product_embeddings_map.keys())\n",
    "products_embeddings = torch.stack([product_embeddings_map[p] for p in products])\n",
    "kmeans = KMeans(n_clusters=5, random_state=0).fit(products_embeddings)\n",
    "\n",
    "clusters = kmeans.predict(products_embeddings)\n",
    "\n",
    "products_clusters = {}\n",
    "for i, c in enumerate(clusters):\n",
    "    if c not in products_clusters:\n",
    "        products_clusters[c] = [products[i]]\n",
    "    else:\n",
    "        products_clusters[c].append(products[i])\n",
    "\n",
    "products_clusters_instances = {}\n",
    "for c in products_clusters:\n",
    "    products_clusters_instances[c] = products_clusters[c][:2]\n",
    "\n",
    "products_clusters_instances\n",
    "\n",
    "products_similarities = {}\n",
    "for c in products_clusters_instances:\n",
    "    p1 = products_clusters_instances[c][0]\n",
    "    p2 = products_clusters_instances[c][1]\n",
    "    p1_embedding = product_embeddings_map[p1]\n",
    "    p2_embedding = product_embeddings_map[p2]\n",
    "    products_similarities[c] = F.cosine_similarity(p1_embedding, p2_embedding, dim=0).item()\n",
    "\n",
    "products_similarities\n",
    "        "
   ]
  }
 ],
 "metadata": {
  "kernelspec": {
   "display_name": "projects",
   "language": "python",
   "name": "python3"
  },
  "language_info": {
   "codemirror_mode": {
    "name": "ipython",
    "version": 3
   },
   "file_extension": ".py",
   "mimetype": "text/x-python",
   "name": "python",
   "nbconvert_exporter": "python",
   "pygments_lexer": "ipython3",
   "version": "3.12.2"
  }
 },
 "nbformat": 4,
 "nbformat_minor": 2
}
