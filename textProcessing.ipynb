{
 "cells": [
  {
   "cell_type": "code",
   "execution_count": 16,
   "metadata": {},
   "outputs": [],
   "source": [
    "def save_sampled_data(reviews_df, products_df, reviews_file, products_file):\n",
    "    reviews_df.to_csv(reviews_file, index=False)\n",
    "    products_df.to_csv(products_file, index=False)\n",
    "\n",
    "#save_sampled_data(df_reviews_sampled, df_products_sampled, 'data/reviews_sampled.csv', 'data/products_sampled.csv')"
   ]
  },
  {
   "cell_type": "code",
   "execution_count": 7,
   "metadata": {},
   "outputs": [
    {
     "data": {
      "text/plain": [
       "(22287, 14)"
      ]
     },
     "execution_count": 7,
     "metadata": {},
     "output_type": "execute_result"
    }
   ],
   "source": [
    "# test reading from the csv\n",
    "import pandas as pd\n",
    "df_reviews_sampled = pd.read_csv('data/reviews_sampled.csv')\n",
    "df_products_sampled = pd.read_csv('data/products_sampled.csv')\n",
    "df_products_sampled = df_products_sampled[df_products_sampled['main_cat'] == 'Office Products']\n",
    "\n",
    "df_products_sampled.shape"
   ]
  },
  {
   "cell_type": "code",
   "execution_count": 8,
   "metadata": {},
   "outputs": [],
   "source": [
    "import re\n",
    "import string\n",
    "from bs4 import BeautifulSoup\n",
    "from unidecode import unidecode\n",
    "from textblob import TextBlob\n",
    "import nltk\n",
    "from nltk.tokenize import word_tokenize\n",
    "from nltk.corpus import stopwords\n",
    "from nltk.stem import WordNetLemmatizer\n",
    "from sklearn.base import BaseEstimator, TransformerMixin\n",
    "from sklearn.pipeline import Pipeline\n",
    "from sklearn.feature_extraction.text import TfidfVectorizer\n",
    "\n",
    "\n",
    "class TextPreprocessor(BaseEstimator, TransformerMixin):\n",
    "    def __init__(self):\n",
    "        self.stop_words = set(stopwords.words('english'))\n",
    "        self.lemmatizer = WordNetLemmatizer()\n",
    "\n",
    "    def fit(self, X, y=None):\n",
    "        return self\n",
    "\n",
    "    def transform(self, X):\n",
    "        return [self._preprocess(text) for text in X]\n",
    "\n",
    "    def _preprocess(self, text):\n",
    "        # Lowercasing\n",
    "        text = text.lower()\n",
    "        # Remove accented characters\n",
    "        text = unidecode(text)\n",
    "        \n",
    "        # Remove numbers\n",
    "        text = re.sub(r'\\d+', '', text)\n",
    "        \n",
    "        # remove punctuation\n",
    "        text = re.sub('[%s]' % re.escape(string.punctuation), '', text)\n",
    "        \n",
    "        # remove double spaces\n",
    "        text = re.sub(' +', ' ', text)\n",
    "        \n",
    "        # Tokenize text\n",
    "        words = word_tokenize(text)\n",
    "        # Remove stopwords and lemmatize\n",
    "        words = [self.lemmatizer.lemmatize(\n",
    "            word) for word in words if word not in self.stop_words]\n",
    "        \n",
    "        return ' '.join(words)"
   ]
  },
  {
   "cell_type": "code",
   "execution_count": 20,
   "metadata": {},
   "outputs": [],
   "source": [
    "preprocessor = TextPreprocessor()\n",
    "\n",
    "df_reviews_sampled['summary'] = df_reviews_sampled['summary'].dropna().astype(str)\n",
    "df_reviews_sampled['summary'] = df_reviews_sampled['summary'].astype(str)\n",
    "df_reviews_sampled['summary'] = preprocessor.fit_transform(df_reviews_sampled['summary'])\n",
    "df_reviews_sampled = df_reviews_sampled[df_reviews_sampled['summary'] != '']\n",
    "\n",
    "df_reviews_sampled['reviewText'] = df_reviews_sampled['reviewText'].dropna().astype(str)\n",
    "df_reviews_sampled['reviewText'] = df_reviews_sampled['reviewText'].astype(str)\n",
    "df_reviews_sampled['reviewText'] = preprocessor.fit_transform(df_reviews_sampled['reviewText'])\n",
    "df_reviews_sampled = df_reviews_sampled[df_reviews_sampled['reviewText'] != '']"
   ]
  },
  {
   "cell_type": "code",
   "execution_count": 14,
   "metadata": {},
   "outputs": [],
   "source": [
    "df_products_sampled['description'] = df_products_sampled['description'].dropna()\n",
    "df_products_sampled['description'] = df_products_sampled['description'].astype(str)\n",
    "df_products_sampled['description'] = preprocessor.fit_transform(df_products_sampled['description'])\n",
    "df_products_sampled = df_products_sampled[df_products_sampled['description'] != '']"
   ]
  },
  {
   "cell_type": "code",
   "execution_count": 23,
   "metadata": {},
   "outputs": [
    {
     "data": {
      "text/plain": [
       "reviewText    90\n",
       "summary       96\n",
       "dtype: int64"
      ]
     },
     "execution_count": 23,
     "metadata": {},
     "output_type": "execute_result"
    }
   ],
   "source": [
    "def count_nan_values(df):\n",
    "    nan_counts = df.isna().sum()\n",
    "    return nan_counts[nan_counts > 0]\n",
    "\n",
    "def count_empty_strings(df):\n",
    "    empty_string_counts = (df == '').sum()\n",
    "    return empty_string_counts[empty_string_counts > 0]\n",
    "\n",
    "\n",
    "count_nan_values(df_reviews_sampled)\n",
    "count_empty_strings(df_reviews_sampled)"
   ]
  },
  {
   "cell_type": "code",
   "execution_count": 17,
   "metadata": {},
   "outputs": [],
   "source": [
    "save_sampled_data(df_reviews_sampled, df_products_sampled, 'data/reviews_sampled_processed.csv', 'data/products_sampled_processed.csv')"
   ]
  }
 ],
 "metadata": {
  "kernelspec": {
   "display_name": "projects",
   "language": "python",
   "name": "python3"
  },
  "language_info": {
   "codemirror_mode": {
    "name": "ipython",
    "version": 3
   },
   "file_extension": ".py",
   "mimetype": "text/x-python",
   "name": "python",
   "nbconvert_exporter": "python",
   "pygments_lexer": "ipython3",
   "version": "3.12.2"
  }
 },
 "nbformat": 4,
 "nbformat_minor": 2
}
